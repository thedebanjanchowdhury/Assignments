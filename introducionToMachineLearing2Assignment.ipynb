{
 "cells": [
  {
   "cell_type": "markdown",
   "id": "bbfc60f4-71b8-426b-8a72-34585d6f8e08",
   "metadata": {},
   "source": [
    "# Introduction to Machine Learning-2 Assignment"
   ]
  },
  {
   "cell_type": "markdown",
   "id": "6fccf97d-5fe3-4027-b8b3-711d24c93656",
   "metadata": {},
   "source": [
    "#### Q1. Define overfitting and underfitting in machine learning model. What are the consequences of each, and how they can be prevented?"
   ]
  },
  {
   "cell_type": "markdown",
   "id": "bc891aca-1f7f-40ae-9558-422fba3f2950",
   "metadata": {},
   "source": [
    "**Overfitting:**\n",
    "- Overfitting occurs when the model learns the data too well, capturing noise and fluctuations in the data rather than underlying patterns.\n",
    "- An overfit model performs very well on the training data but poorly on validation or testing data, also instead of learnning the true underlying patterns, the model may memorize the noise in the data, leading to incorrect predictions\n",
    "- For preventing these, we can select relevant feature and remove irrelevent/noisy ones in the dataset, also by building simpler model architecture with fewer layers."
   ]
  },
  {
   "cell_type": "markdown",
   "id": "02a5c39f-aa08-43d1-ab6f-f11c3ac63ad6",
   "metadata": {},
   "source": [
    "**Underfitting:**\n",
    "- Underfitting occurs when a machine learning model is too simple to capture the underlying patterns in the training data. It fails to learn the data's complexities.\n",
    "- An underfit model has high bias and doesnot fit the training data, also valueable information in the data may left unexplored.\n",
    "- For prevention, we may create more informative features to transform existing features to help the model capture underlying patterns."
   ]
  },
  {
   "cell_type": "markdown",
   "id": "755317d8-3813-4167-b436-f99ef87c7dfd",
   "metadata": {},
   "source": [
    "#### Q2. How can we reduce overfitting? Explain in brief."
   ]
  },
  {
   "cell_type": "markdown",
   "id": "a416b7ff-4a25-4caa-9708-503dc4fe7146",
   "metadata": {},
   "source": [
    "Several techniques to help reducing overfitting:\n",
    "- Use k-fold cross-validation to assess the model's performance on multiple subsets of the data. This helps you geta better estimate of how well the model will generalize the new data.\n",
    "- Apply regularization techniques to penalize overly complex models.\n",
    "- Carefully select relevant features and remove irrelevant or noisy ones. Feature selection can simplfy the model.\n",
    "- Increasing the size of your training dataset can help reducing overfit.\n",
    "- Using a simple model architecture with fewer layers, modules and nodes is less likely to overfit."
   ]
  },
  {
   "cell_type": "markdown",
   "id": "fa38fdb7-b9eb-40d4-9880-008a4ab31900",
   "metadata": {},
   "source": [
    "#### Q3. Explain underfitting. List scenerarios where underfitting may occur."
   ]
  },
  {
   "cell_type": "markdown",
   "id": "0e727632-e1ff-47fe-af69-f17ec7e346b7",
   "metadata": {},
   "source": [
    "Underfitting issue occur when the model is too simple and lacks underlying the training data. When a model underfits the data, it performs poorly not only in the training data but also new, unseen data.\n",
    "- Using simple linear regression to complex, non linear data will occur underfit based on the dataset.\n",
    "- Choosing a model which is too simple, while the data being complex may cause underfitting.\n",
    "- Having a small dataset may lead to underfitting because the model lacks of data for finding patterns."
   ]
  },
  {
   "cell_type": "markdown",
   "id": "bdb0e544-dbf3-4457-8329-8e91d79887e1",
   "metadata": {},
   "source": [
    "#### Q4. Explain bias-variance tradeoff in machine learning. What is difference between bias and variance, and how they affect the mdoel performance?"
   ]
  },
  {
   "cell_type": "markdown",
   "id": "dd10d8a2-9d6f-4abd-9f94-dd835c3f9290",
   "metadata": {},
   "source": [
    "**Bias:**\n",
    "- Bias refers to the error introduced by approximating a real-world problem, which may be complex, by a simplified model. A high bias model is overly simplified and may not capture important patterns in the data, resulting underfitting.\n",
    "- High bias models tend to have low training error but high test error, also it leads to systematic error.\n",
    "\n",
    "**Variance:**\n",
    "- Variance refers to the error introduced by the model's sensitivity to small fluctuations/noise in the training data. A high variance model is overly complex and fits the training data closely, which lead to overfitting\n",
    "- High variance models have low training error but high test error. Variance also causes the model to be overly responsive to noise."
   ]
  },
  {
   "cell_type": "markdown",
   "id": "30705aa4-2551-4651-afd4-4e365b79c02b",
   "metadata": {},
   "source": [
    "#### Q5. Discuss some common methods for detecting overfitting and underfitting. How can you determine whether your model is overfitting underfitting?"
   ]
  },
  {
   "cell_type": "markdown",
   "id": "a2d60025-c60d-4e5a-8c73-63d8819068ae",
   "metadata": {},
   "source": [
    "**For Detecting Overfitting:**\n",
    "- Use k-fold cross-validation to evaluate model performance of multiple combinations of data. If your model consistently performs worse on validation or test data than on training data, it will perform better.\n",
    "- Try different normalization levels. If keeping the power constant leads to better results, the model will be overfitted."
   ]
  },
  {
   "cell_type": "markdown",
   "id": "59832f0c-0d39-4661-85f7-697b9a1a9c6a",
   "metadata": {},
   "source": [
    "**For Detecting Underfitting:**\n",
    "- Check your features. They can be misleading if they are too simple or fail to capture basic patterns in the data"
   ]
  },
  {
   "cell_type": "markdown",
   "id": "8abfbaa0-2254-44f3-a23c-e4e47953c39d",
   "metadata": {},
   "source": [
    "#### Q6. Compare and contrast bias and variance in machine learning. What are some examples of high bias and high variance models, and how do they differ in terms of their performance?"
   ]
  },
  {
   "cell_type": "markdown",
   "id": "19c9bb68-8ee8-43ca-b5de-56a23262c724",
   "metadata": {},
   "source": [
    "**Bias:**\n",
    "- High bias models have low complexity\n",
    "- They lend to make strong assumptions about the data.\n",
    "- They often too simple to capture the underlying patterns in the data.\n",
    "**Variance:**\n",
    "- High variance models have high complexity.\n",
    "- They are sensitive to noise in the training data.\n",
    "\n",
    "**High Bias Models:**\n",
    "\n",
    "- Linear Regression\n",
    "> Simple and often high bias model.\n",
    "> May underfit complex, non-linear data.\n",
    "\n",
    "- Shallow Decision Trees\n",
    "\n",
    "**High Variance Models:**\n",
    "- Deep neural networks\n",
    "- KNN"
   ]
  },
  {
   "cell_type": "markdown",
   "id": "9bbb39f4-73d2-42d2-a2df-999df5b6876b",
   "metadata": {},
   "source": [
    "##### Q7. What is regularization in machine learning, and how can it be used to prevent overfitting? Describe some common regularization techniques and how they work."
   ]
  },
  {
   "cell_type": "markdown",
   "id": "a9b30a3d-071d-44b0-b7e7-f02730b74093",
   "metadata": {},
   "source": [
    "Regularization is a method in ml used to prevent overfitting by adding a penalty term to the model's loss function.\n"
   ]
  }
 ],
 "metadata": {
  "kernelspec": {
   "display_name": "Python 3 (ipykernel)",
   "language": "python",
   "name": "python3"
  },
  "language_info": {
   "codemirror_mode": {
    "name": "ipython",
    "version": 3
   },
   "file_extension": ".py",
   "mimetype": "text/x-python",
   "name": "python",
   "nbconvert_exporter": "python",
   "pygments_lexer": "ipython3",
   "version": "3.10.8"
  }
 },
 "nbformat": 4,
 "nbformat_minor": 5
}
