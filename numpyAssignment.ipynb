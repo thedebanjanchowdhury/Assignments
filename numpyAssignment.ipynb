{
 "cells": [
  {
   "cell_type": "markdown",
   "id": "d53c46b8-1c8f-406a-aeb7-25b1abb25a05",
   "metadata": {},
   "source": [
    "#### Q1.Checking the datatype of both variables"
   ]
  },
  {
   "cell_type": "code",
   "execution_count": 1,
   "id": "e8c2072e-5f42-46b0-a46d-1fea62cbccc1",
   "metadata": {},
   "outputs": [],
   "source": [
    "import numpy as np\n",
    "list_ = ['1', '2', '3', '4', '5']\n",
    "array_list = np.array(object = list_)"
   ]
  },
  {
   "cell_type": "markdown",
   "id": "d7fc6b0f-7386-4697-93fc-681d1bbb238c",
   "metadata": {},
   "source": [
    "The \"list_\" variable contains a list of strings, whereas the \"array_list\" variable contains single byte unsigned integers."
   ]
  },
  {
   "cell_type": "code",
   "execution_count": 8,
   "id": "6d5b4c66-1fd4-4b5c-bfb0-eb62444fe9c5",
   "metadata": {},
   "outputs": [
    {
     "data": {
      "text/plain": [
       "list"
      ]
     },
     "execution_count": 8,
     "metadata": {},
     "output_type": "execute_result"
    }
   ],
   "source": [
    "type(list_)"
   ]
  },
  {
   "cell_type": "code",
   "execution_count": 10,
   "id": "18857717-4445-4b55-9a95-9ea9268a087f",
   "metadata": {},
   "outputs": [
    {
     "data": {
      "text/plain": [
       "dtype('<U1')"
      ]
     },
     "execution_count": 10,
     "metadata": {},
     "output_type": "execute_result"
    }
   ],
   "source": [
    "array_list.dtype"
   ]
  },
  {
   "cell_type": "markdown",
   "id": "d4506dff-7b12-4712-a098-a699b6a7ea17",
   "metadata": {},
   "source": [
    "#### Q2. Write a code to print datatype of every element of the both variables"
   ]
  },
  {
   "cell_type": "code",
   "execution_count": 11,
   "id": "63cb2361-c955-475f-954b-9f76af61e5bd",
   "metadata": {},
   "outputs": [
    {
     "name": "stdout",
     "output_type": "stream",
     "text": [
      "<class 'str'>\n",
      "<class 'str'>\n",
      "<class 'str'>\n",
      "<class 'str'>\n",
      "<class 'str'>\n"
     ]
    }
   ],
   "source": [
    "for i in list_:\n",
    "    print(type(i))"
   ]
  },
  {
   "cell_type": "code",
   "execution_count": 13,
   "id": "e9a5bafb-7fbd-4d3f-843f-aa341fe9d7f3",
   "metadata": {},
   "outputs": [
    {
     "name": "stdout",
     "output_type": "stream",
     "text": [
      "<U1\n",
      "<U1\n",
      "<U1\n",
      "<U1\n",
      "<U1\n"
     ]
    }
   ],
   "source": [
    "for j in array_list:\n",
    "    print(j.dtype)"
   ]
  },
  {
   "cell_type": "markdown",
   "id": "45d1df1b-fe70-4488-a271-c54448c52884",
   "metadata": {},
   "source": [
    "#### Q3. Checking the datatype of the variables after changing the code"
   ]
  },
  {
   "cell_type": "code",
   "execution_count": 14,
   "id": "4c4aa75d-9b2f-490b-ad23-32a47e052504",
   "metadata": {},
   "outputs": [],
   "source": [
    "array_list = np.array(object = list_, dtype = int)"
   ]
  },
  {
   "cell_type": "markdown",
   "id": "c6a1af2c-8b2f-4ea1-8ef1-784043e86575",
   "metadata": {},
   "source": [
    "After doing the following change, there will be no changes of datatype in the \"list_\" variable. However, the datatypes of \"array_list\" variable will be hanged to int64."
   ]
  },
  {
   "cell_type": "code",
   "execution_count": 17,
   "id": "5f96bd43-9ca0-4cef-9581-5c27ec0c1c6e",
   "metadata": {},
   "outputs": [
    {
     "name": "stdout",
     "output_type": "stream",
     "text": [
      "<class 'str'>\n",
      "<class 'str'>\n",
      "<class 'str'>\n",
      "<class 'str'>\n",
      "<class 'str'>\n"
     ]
    }
   ],
   "source": [
    "for i in list_:\n",
    "    print(type(i))"
   ]
  },
  {
   "cell_type": "code",
   "execution_count": 18,
   "id": "4998b920-1988-47b8-94a3-ecacac99c529",
   "metadata": {},
   "outputs": [
    {
     "name": "stdout",
     "output_type": "stream",
     "text": [
      "int64\n",
      "int64\n",
      "int64\n",
      "int64\n",
      "int64\n"
     ]
    }
   ],
   "source": [
    "for j in array_list:\n",
    "    print(j.dtype)"
   ]
  },
  {
   "cell_type": "markdown",
   "id": "00358d31-5c01-4053-b1b4-18c21957cbf5",
   "metadata": {},
   "source": [
    "#### Q4. finding the given characteristics from the following code"
   ]
  },
  {
   "cell_type": "code",
   "execution_count": 19,
   "id": "8b40f02c-88ab-4b54-8b80-227c1377b2de",
   "metadata": {},
   "outputs": [],
   "source": [
    "import numpy as np\n",
    "num_list = [ [ 1 , 2 , 3 ] , [ 4 , 5 , 6 ] ]\n",
    "num_array = np.array(object = num_list)"
   ]
  },
  {
   "cell_type": "code",
   "execution_count": 22,
   "id": "7edac226-f6a7-4c50-8252-ee88c1bb7601",
   "metadata": {},
   "outputs": [
    {
     "data": {
      "text/plain": [
       "(2, 3)"
      ]
     },
     "execution_count": 22,
     "metadata": {},
     "output_type": "execute_result"
    }
   ],
   "source": [
    "num_array.shape"
   ]
  },
  {
   "cell_type": "code",
   "execution_count": 23,
   "id": "14922cba-ad47-43d2-b85a-4d10a92c9a3b",
   "metadata": {},
   "outputs": [
    {
     "data": {
      "text/plain": [
       "6"
      ]
     },
     "execution_count": 23,
     "metadata": {},
     "output_type": "execute_result"
    }
   ],
   "source": [
    "num_array.size"
   ]
  },
  {
   "cell_type": "markdown",
   "id": "2a51f51d-5924-46df-b4b6-9d86d0356a1c",
   "metadata": {},
   "source": [
    "#### Q5. Write a code to create numpy array of 3*3 matrix containing zeros only"
   ]
  },
  {
   "cell_type": "code",
   "execution_count": 24,
   "id": "7fc38807-985b-41f9-812a-0538ae33c6ee",
   "metadata": {},
   "outputs": [],
   "source": [
    "arr = np.random.randint(0,1, (3,3))"
   ]
  },
  {
   "cell_type": "code",
   "execution_count": 25,
   "id": "1468dc7c-3dc2-4f4e-b8af-228bad1de5ab",
   "metadata": {},
   "outputs": [
    {
     "data": {
      "text/plain": [
       "array([[0, 0, 0],\n",
       "       [0, 0, 0],\n",
       "       [0, 0, 0]])"
      ]
     },
     "execution_count": 25,
     "metadata": {},
     "output_type": "execute_result"
    }
   ],
   "source": [
    "arr"
   ]
  },
  {
   "cell_type": "code",
   "execution_count": 26,
   "id": "99c58611-eb68-4bb1-a31a-8c345a95e6f8",
   "metadata": {},
   "outputs": [],
   "source": [
    "arr1 = np.diag([1,1,1,1,1])"
   ]
  },
  {
   "cell_type": "code",
   "execution_count": 27,
   "id": "cf391d1a-606c-40ff-b098-9543bead7b1d",
   "metadata": {},
   "outputs": [
    {
     "data": {
      "text/plain": [
       "array([[1, 0, 0, 0, 0],\n",
       "       [0, 1, 0, 0, 0],\n",
       "       [0, 0, 1, 0, 0],\n",
       "       [0, 0, 0, 1, 0],\n",
       "       [0, 0, 0, 0, 1]])"
      ]
     },
     "execution_count": 27,
     "metadata": {},
     "output_type": "execute_result"
    }
   ],
   "source": [
    "arr1"
   ]
  },
  {
   "cell_type": "code",
   "execution_count": null,
   "id": "82a1a118-2c6f-420b-8f3b-fb61c5f8351c",
   "metadata": {},
   "outputs": [],
   "source": []
  }
 ],
 "metadata": {
  "kernelspec": {
   "display_name": "Python 3 (ipykernel)",
   "language": "python",
   "name": "python3"
  },
  "language_info": {
   "codemirror_mode": {
    "name": "ipython",
    "version": 3
   },
   "file_extension": ".py",
   "mimetype": "text/x-python",
   "name": "python",
   "nbconvert_exporter": "python",
   "pygments_lexer": "ipython3",
   "version": "3.10.8"
  }
 },
 "nbformat": 4,
 "nbformat_minor": 5
}
