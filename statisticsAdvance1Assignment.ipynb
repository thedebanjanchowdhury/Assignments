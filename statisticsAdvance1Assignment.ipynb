{
 "cells": [
  {
   "cell_type": "markdown",
   "id": "71465321-d24b-4a9e-96bf-fbe36079e2a7",
   "metadata": {},
   "source": [
    "# Statistics Advance-1 Assignment "
   ]
  },
  {
   "cell_type": "markdown",
   "id": "74e9e665-dbf0-4aea-89ad-1a15bef85741",
   "metadata": {},
   "source": [
    "#### Q1. What is probability density function?"
   ]
  },
  {
   "cell_type": "markdown",
   "id": "a7849de7-c194-4929-90c1-4aa8b6886a84",
   "metadata": {},
   "source": [
    "It is a stastical concept used to describe how the probabilities of a continuous random variable are distributed across its possible values."
   ]
  },
  {
   "cell_type": "markdown",
   "id": "7091d958-33d6-4d49-af27-697a6dc32e4e",
   "metadata": {},
   "source": [
    "#### Q2. What are the types of probability distribution?"
   ]
  },
  {
   "cell_type": "markdown",
   "id": "9a05c00a-02aa-4f76-8602-41aab89e3042",
   "metadata": {},
   "source": [
    "1. Normal Distribution\n",
    "2. Binomial Distribution\n",
    "3. Poisson Distribution\n",
    "4. Bernouli Distribution and so on..."
   ]
  },
  {
   "cell_type": "markdown",
   "id": "f77f0e32-5c55-401e-9674-6ba093e99f13",
   "metadata": {},
   "source": [
    "#### Q3. Write a python function to calculate the probability of density function of a normal distribution with given mean and standard deviation at a given point."
   ]
  },
  {
   "cell_type": "code",
   "execution_count": 5,
   "id": "c2d81fa8-762b-40b5-9412-55e1a06e183d",
   "metadata": {},
   "outputs": [],
   "source": [
    "import scipy.stats as stats\n",
    "import numpy as np\n",
    "import matplotlib.pyplot as plt"
   ]
  },
  {
   "cell_type": "code",
   "execution_count": 6,
   "id": "fc6b82fd-f3dd-4320-ac92-e9707e1ed964",
   "metadata": {},
   "outputs": [
    {
     "name": "stdout",
     "output_type": "stream",
     "text": [
      "PDF at x = 1.5: 0.12951759566589174\n"
     ]
    }
   ],
   "source": [
    "def normal_pdf(x, mean, std_deviation):\n",
    "    pdf = stats.norm.pdf(x, loc=mean,scale=std_deviation)\n",
    "    return pdf\n",
    "\n",
    "mean = 0.0\n",
    "std_dev = 1.0\n",
    "x = 1.5\n",
    "pdf_value = normal_pdf(x,mean,std_dev)\n",
    "print(f\"PDF at x = {x}: {pdf_value}\")"
   ]
  },
  {
   "cell_type": "markdown",
   "id": "72b60753-3991-4051-a857-3e403ebc4570",
   "metadata": {},
   "source": [
    "#### Q4. What are the properties of binomial distribution? Give two examples of events where binomial distribution can be applied."
   ]
  },
  {
   "cell_type": "markdown",
   "id": "a31258e5-436e-460c-aaf7-2e843ad12407",
   "metadata": {},
   "source": [
    "In the context of binomial distribution, there are in general two properties present these are:\n",
    "    \n",
    "    1. n(denotes number of trails in the experiment)\n",
    "    2. p(probability of the trails in binary terms)\n",
    "\n",
    "Examples of events with binomial distribution will be:\n",
    "1. Tossing a coin 10 times\n",
    "2. Surveying between 100 students whether they are vaccinated or not"
   ]
  },
  {
   "cell_type": "markdown",
   "id": "ab62fd5f-8d24-4ab4-be53-32b43531c8f7",
   "metadata": {},
   "source": [
    "#### Q5. Generate a random sample of size 1000 from a binomial distribution with probability of success 0.4 and plot a histogram of the result using matplotlib."
   ]
  },
  {
   "cell_type": "code",
   "execution_count": 7,
   "id": "a4dd2ade-7cfe-4482-a64a-a777ecfec706",
   "metadata": {},
   "outputs": [
    {
     "data": {
      "image/png": "[encoded data removed]",
      "text/plain": [
       "<Figure size 640x480 with 1 Axes>"
      ]
     },
     "metadata": {},
     "output_type": "display_data"
    }
   ],
   "source": [
    "sample_size = 1000\n",
    "probability_of_success = 0.4\n",
    "random_sample = np.random.binomial(1,probability_of_success, sample_size)\n",
    "\n",
    "plt.hist(random_sample, bins=[-0.5,0.5,1.5])\n",
    "plt.xticks([0,1], ['Faliure', 'Success'])\n",
    "plt.xlabel('Outcome')\n",
    "plt.ylabel('Frequency')\n",
    "plt.show()"
   ]
  },
  {
   "cell_type": "markdown",
   "id": "8792a915-e250-457f-89fd-985d1f7aa27f",
   "metadata": {},
   "source": [
    "#### Q6. Write a Python function to calculate the cumulative distribution function of a Poisson distribution with given mean at a given point.."
   ]
  },
  {
   "cell_type": "code",
   "execution_count": 8,
   "id": "994384f6-a6e7-46e4-bf39-9aff37fc6513",
   "metadata": {},
   "outputs": [
    {
     "name": "stdout",
     "output_type": "stream",
     "text": [
      "CDF at x = 1.5: 0.9331927987311419\n"
     ]
    }
   ],
   "source": [
    "def pois_cdf(x, mean, std_dev):\n",
    "    cdf_value = stats.norm.cdf(x, loc=mean, scale=std_dev)\n",
    "    return cdf_value\n",
    "\n",
    "mean = 0.0\n",
    "std_dev = 1.0\n",
    "x = 1.5\n",
    "print(f\"CDF at x = {x}: {pois_cdf(x,mean,std_dev)}\")"
   ]
  },
  {
   "cell_type": "markdown",
   "id": "e327d6ec-9c49-4519-9520-b529550cc0ed",
   "metadata": {},
   "source": [
    "#### Q7. How Binomial distribution different from Poisson distribution?"
   ]
  },
  {
   "cell_type": "markdown",
   "id": "e30f87f0-6e4a-4339-8831-864d52ddf9f0",
   "metadata": {},
   "source": [
    "In binomial distribution, it models the number of successes in a fixed number of trials, and typically used for events that have only two possible outcomes(success, faliure) for each outcome.\n",
    "\n",
    "But in poisson distribution, it models the number of events occuring in a fixed interval of time/space often the number of trails are continuous."
   ]
  },
  {
   "cell_type": "markdown",
   "id": "53c48fcd-35ca-4a13-add9-51b46aaefa3d",
   "metadata": {},
   "source": [
    "#### Q8. Generate a random sample of size 1000 from a Poisson distribution with mean 5 and calculate the sample mean and variance.."
   ]
  },
  {
   "cell_type": "code",
   "execution_count": 12,
   "id": "00c9b77c-9856-4e0e-b258-5be8426ae9d6",
   "metadata": {},
   "outputs": [
    {
     "name": "stdout",
     "output_type": "stream",
     "text": [
      "Sample Mean: 4.988\n",
      "Sample Variance: 5.007855999999999\n"
     ]
    }
   ],
   "source": [
    "sample_size = 1000\n",
    "mean = 5\n",
    "random_sample = np.random.poisson(mean, sample_size)\n",
    "\n",
    "\n",
    "sample_mean = np.mean(random_sample)\n",
    "sample_variance = np.var(random_sample)\n",
    "\n",
    "print(f\"Sample Mean: {sample_mean}\")\n",
    "print(f\"Sample Variance: {sample_variance}\")"
   ]
  },
  {
   "cell_type": "markdown",
   "id": "14b28686-132b-4137-b520-a5af8393a454",
   "metadata": {},
   "source": [
    "#### Q10. In normal distribution with respect to mean position, where does the least frequent data appear?\n"
   ]
  },
  {
   "cell_type": "markdown",
   "id": "4fef16c9-f8c6-4c38-a73d-fdc29a1d9d56",
   "metadata": {},
   "source": [
    "In normal distribution, which distributes the data in a bell shape, the least frequent data should appear in the both tails of left and right side, which are the farthest point from the mean."
   ]
  }
 ],
 "metadata": {
  "kernelspec": {
   "display_name": "Python 3 (ipykernel)",
   "language": "python",
   "name": "python3"
  },
  "language_info": {
   "codemirror_mode": {
    "name": "ipython",
    "version": 3
   },
   "file_extension": ".py",
   "mimetype": "text/x-python",
   "name": "python",
   "nbconvert_exporter": "python",
   "pygments_lexer": "ipython3",
   "version": "3.10.8"
  }
 },
 "nbformat": 4,
 "nbformat_minor": 5
}
