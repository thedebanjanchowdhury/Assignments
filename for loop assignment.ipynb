{
 "cells": [
  {
   "cell_type": "markdown",
   "id": "4016c578-e42b-444d-9124-62f8550acdbe",
   "metadata": {},
   "source": [
    "# Q1. Explain with an example each when to use a for loop and a while loop.\n",
    "The for loop is basically used when the number of iterations is a known value. Consider the following code as an example. Here we can see the number of iterations is a set parameter. In these types of cases the for loop is generally used."
   ]
  },
  {
   "cell_type": "code",
   "execution_count": 1,
   "id": "0e3ad775-c066-4d93-96a2-58692d9933b0",
   "metadata": {},
   "outputs": [
    {
     "name": "stdout",
     "output_type": "stream",
     "text": [
      "1\n",
      "2\n",
      "3\n",
      "4\n",
      "5\n"
     ]
    }
   ],
   "source": [
    "l1 = [1, 2, 3, 4, 5]\n",
    "\n",
    "for i in l1:\n",
    "    print(i)"
   ]
  },
  {
   "cell_type": "markdown",
   "id": "e2b1a45b-2650-4026-89a8-bf8d2b50370c",
   "metadata": {},
   "source": [
    "In terms of for loop, when the given problem will tell you to either break or continue the loop if a certain condition is fulfilled, or certain value of iterations are not given, then that's the idle situation for using while loop"
   ]
  },
  {
   "cell_type": "code",
   "execution_count": 2,
   "id": "acca6af8-4fd6-4e53-8466-eda5699408ea",
   "metadata": {},
   "outputs": [
    {
     "name": "stdout",
     "output_type": "stream",
     "text": [
      "1\n",
      "2\n",
      "3\n",
      "4\n"
     ]
    }
   ],
   "source": [
    "i = 1\n",
    "n = 4\n",
    "\n",
    "while i <= n:\n",
    "    print(i)\n",
    "    i = i+1"
   ]
  },
  {
   "cell_type": "markdown",
   "id": "9d769540-b4ae-4799-86bd-8aea934e2c1b",
   "metadata": {},
   "source": [
    "# Q2. Write a python program to print the sum and product of the first 10 natural numbers using for and while loop.\n",
    "\n",
    "## sum and product using for loop:"
   ]
  },
  {
   "cell_type": "code",
   "execution_count": 3,
   "id": "1605e385-8f5a-4a69-b3a2-bc6241799c98",
   "metadata": {},
   "outputs": [
    {
     "name": "stdout",
     "output_type": "stream",
     "text": [
      "The sum of first 10 natural number using for loop:  55\n",
      "The multiplication of first 10 natural number using for loop:  3628800\n"
     ]
    }
   ],
   "source": [
    "sum = 0\n",
    "n = 1\n",
    "\n",
    "for i in range(1, 11):\n",
    "    sum = sum + i\n",
    "print(\"The sum of first 10 natural number using for loop: \", sum)\n",
    "\n",
    "for i in range (1, 11):\n",
    "    n = n*i\n",
    "print(\"The multiplication of first 10 natural number using for loop: \", n)"
   ]
  },
  {
   "cell_type": "markdown",
   "id": "0bf8a0cf-a7a2-435f-bda8-4f38cf6de78a",
   "metadata": {},
   "source": [
    "## Sum and product using while loop:"
   ]
  },
  {
   "cell_type": "code",
   "execution_count": 4,
   "id": "6e34753b-1f98-4a5d-8133-830665baf9af",
   "metadata": {},
   "outputs": [
    {
     "name": "stdout",
     "output_type": "stream",
     "text": [
      "The sum of first 10 natural number using while loop:  55\n",
      "The multiplication of first 10 natural number using while loop:  1\n"
     ]
    }
   ],
   "source": [
    "n1 = 0\n",
    "n2 = 1\n",
    "i=0\n",
    "\n",
    "## sum using while loop\n",
    "while i<11:\n",
    "    n1 = n1 + i\n",
    "    i += 1\n",
    "print(\"The sum of first 10 natural number using while loop: \", n1)\n",
    "\n",
    "## product using while loop\n",
    "while i<11:\n",
    "    n2 = n2 * i\n",
    "    i += 1\n",
    "print(\"The multiplication of first 10 natural number using while loop: \", n2)"
   ]
  },
  {
   "cell_type": "markdown",
   "id": "8a6016a7",
   "metadata": {},
   "source": [
    "# Q3. Create a python program to compute the electricity bill for a household"
   ]
  },
  {
   "cell_type": "code",
   "execution_count": 5,
   "id": "30138cbc",
   "metadata": {},
   "outputs": [
    {
     "name": "stdout",
     "output_type": "stream",
     "text": [
      "Enter the amount of electricity spent in the following month :310\n",
      "The estimated bill amount of the following month is:  2250.0\n"
     ]
    }
   ],
   "source": [
    "bill = int(input(\"Enter the amount of electricity spent in the following month :\"))\n",
    "def bill_display():\n",
    "    print(\"The estimated bill amount of the following month is: \", bill)\n",
    "\n",
    "if bill <=100:\n",
    "    bill = bill * 4.5\n",
    "    bill_display()\n",
    "elif bill <= 200:\n",
    "    bill = 100 * 4.5 + (bill - 100) * 6\n",
    "    bill_display()\n",
    "elif bill <= 300:\n",
    "    bill = 100 * 4.5 + 100 * 6 + (bill - 200) * 10\n",
    "    bill_display()\n",
    "else:\n",
    "    bill = 100 * 4.5 + 100 * 6 + 100 * 10 + (bill - 300) * 20\n",
    "    bill_display()"
   ]
  },
  {
   "cell_type": "markdown",
   "id": "b26db161",
   "metadata": {},
   "source": [
    "# Q4. Create a list of numbers from 1 to 100. Use for loop and while loop to calculate the cube of each number and if the cube of that number is divisible by 4 or 5 then append that number in a list and print that list."
   ]
  },
  {
   "cell_type": "code",
   "execution_count": 6,
   "id": "2488fff0",
   "metadata": {},
   "outputs": [
    {
     "name": "stdout",
     "output_type": "stream",
     "text": [
      "[1000, 8000, 27000, 64000, 125000, 216000, 343000, 512000, 729000, 1000000]\n"
     ]
    }
   ],
   "source": [
    "l1 = list(range(1, 101))\n",
    "a = 1\n",
    "l2 = []\n",
    "for item in l1:\n",
    "    a = item * item * item\n",
    "    if a % 4 ==0 and a % 5 == 0:\n",
    "         l2.append(a)\n",
    "\n",
    "print(l2)"
   ]
  },
  {
   "cell_type": "markdown",
   "id": "1433b29e",
   "metadata": {},
   "source": [
    "# Write a program to filter count vowels in the below-given string.\n",
    "string = \"I want to become a data scientist\""
   ]
  },
  {
   "cell_type": "code",
   "execution_count": 7,
   "id": "b85f364e",
   "metadata": {},
   "outputs": [
    {
     "name": "stdout",
     "output_type": "stream",
     "text": [
      "The number of vowels in the given sentence are :  11\n"
     ]
    }
   ],
   "source": [
    "sentence = 'I want to become a data scientist'\n",
    "vowel = ['a', 'e', 'i', 'o', 'u']\n",
    "a = 0\n",
    "\n",
    "for i in range(len(sentence)):\n",
    "    if sentence[i] in vowel:\n",
    "        a = a+1\n",
    "\n",
    "print(\"The number of vowels in the given sentence are : \", a)"
   ]
  },
  {
   "cell_type": "code",
   "execution_count": null,
   "id": "1fd8924c",
   "metadata": {},
   "outputs": [],
   "source": []
  }
 ],
 "metadata": {
  "kernelspec": {
   "display_name": "Python 3 (ipykernel)",
   "language": "python",
   "name": "python3"
  },
  "language_info": {
   "codemirror_mode": {
    "name": "ipython",
    "version": 3
   },
   "file_extension": ".py",
   "mimetype": "text/x-python",
   "name": "python",
   "nbconvert_exporter": "python",
   "pygments_lexer": "ipython3",
   "version": "3.10.8"
  }
 },
 "nbformat": 4,
 "nbformat_minor": 5
}
