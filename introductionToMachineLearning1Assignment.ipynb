{
 "cells": [
  {
   "cell_type": "markdown",
   "id": "3d673ca5-5ce0-4d4e-ab65-30bd2c2a700d",
   "metadata": {},
   "source": [
    "# Introduction to Machine Learning-1 Assignment"
   ]
  },
  {
   "cell_type": "markdown",
   "id": "390fedff-cd1c-4b01-8cb6-70f9b11d4b68",
   "metadata": {},
   "source": [
    "#### Q1. Explaining the given topics:"
   ]
  },
  {
   "cell_type": "markdown",
   "id": "3a33282a-2c04-49a6-aca8-6465a7a06286",
   "metadata": {},
   "source": [
    "**Artificial Intelligence:**\n",
    "- Artificial Intelligence refers to the simulation of human intelligence in machines that are programmed to think, learn and do problem solving just like humans. An example of ai will be amazon's own personal assistant alexa.\n",
    "\n",
    "**Machine Learning:**\n",
    "- Machine learning is a subset of artificial intelligence that basically specializes on building models and doing stastical operations upon a given dataset. An example of it would be doing diagnosis and treatment in healthcare field.\n",
    "\n",
    "**Deep Learning:**\n",
    "- Deep learning is a subset of machine learning and artificial intelligence that focuses on training artificial neural networks, which are designed to mimic the structure and fucntion of an actual brain. An example of it would be computer vision like image and video recognition, object detection etc."
   ]
  },
  {
   "cell_type": "markdown",
   "id": "c2aeef3a-c7ca-4b13-b457-2d424708fdef",
   "metadata": {},
   "source": [
    "#### Q2. What is supervised learning? List some example of it."
   ]
  },
  {
   "cell_type": "markdown",
   "id": "7efedd91-9c68-4145-a156-b662b9477b4c",
   "metadata": {},
   "source": [
    "Supervised learning is a learning method, where the model is trained on a labeled dataset. the goal of it is to learn a mapping from inputs to outputs. Examples of it regression and classification."
   ]
  },
  {
   "cell_type": "markdown",
   "id": "4f3abde4-ca09-40bf-8dfa-3c17e338678b",
   "metadata": {},
   "source": [
    "#### Q3. What is unsupervised learning? List example of it."
   ]
  },
  {
   "cell_type": "markdown",
   "id": "63160d62-b765-4a2a-b0d0-1dc6ccaf0577",
   "metadata": {},
   "source": [
    "Unsupervised learning is a type of machine learning where the algorithm is built upon an unlabeled dataset. The goal of unsupervised machine learning is to find patterns, relationships or structures within the dataset. An example of unsupervised learning are Clustering, Anomaly detection, density estimation etc."
   ]
  },
  {
   "cell_type": "markdown",
   "id": "85c4c75c-d2dc-42bf-812e-68f003f064b9",
   "metadata": {},
   "source": [
    "#### Q4. what is the difference between AI, ML, DL and DS?"
   ]
  },
  {
   "cell_type": "markdown",
   "id": "f32bd63a-be7c-4d05-ae15-f1f14604f157",
   "metadata": {},
   "source": [
    "- **AI:** it is the broader concept of machines/comouters mimicking human intelligence. It uses wide range of technologies to perform tasks that typically require human intelligence.\n",
    "- **ML:** It is a subset of AI that focuses on the development of algorithms and models that allows machines to learn from data. It do so by training models on a data and making predictions upon it.\n",
    "- **DL**: Specialized subset of ML that uses neural networks with many layers to process and learn from large dataset. It is particularly useful for tasks like image or speech recognition.\n",
    "- **DS:** It combines elements of AI, ML and statistics to extract meaningful insights and knowledge from the data."
   ]
  },
  {
   "cell_type": "markdown",
   "id": "1934005c-65cd-4748-a280-82a1a187a1f6",
   "metadata": {},
   "source": [
    "#### Q5. Differences between supervised, unsupervised, and semi-supervised learning?"
   ]
  },
  {
   "cell_type": "markdown",
   "id": "89a9d3a3-cf63-4087-8072-eab6851e53e0",
   "metadata": {},
   "source": [
    "- In supervised learning, the dataset we work is featured, meaning that the data is given in labeled format, and we have to do modeling and stastical operations to predict outcomes.\n",
    "- In unsupervised learning, the data is not labeled, also our role is to finding pattern inside the given data\n",
    "- Semi-supervised learning is a combine mixture of supervised learing and unsupervised learning."
   ]
  },
  {
   "cell_type": "markdown",
   "id": "c250c702-fb16-404d-be68-fa5a7b1fe733",
   "metadata": {},
   "source": [
    "#### Q6. What is train, test and validation split? Explain the importance of each."
   ]
  },
  {
   "cell_type": "markdown",
   "id": "5094a240-014d-4f23-91b4-51a2129d3f17",
   "metadata": {},
   "source": [
    "In order to do modeling in a dataset, we divide a particular dataset into three sections, called train, test and validation.\n",
    "- In train dataset, we put the value upon which the build our machine learning model.\n",
    "- The test dataset is used to test the model that we have built upon the train dataset.\n",
    "- After changing some parameter in the model, in order the check the efficiency of it, the validation set is used."
   ]
  },
  {
   "cell_type": "markdown",
   "id": "3e4674db-ce20-4e0c-a601-6ca9be9717fd",
   "metadata": {},
   "source": [
    "#### Q7. How can unsupervised learning used in anomaly detection?"
   ]
  },
  {
   "cell_type": "markdown",
   "id": "c2a4e0f9-eac5-48d4-a7e3-74af1ac37414",
   "metadata": {},
   "source": [
    "We can create an unsupervised learning model to detect anomaly using these steps."
   ]
  },
  {
   "cell_type": "markdown",
   "id": "06a61b6c-3641-4be1-b3b0-6097c83bdb79",
   "metadata": {},
   "source": [
    "1. Cleaning and preprocessing the data\n",
    "2. CHosing an unsupervised learning algorithm(clustering etc.)\n",
    "3. Training the chosen algorithm on your data with labels.\n",
    "4. Calculate the anomaly scores on each data point based on the output.\n",
    "5. Assess the performance of the anomaly detection model using metrics.\n",
    "6. Adjust and fine tune the model."
   ]
  },
  {
   "cell_type": "markdown",
   "id": "6b17c759-e77e-49bb-aff2-bc229dfb64fe",
   "metadata": {},
   "source": [
    "#### Q8. List down some commonyly used supervised and unsupervised learning algorithms."
   ]
  },
  {
   "cell_type": "markdown",
   "id": "8d2cda38-feeb-47b9-bd22-c7a36b20feca",
   "metadata": {},
   "source": [
    "Some commonly used supervised learning algorithms are regression and classification.\n",
    "\n",
    "Some commonly used unsupervised learning algorithms are clustering, CNN etc."
   ]
  }
 ],
 "metadata": {
  "kernelspec": {
   "display_name": "Python 3 (ipykernel)",
   "language": "python",
   "name": "python3"
  },
  "language_info": {
   "codemirror_mode": {
    "name": "ipython",
    "version": 3
   },
   "file_extension": ".py",
   "mimetype": "text/x-python",
   "name": "python",
   "nbconvert_exporter": "python",
   "pygments_lexer": "ipython3",
   "version": "3.10.8"
  }
 },
 "nbformat": 4,
 "nbformat_minor": 5
}
