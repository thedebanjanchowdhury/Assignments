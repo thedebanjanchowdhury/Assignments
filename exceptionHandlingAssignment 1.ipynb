{
 "cells": [
  {
   "cell_type": "markdown",
   "id": "2e6b200e-3d9b-4b45-95f9-6a0e588b0d40",
   "metadata": {},
   "source": [
    "# Exception Handling Assignment"
   ]
  },
  {
   "cell_type": "markdown",
   "id": "196c9958-07b6-4bc9-aeba-f02fad718602",
   "metadata": {},
   "source": [
    "## What is Exceptions in python? Write difference between exception and Syntax errors"
   ]
  },
  {
   "cell_type": "markdown",
   "id": "d3254826-d224-4577-a325-d9627eb3fe97",
   "metadata": {},
   "source": [
    "In python, exception is an object representing error/unusual situations that disrupts the normal flow of the running program.\n",
    "\n",
    "The main difference between syntax errors and exceptions is that if a syntax error occurs during the compilation process, the whole program shuts itself down, while in case of exceptions, only the problematic code block compile, but the rest of the block will be executed"
   ]
  },
  {
   "cell_type": "markdown",
   "id": "bb80444f-a0a3-4eda-8f24-296d12c7e3a5",
   "metadata": {},
   "source": [
    "## What happens when an exception is not handled? Explain with an example."
   ]
  },
  {
   "cell_type": "markdown",
   "id": "5e2af673-bfbf-489f-bfe1-8897c5111ed2",
   "metadata": {},
   "source": [
    "When an exception is not handled, the program terminates itself with an error. It stops further executing the code. Here's an example:"
   ]
  },
  {
   "cell_type": "code",
   "execution_count": 4,
   "id": "9c95845b-7666-401a-a647-cbb8c4d7f513",
   "metadata": {},
   "outputs": [
    {
     "ename": "ZeroDivisionError",
     "evalue": "division by zero",
     "output_type": "error",
     "traceback": [
      "\u001b[0;31m---------------------------------------------------------------------------\u001b[0m",
      "\u001b[0;31mZeroDivisionError\u001b[0m                         Traceback (most recent call last)",
      "Cell \u001b[0;32mIn[4], line 8\u001b[0m\n\u001b[1;32m      5\u001b[0m x \u001b[38;5;241m=\u001b[39m \u001b[38;5;241m20\u001b[39m\n\u001b[1;32m      6\u001b[0m y \u001b[38;5;241m=\u001b[39m \u001b[38;5;241m0\u001b[39m\n\u001b[0;32m----> 8\u001b[0m result \u001b[38;5;241m=\u001b[39m \u001b[43mdivide\u001b[49m\u001b[43m(\u001b[49m\u001b[43mx\u001b[49m\u001b[43m,\u001b[49m\u001b[43m \u001b[49m\u001b[43my\u001b[49m\u001b[43m)\u001b[49m\n\u001b[1;32m      9\u001b[0m \u001b[38;5;28mprint\u001b[39m(result)\n\u001b[1;32m     11\u001b[0m \u001b[38;5;28mprint\u001b[39m(\u001b[38;5;124m\"\u001b[39m\u001b[38;5;124mWhy is it not working??\u001b[39m\u001b[38;5;124m\"\u001b[39m)\n",
      "Cell \u001b[0;32mIn[4], line 2\u001b[0m, in \u001b[0;36mdivide\u001b[0;34m(a, b)\u001b[0m\n\u001b[1;32m      1\u001b[0m \u001b[38;5;28;01mdef\u001b[39;00m \u001b[38;5;21mdivide\u001b[39m(a,b):\n\u001b[0;32m----> 2\u001b[0m     result \u001b[38;5;241m=\u001b[39m \u001b[43ma\u001b[49m\u001b[43m \u001b[49m\u001b[38;5;241;43m/\u001b[39;49m\u001b[43m \u001b[49m\u001b[43mb\u001b[49m\n\u001b[1;32m      3\u001b[0m     \u001b[38;5;28;01mreturn\u001b[39;00m result\n",
      "\u001b[0;31mZeroDivisionError\u001b[0m: division by zero"
     ]
    }
   ],
   "source": [
    "def divide(a,b):\n",
    "    result = a / b\n",
    "    return result\n",
    "\n",
    "x = 20\n",
    "y = \n",
    "\n",
    "result = divide(x, y)\n",
    "print(result)\n",
    "\n",
    "print(\"Why is it not working??\")\n",
    "    "
   ]
  },
  {
   "cell_type": "markdown",
   "id": "830866ab-cd80-46ae-adaf-de52ab41ea69",
   "metadata": {},
   "source": [
    "## Which python statements are used to catch and handled exceptions? Explain with an example."
   ]
  },
  {
   "cell_type": "markdown",
   "id": "379833eb-ca51-4f37-b6eb-2553ee3fcab0",
   "metadata": {},
   "source": [
    "In case of exceptions in python, there are 4 statements used. These are try, except, else and final"
   ]
  },
  {
   "cell_type": "code",
   "execution_count": 1,
   "id": "76a491b8-6e17-4ed0-b9e2-4b5e2162a4af",
   "metadata": {},
   "outputs": [
    {
     "name": "stdout",
     "output_type": "stream",
     "text": [
      "Case 1\n",
      "Result:  5.0\n",
      "Ther block will always execute\n",
      "Case 2\n",
      "Cannot devisible by zero\n",
      "Ther block will always execute\n"
     ]
    }
   ],
   "source": [
    "def divide_numbers(a, b):\n",
    "    try:\n",
    "        result = a / b\n",
    "    except ZeroDivisionError:\n",
    "        print(\"Cannot devisible by zero\")\n",
    "    else:\n",
    "        print(\"Result: \", result)\n",
    "    finally:\n",
    "        print(\"Ther block will always execute\")\n",
    "        \n",
    "\n",
    "        \n",
    "print(\"Case 1\")\n",
    "divide_numbers(10, 2)\n",
    "\n",
    "print(\"Case 2\")\n",
    "divide_numbers(10, 0)\n",
    "\n",
    "    "
   ]
  },
  {
   "cell_type": "markdown",
   "id": "1ea99489-c488-433b-847f-03bf082f13e2",
   "metadata": {},
   "source": [
    "## Explain with example try and else, finally, raise"
   ]
  },
  {
   "cell_type": "markdown",
   "id": "3ad2513d-14bb-47dd-908e-769f813120a1",
   "metadata": {},
   "source": [
    "In the try block, we have to put the problematic code that has probability of throwing exceptions. If the try block successfully executeed, then the else block will execute itself"
   ]
  },
  {
   "cell_type": "code",
   "execution_count": 4,
   "id": "1ef0c52d-20ce-4123-ae04-b6bbc4702cb2",
   "metadata": {},
   "outputs": [
    {
     "name": "stdout",
     "output_type": "stream",
     "text": [
      "The result is  5.0\n",
      "Code successfully executed\n"
     ]
    }
   ],
   "source": [
    "try:\n",
    "    a = 10\n",
    "    b = 2\n",
    "    result = a / b\n",
    "    \n",
    "except Exception:\n",
    "        print(\"Exception Arise\")\n",
    "    \n",
    "else:\n",
    "    print(\"The result is \", result)\n",
    "    print(\"Code successfully executed\")"
   ]
  },
  {
   "cell_type": "markdown",
   "id": "bbde26a3-5d95-47e7-81d0-5fe4ff048a0a",
   "metadata": {},
   "source": [
    "The finally block will execute in all circumstances, whether the code has exceptions or not"
   ]
  },
  {
   "cell_type": "code",
   "execution_count": 5,
   "id": "7797b894-ced0-447f-9614-f73e904da0f0",
   "metadata": {},
   "outputs": [
    {
     "name": "stdout",
     "output_type": "stream",
     "text": [
      "The result is  5.0\n",
      "Code successfully executed\n",
      "The code will always execute\n"
     ]
    }
   ],
   "source": [
    "try:\n",
    "    a = 10\n",
    "    b = 2\n",
    "    result = a / b\n",
    "    \n",
    "except Exception:\n",
    "        print(\"Exception Arise\")\n",
    "    \n",
    "else:\n",
    "    print(\"The result is \", result)\n",
    "    print(\"Code successfully executed\")\n",
    "    \n",
    "finally:\n",
    "    print(\"The code will always execute\")"
   ]
  },
  {
   "cell_type": "markdown",
   "id": "1585d5fd-df52-43b8-9c6e-347c3560141b",
   "metadata": {},
   "source": [
    "The raise statement is used to raise explicit exceptions. Generally we use this statement during the use of custom exceptions"
   ]
  },
  {
   "cell_type": "code",
   "execution_count": null,
   "id": "29be1812-3bb7-408b-acdb-f5a71d01141f",
   "metadata": {},
   "outputs": [
    {
     "name": "stdin",
     "output_type": "stream",
     "text": [
      "Enter Your Marks:  45\n"
     ]
    },
    {
     "name": "stdout",
     "output_type": "stream",
     "text": [
      "You are eligible\n"
     ]
    }
   ],
   "source": [
    "class admissionCriteria(Exception):\n",
    "    def __init__(self, msg):\n",
    "        self.msg = msg\n",
    "\n",
    "def admissionCriteria(marks):\n",
    "    if marks < 0:\n",
    "        raise admissionCriteria(\"Please Enter a Valid Number\")\n",
    "    elif marks <40:\n",
    "        raise admissionCriteria(\"Your Given Credentials Doesnot Satisfy Admission Criteria\")\n",
    "    else:\n",
    "        print(\"You are eligible\")\n",
    "        \n",
    "\n",
    "try:\n",
    "    marks = int(input(\"Enter Your Marks: \"))\n",
    "    admissionCriteria(marks)\n",
    "except admissionCriteria as e:\n",
    "    print(e)"
   ]
  },
  {
   "cell_type": "markdown",
   "id": "6459ebfb-1ed9-4a10-b164-d1942cf05705",
   "metadata": {},
   "source": [
    "## What are custom exceptions> Why do we need Custom Exceptions? Explain with example."
   ]
  },
  {
   "cell_type": "markdown",
   "id": "2623bc0e-1732-47ca-8040-33aafebd69a6",
   "metadata": {},
   "source": [
    "- Custom exceptions refers to the procedure that helps us create exceptions explicitly\n",
    "- The all required exception classes are already included in the exception superclass. However, if we required any specific exceptions, we can create custom exceptions according our requirements"
   ]
  },
  {
   "cell_type": "code",
   "execution_count": 17,
   "id": "00d0d04b-b73a-4572-8e60-b9e0de82aff2",
   "metadata": {},
   "outputs": [
    {
     "name": "stdin",
     "output_type": "stream",
     "text": [
      "Enter Your Number:  48\n"
     ]
    },
    {
     "name": "stdout",
     "output_type": "stream",
     "text": [
      "Number is Even\n"
     ]
    }
   ],
   "source": [
    "class CheckEvenOdd(Exception):\n",
    "    def __init__(self, msg):\n",
    "        self.msg = msg\n",
    "\n",
    "def checkEvenOdd(num):\n",
    "    if num % 2 == 0:\n",
    "        raise CheckEvenOdd(\"Number is Even\")  \n",
    "    else:\n",
    "        raise CheckEvenOdd(\"Number is Odd\")\n",
    "\n",
    "try:\n",
    "    num = int(input(\"Enter Your Number: \"))\n",
    "    checkEvenOdd(num)\n",
    "except CheckEvenOdd as e:\n",
    "    print(e)\n"
   ]
  },
  {
   "cell_type": "code",
   "execution_count": null,
   "id": "7946a84f-b3fb-4853-8b93-015971b15faa",
   "metadata": {},
   "outputs": [],
   "source": []
  }
 ],
 "metadata": {
  "kernelspec": {
   "display_name": "Python 3 (ipykernel)",
   "language": "python",
   "name": "python3"
  },
  "language_info": {
   "codemirror_mode": {
    "name": "ipython",
    "version": 3
   },
   "file_extension": ".py",
   "mimetype": "text/x-python",
   "name": "python",
   "nbconvert_exporter": "python",
   "pygments_lexer": "ipython3",
   "version": "3.10.8"
  }
 },
 "nbformat": 4,
 "nbformat_minor": 5
}
