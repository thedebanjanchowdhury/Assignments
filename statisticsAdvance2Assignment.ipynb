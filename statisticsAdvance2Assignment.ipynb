{
 "cells": [
  {
   "cell_type": "markdown",
   "id": "9231bbfb-0d5a-453c-8a84-ebab7ab57480",
   "metadata": {},
   "source": [
    "# Statistics Advance-2 Assignment"
   ]
  },
  {
   "cell_type": "markdown",
   "id": "0aa9fd7a-3ecf-4a3c-832a-cacee3388056",
   "metadata": {},
   "source": [
    "#### Q1. What are the Probability Mass Function and Probability Density Function? Explain with example."
   ]
  },
  {
   "cell_type": "markdown",
   "id": "908e9757-d912-43d1-8c63-86972ae9f25f",
   "metadata": {},
   "source": [
    "**Probability Mass Function(PMF):**\n",
    "1. PMF is for discrete random variables.\n",
    "2. It gives the probability of specific outcome.\n",
    "\n",
    "Example: Tossing a fair coin, PMF(X = Heads) = 0.5, PMF(X = Tails) = 0.5\n",
    "\n",
    "**Probability Density Function(PDF):**\n",
    "1. PDF is for continuous random variable.\n",
    "2. Gives probability density over a range\n",
    "\n",
    "Example: PDF describes in a population how likely it is to find people within a certain height range."
   ]
  },
  {
   "cell_type": "markdown",
   "id": "6fa486f4-68f6-4f75-8528-f61d6438791a",
   "metadata": {},
   "source": [
    "#### Q2. What is CDF? Explain with example. Why it is used?"
   ]
  },
  {
   "cell_type": "markdown",
   "id": "d3a32cff-8717-4dbb-a379-40eb4d540ac4",
   "metadata": {},
   "source": [
    "Cumulative distribution function gives the probability that a random variable is less than or equal to a specific value. It accumulates probabilities as you move along the variable's range.\n",
    "\n",
    "Example: For a fair six sided dice, the CDF tells the probability of rolling a number less than or equal to a given value."
   ]
  },
  {
   "cell_type": "markdown",
   "id": "5a462805-53bb-4a01-adad-be23e218afc8",
   "metadata": {},
   "source": [
    "#### Q3. What are some examples of situations where the normal distribution might be used as a model? Explain how the parameters of the normal distribution relate to the shape of the distribution.."
   ]
  },
  {
   "cell_type": "markdown",
   "id": "96c94808-b975-4f3b-b371-eb8b592a5ae7",
   "metadata": {},
   "source": [
    "Some common usecases for using normal distribution are heights of adults, IQ scores etc."
   ]
  },
  {
   "cell_type": "markdown",
   "id": "153f5a77-f1c7-4b3e-9776-dc23d5250a03",
   "metadata": {},
   "source": [
    "**Mean:**\n",
    "Mean represents the central point of the data in the normal distribution. Shifting the mean to left or right side will change the location of the peak of the curve\n",
    "\n",
    "**Standard Deviation:**\n",
    "Standard deviation measures the spread/dispertion of the data in the normal distributon. Smaller standard deviation means the data points are tightly clustered around the mean, a larger standard deviation means the data points are more spread out from the mean."
   ]
  },
  {
   "cell_type": "markdown",
   "id": "54baca03-bc16-4458-86ee-930b08c8109b",
   "metadata": {},
   "source": [
    "#### Q4. Explain the importance of Normal Distribution. Give a few real-life examples of normal distribution."
   ]
  },
  {
   "cell_type": "markdown",
   "id": "a7923a66-5fe8-4ece-9dc3-a6008a42fc4a",
   "metadata": {},
   "source": [
    "1. Serves as a key assumption in many predictive models, such as linear regression and machine learning algorithms\n",
    "2. In finance, normal distribution is used to model the distribution if returns on investments, which is a fundamental concept of portfolio management and s=risk assessment.\n",
    "3. In manufacturing industry, normal distribution is used to model variations in product specification, which is often helpful to detect whether the manufactured peoduct is defected or not."
   ]
  },
  {
   "cell_type": "markdown",
   "id": "66a210d2-3bf2-46b7-b82a-64a0ecada6c1",
   "metadata": {},
   "source": [
    "#### Q5. What is Bernaulli Distribution? Give an example. Difference between bernaulli distribution and binomoal distribution."
   ]
  },
  {
   "cell_type": "markdown",
   "id": "cc2b848a-337a-43cd-aaed-2fef7b76299b",
   "metadata": {},
   "source": [
    "- Bernaulli Distribution is oftenly used to medel random experiments with two possible outcomes, referred as a 'success' and 'faliure'. The distribution has a single parameter 'p' that denotes the possibility of the outcome in binary format.\n",
    "- an example of it would be tossing a coin for a single time.\n",
    "- The main difference between bernaulli distribution and binomial distribution is that bernaulli distribution models only a single trial or experiment, whereas the binomiaal distribution models a certain numbers of trails given the experiment set."
   ]
  },
  {
   "cell_type": "markdown",
   "id": "20a2e45b-4fac-4074-8e0f-c6be39ba98a6",
   "metadata": {},
   "source": [
    "#### Q6. Consider a dataset with a mean of 50 and a standard deviation of 10. If we assume that the dataset is normally distributed, what is the probability that a randomly selected observation will be greater than 60? Use the appropriate formula and show your calculations.s."
   ]
  },
  {
   "cell_type": "markdown",
   "id": "b292f8d3-da39-4db6-bd10-dce4ad9bb4fd",
   "metadata": {},
   "source": [
    "To find the probability of it, we have to use the z-score formula, which is as follows: \\]"
   ]
  },
  {
   "cell_type": "markdown",
   "id": "1202746b-f102-4fe5-875f-8d8eda2f6c3a",
   "metadata": {},
   "source": [
    "$$\n",
    "Z = \\frac{X - \\mu}{\\sigma}\n",
    "$$"
   ]
  },
  {
   "cell_type": "markdown",
   "id": "d7777cd5-2b99-44b5-9ff1-b3d41bd4be22",
   "metadata": {},
   "source": [
    "Where X is the value for the probability, mu is the mean, and sigma is the standard deviation of the dataset. So after plugging the values we get this result"
   ]
  },
  {
   "cell_type": "code",
   "execution_count": 3,
   "id": "775f37c8-4d12-42e9-999a-d77adc94a22b",
   "metadata": {},
   "outputs": [
    {
     "data": {
      "text/plain": [
       "1.0"
      ]
     },
     "execution_count": 3,
     "metadata": {},
     "output_type": "execute_result"
    }
   ],
   "source": [
    "Z = (60-50)/10\n",
    "Z"
   ]
  },
  {
   "cell_type": "markdown",
   "id": "1db4567a-f26d-4e8b-a90c-7335da7e4187",
   "metadata": {},
   "source": [
    "After geting the z-score, we can check the probability associated with it using standard normal distribution table, from where we get the probability as 0.1587 or 15.87%"
   ]
  },
  {
   "cell_type": "markdown",
   "id": "97b14a89-4859-416d-bcde-ea21d3727d1d",
   "metadata": {},
   "source": [
    "#### Q7. Explain uniform distribution with an example."
   ]
  },
  {
   "cell_type": "markdown",
   "id": "f3e148f7-3cf5-4465-8c17-251fcb410617",
   "metadata": {},
   "source": [
    "Uniform distribution is a probability distribution where all values within a certain range have an equal probability of occuring. An example of it will be rolling a fair dice, which has 6 outcomes, and each of them has a probability of 1/6 of occurance.\n"
   ]
  },
  {
   "cell_type": "markdown",
   "id": "72c754fb-144c-492a-a224-9fbd27cb21f8",
   "metadata": {},
   "source": [
    "#### Q8. What is z-score? Write the importance of it."
   ]
  },
  {
   "cell_type": "markdown",
   "id": "c23245c0-136d-4ba6-aec7-a559099c72d2",
   "metadata": {},
   "source": [
    "Z-score is a stastical measure that qualifies how far a data point is from the mean of a dataset in terms of standard deviation. It is important to standardize data, making it easier to compare values in different datasets, detecting outliers, calculating probabilities associated with a specific value etc."
   ]
  },
  {
   "cell_type": "markdown",
   "id": "d54ac521-58fc-4189-9c60-c6a71941c352",
   "metadata": {},
   "source": [
    "Q9: What is Central Limit Theorem? State the significance of the Central Limit Theorem."
   ]
  },
  {
   "cell_type": "markdown",
   "id": "fc20b443-a2bf-44cb-abe2-337846d6f876",
   "metadata": {},
   "source": [
    "Central limit tendency(CLT) is a fundamental concept in statistics, it states that regardless of the shape of original population distribution, the distribution of the sample means from a large random sample will approximatet a normal distribution."
   ]
  },
  {
   "cell_type": "markdown",
   "id": "111c3161-8e8d-4072-9c33-b25da65f1248",
   "metadata": {},
   "source": [
    "CMT allows us to:\n",
    "- Make inferences about populations, even when we dont know the distribution.\n",
    "- Construct confidence intervals with known level of confidence.\n",
    "- Ensure the reliability of many stastical methods when sample sizes are sufficiently large."
   ]
  },
  {
   "cell_type": "markdown",
   "id": "2a6df1c7-8220-4aff-8023-b9c3145ae141",
   "metadata": {},
   "source": [
    "#### Q10. State the assumptions of the CMT."
   ]
  },
  {
   "cell_type": "markdown",
   "id": "9d25ac46-69c2-46d1-9c4b-49009233ca3f",
   "metadata": {},
   "source": [
    "The assumptions of the CMT:\n",
    "- The random samples should be independent of each other.\n",
    "- The random samples should be drawn from the same population distribution with same mean and std\n",
    "- For CLT to hold, the sample size should be sufficiently large."
   ]
  },
  {
   "cell_type": "code",
   "execution_count": null,
   "id": "5c52ff4b-f4a1-4f09-9889-1930c6913aee",
   "metadata": {},
   "outputs": [],
   "source": []
  }
 ],
 "metadata": {
  "kernelspec": {
   "display_name": "Python 3 (ipykernel)",
   "language": "python",
   "name": "python3"
  },
  "language_info": {
   "codemirror_mode": {
    "name": "ipython",
    "version": 3
   },
   "file_extension": ".py",
   "mimetype": "text/x-python",
   "name": "python",
   "nbconvert_exporter": "python",
   "pygments_lexer": "ipython3",
   "version": "3.10.8"
  }
 },
 "nbformat": 4,
 "nbformat_minor": 5
}
