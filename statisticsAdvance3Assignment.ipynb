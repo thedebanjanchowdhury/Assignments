{
 "cells": [
  {
   "cell_type": "markdown",
   "id": "6ecaa556-3990-4d94-8277-defaee10ba23",
   "metadata": {},
   "source": [
    "# Statistcs Advance-3 Assignment"
   ]
  },
  {
   "cell_type": "markdown",
   "id": "f2e4b26e-1341-4151-9ddd-8c4e9ee40d66",
   "metadata": {},
   "source": [
    "#### Q1. What is estimation statistics? Explain point estimate and interval estimate."
   ]
  },
  {
   "cell_type": "markdown",
   "id": "23fe80ee-5c6d-4c13-a88f-9a68b5a1039e",
   "metadata": {},
   "source": [
    "- Estimation statistics is the process of using sample data to make educated guesses about population parameters.\n",
    "- Point estimation involves using the sample data to calculate only a single value that serves as the best estimate according to the dataset.\n",
    "- Interval estimation provides a range of estimations in which the actual value is situated, along with level of confidence."
   ]
  },
  {
   "cell_type": "markdown",
   "id": "d562a330-fd26-487d-b235-c7d0b6dc444c",
   "metadata": {},
   "source": [
    "#### Q2. Write a python function to estimate the population mean using a sample mean and standard deviation."
   ]
  },
  {
   "cell_type": "code",
   "execution_count": 5,
   "id": "13fe7500-dcd5-4240-8237-0731fae9b042",
   "metadata": {},
   "outputs": [],
   "source": [
    "import math"
   ]
  },
  {
   "cell_type": "code",
   "execution_count": 7,
   "id": "c22f5b04-e2bf-4d10-ba6d-219bc32c8c3d",
   "metadata": {},
   "outputs": [
    {
     "name": "stdout",
     "output_type": "stream",
     "text": [
      "Estimated Population Mean: (75.6, 73.1892, 78.01079999999999)\n"
     ]
    }
   ],
   "source": [
    "def estimate_population_mean(sample_mean, sample_std, sample_size):\n",
    "    standard_error = sample_stddev / math.sqrt(sample_size)\n",
    "    z = 1.96\n",
    "    margin_of_error = z * standard_error\n",
    "\n",
    "    lower_bound = sample_mean - margin_of_error\n",
    "    upper_bound = sample_mean + margin_of_error\n",
    "\n",
    "    return sample_mean, lower_bound, upper_bound\n",
    "\n",
    "sample_mean = 75.6\n",
    "sample_std = 12.3\n",
    "sample_size = 100\n",
    "estimated_mean = estimate_population_mean(sample_mean, sample_std, sample_size)\n",
    "\n",
    "print(f'Estimated Population Mean: {estimated_mean}')"
   ]
  },
  {
   "cell_type": "markdown",
   "id": "7b8a1d6c-df13-41c3-b8ea-11ac0be67167",
   "metadata": {},
   "source": [
    "#### Q3. What is hypothesis testing? Why is it used? State importance of hypothesis testing"
   ]
  },
  {
   "cell_type": "markdown",
   "id": "2349eb66-fd49-449f-b502-9afbb5d6f63b",
   "metadata": {},
   "source": [
    "- Hypothesis testing is used to make decisions and draw inferences about the populations based on the sample data. It involves the formulation of two competing hypothesis, the null hypothesis and the alternative hypothesis.\n",
    "- Since it is next to impossible to collect the whole population data to do stastical analysis, by doing hypothesis testing, we can do the same testings with a sample dataset from the population data."
   ]
  },
  {
   "cell_type": "markdown",
   "id": "e5a5ef0b-2cc3-42a2-9839-21c85f1abaa0",
   "metadata": {},
   "source": [
    "#### Q4. Create a hypothesis that states whether the average weight of male college student is greater than the average of female collage students."
   ]
  },
  {
   "cell_type": "markdown",
   "id": "270b82fc-2cd7-49c4-b78d-39050c6a9038",
   "metadata": {},
   "source": [
    "- **Problem Statement:** Checking whether the weight of a male college student is greater than the weight of a female college student.\n",
    "- **Null Hypothesis:** The average weight of male college student is equal to or greater than the average weight of female college student.\n",
    "- **Alternative Hypothesis:** The average weight of male college student is lesser than the average weight of female college student."
   ]
  },
  {
   "cell_type": "markdown",
   "id": "e31e8239-e52d-4d6c-aa6b-c95d69b70be3",
   "metadata": {},
   "source": [
    "#### Q5. Write a Python script to conduct a hypothesis test on the difference between two population means, given a sample from each population."
   ]
  },
  {
   "cell_type": "code",
   "execution_count": 27,
   "id": "93528764-cf2b-4996-9dd8-dcae34863a59",
   "metadata": {},
   "outputs": [],
   "source": [
    "import numpy as np\n",
    "from scipy.stats import ttest_ind"
   ]
  },
  {
   "cell_type": "code",
   "execution_count": 28,
   "id": "88a1bd6c-5a3e-4e3f-ba50-e0732c440197",
   "metadata": {},
   "outputs": [],
   "source": [
    "# Sample Datasets\n",
    "sample1 = np.array([72.5, 68.8, 74.2, 70.1, 75.6, 71.2, 73.4, 69.7, 72.9, 70.5])\n",
    "sample2 = np.array([63.2, 61.5, 62.8, 60.3, 65.1, 62.0, 64.4, 59.8, 61.7, 63.5])"
   ]
  },
  {
   "cell_type": "markdown",
   "id": "0670152a-bc4c-4ff3-b7ff-ffe8663d2ed5",
   "metadata": {},
   "source": [
    "Defining the null and alternative hypothesis\n",
    "- **Null Hypothesis(HO):** μ1 - μ2 <= 0\n",
    "- **Alternative Hypothesis(Ha):** μ1 - μ2 > 0"
   ]
  },
  {
   "cell_type": "code",
   "execution_count": 29,
   "id": "f61b53a3-62b7-43af-baa0-7446bb046638",
   "metadata": {},
   "outputs": [
    {
     "name": "stdout",
     "output_type": "stream",
     "text": [
      "Rejected the null hypothesis\n"
     ]
    }
   ],
   "source": [
    "# T test phase\n",
    "t_stat, p_value = ttest_ind(sample1, sample2, alternative = 'greater')\n",
    "alpha = 0.05\n",
    "\n",
    "if p_value < alpha:\n",
    "    print('Rejected the null hypothesis')\n",
    "else:\n",
    "    print('Failed to reject null hypothesis')"
   ]
  },
  {
   "cell_type": "markdown",
   "id": "4d905b23-729b-49a2-abe3-eea94fb67127",
   "metadata": {},
   "source": [
    "#### Q6. What is null and alternate hypothesis? Give some example."
   ]
  },
  {
   "cell_type": "markdown",
   "id": "38763e7b-1ba7-431f-b56f-d578df02c106",
   "metadata": {},
   "source": [
    "In the context of hypothesis testing, null and hypothesis testing are testing mechanism that helps to predict certain values from a sample mean.\n",
    "- **Null Hypothesis(HO):** Null hypothesis is a statement of no effect, no change or no difference in the population. It reprsents the default assumptions. For example,If you're testing a new drug's effectiveness, the null hypothesis might state that the drug has no effect.\n",
    "- **Alternative Hypothesis(Ha):** Alternative hypothesis is the statement that contradicts the null hypothesis. It represents what researchers are trying to demondtrate. For example in the drug effectiveness, the alternative hypothesis will state that the drug is effective in solving the puspose.\n"
   ]
  },
  {
   "cell_type": "markdown",
   "id": "b00bbb02-aae5-4bc2-bd76-77bab0475ea5",
   "metadata": {},
   "source": [
    "#### Q7. Write down the steps of hypothesis testing."
   ]
  },
  {
   "cell_type": "markdown",
   "id": "962d1dfa-c753-49e2-b0b3-914cbd92f154",
   "metadata": {},
   "source": [
    "In terms of hypothesis tesitng, there are four crutial steps for doing so.\n",
    "\n",
    "1. Determining the null hypothesis from the given problem statement.\n",
    "2. Determining the alternative hypothesis from the given problem statement.\n",
    "3. Doing stastical analysis to the sample data.\n",
    "4. Aceepting the null or alternative hypothesis regarding the output from analysis."
   ]
  },
  {
   "cell_type": "markdown",
   "id": "b06b0095-c1f0-4c9a-ab33-b57de6606de6",
   "metadata": {},
   "source": [
    "#### Q8. Define p-value and explain it's significance in hypothesis testing."
   ]
  },
  {
   "cell_type": "markdown",
   "id": "38f76b60-3e06-47dc-8079-42a543014ae0",
   "metadata": {},
   "source": [
    "- p-value describes a number which is calculated from a stastical test, that describes how likely a certain event will found a particular set of obsevations if the null hypothesis is true.\n",
    "- The value of the parameter p-value will help making assumptions and providing evidence against the hypothesis terms.\n",
    "> A small p-value suggest strong indication that the evidence on null hypothesis is wrong, leading to faliure of null hypothesis.\n",
    ">\n",
    "> A large p-value suggest weak evidence against the null hypothesis, leading to a faliure to reject the null hypothesis."
   ]
  },
  {
   "cell_type": "markdown",
   "id": "9e9a87c3-8d50-4e74-80b5-993d59c3ac26",
   "metadata": {},
   "source": [
    "#### Q9. Generate a Student's t-distribution plot using Python's matplotlib library, with the degrees of freedom parameter set to 10."
   ]
  },
  {
   "cell_type": "code",
   "execution_count": 6,
   "id": "d219ac10-c716-4a7f-a439-aed0c17efbe4",
   "metadata": {},
   "outputs": [],
   "source": [
    "import numpy as np\n",
    "import matplotlib.pyplot as plt\n",
    "from scipy.stats import t\n",
    "from scipy import stats"
   ]
  },
  {
   "cell_type": "code",
   "execution_count": 7,
   "id": "955ef80c-f75d-41f6-9396-00ac29f1628c",
   "metadata": {},
   "outputs": [
    {
     "data": {
      "image/png": "[encoded data removed]",
      "text/plain": [
       "<Figure size 800x800 with 1 Axes>"
      ]
     },
     "metadata": {},
     "output_type": "display_data"
    }
   ],
   "source": [
    "#Degree of freedom\n",
    "df = 10\n",
    "\n",
    "#Generate values for x axis\n",
    "x = np.linspace(-4, 4, 1000)\n",
    "\n",
    "pdf = t.pdf(x, df)\n",
    "\n",
    "plt.figure(figsize = (8,8))\n",
    "plt.plot(x, pdf, color = 'blue')\n",
    "plt.title(\"Student's t-distribution\")\n",
    "plt.xlabel('x')\n",
    "plt.ylabel('Probability')\n",
    "plt.grid(True)\n",
    "plt.show()"
   ]
  },
  {
   "cell_type": "markdown",
   "id": "229f2590-a1ea-40ca-8d8f-20abf1b99293",
   "metadata": {},
   "source": [
    "#### Q10. Write a Python program to calculate the two-sample t-test for independent samples, given two random samples of equal size and a null hypothesis that the population means are equall."
   ]
  },
  {
   "cell_type": "code",
   "execution_count": 8,
   "id": "e411d976-8955-4280-9f30-d6ca70f40994",
   "metadata": {},
   "outputs": [
    {
     "name": "stdout",
     "output_type": "stream",
     "text": [
      "Fail to reject the null hypothesis, population means are equal\n"
     ]
    }
   ],
   "source": [
    "sample1 = np.random.normal(loc=5, scale=2, size=50)\n",
    "sample2 = np.random.normal(loc=5.5, scale=2, size=50)\n",
    "\n",
    "t_statistics, p_value = stats.ttest_ind(sample1, sample2)\n",
    "alpha=0.05\n",
    "\n",
    "if p_value < alpha:\n",
    "    print('Reject the null hypothesis, population means are not equal')\n",
    "else:\n",
    "    print('Fail to reject the null hypothesis, population means are equal')"
   ]
  },
  {
   "cell_type": "markdown",
   "id": "117755a6-81bf-437c-b20b-f68ab8ce527d",
   "metadata": {},
   "source": [
    "#### Q11. What is Student's t-distribution? When to use the t-distribution?"
   ]
  },
  {
   "cell_type": "markdown",
   "id": "aae6f3ac-34b8-419b-b1d4-ba0c280f743d",
   "metadata": {},
   "source": [
    "- T-distribution is a probability distribution that is used in statistics for inference and hypothesis testing when the population standard deviation is unknown.\n",
    "- Ideal situation for using it is dealing with small data or when the standard distribution of the data is unknown."
   ]
  },
  {
   "cell_type": "markdown",
   "id": "2fec35cd-51bc-456b-9804-ba04cd4439a1",
   "metadata": {},
   "source": [
    "#### Q12. What is t-statistic? State the formula of t-statistic?"
   ]
  },
  {
   "cell_type": "markdown",
   "id": "72d9c81e-93b8-4f4b-a1ec-4b2d48e260b9",
   "metadata": {},
   "source": [
    "t-statistic is used in hyopthesis testing when dealing with sample data and population parameters. It is used ti assess whether the means of two groups are significantly different from each other."
   ]
  },
  {
   "cell_type": "markdown",
   "id": "d55f3398-ffb7-4191-aabe-e7f09b783a84",
   "metadata": {},
   "source": [
    "Formula of t-statistic:\n",
    "t = (sample mean - population mean under null hypothesis) / (sample standard deviation/root(Sample size))x\r\n",
    "ˉ\r\n",
    " −μ\r\n",
    "​\r\n"
   ]
  },
  {
   "cell_type": "markdown",
   "id": "ddb5e4c1-ff8b-4fd6-bd49-71a5f18f2043",
   "metadata": {},
   "source": [
    "#### Q13. A coffe shop owner wants to estimate the average daily revenue for their shop. They take a random sample of 50 days and find the sample mean revenue to be $500 with a standard deviation of 50. Estimate the population mean with a 95% confidence rate.\n"
   ]
  },
  {
   "cell_type": "markdown",
   "id": "cbf1c6fd-e38d-47ef-ab7d-76d802947b3d",
   "metadata": {},
   "source": [
    "Sample mean = $500\n",
    "Sample standard deviation = $50\n",
    "Sample size(n) = 50\n",
    "Desired confidence level = 95%\n",
    "\n",
    "Null hypothesis(HO): The population mean daily revenue equal to $500\n",
    "\n",
    "Alternative Hypothesis(Ha): The population mean daily revenue is not equal to $500\n",
    "\n",
    "Degree of freedom = n - 1 = 50 - 1 = 49\n",
    "\n",
    "Using the t stat table, we can find for 95% confidence level and with 49 degrees of freedom is approximetly 2.00096\n",
    "\n",
    "From that, the confiednce interval is \n",
    "Confidence Interval = 500 +- (2.0096 * 50 / root(50))\n",
    "\n",
    "Confidence Interval = 500 +- 14.22\n",
    "\n",
    "Since 0 fails within the range, we failed to reject the null hypothesis."
   ]
  },
  {
   "cell_type": "markdown",
   "id": "ffcff9ea-3b5a-449f-94b3-222907ed0b07",
   "metadata": {},
   "source": [
    "#### Q14. A researcher hypothesizes that a new drug will decrease blood pressure by 10 mmHg. They conduct a clinical trial with 100 patients and find that the sample mean decrease in blood pressure is 8 mmHg with a standard deviation of 3 mmHg. Test the hypothesis with a significance level of 0.05."
   ]
  },
  {
   "cell_type": "markdown",
   "id": "1a6da69d-70ed-493f-8ac7-fcd2faaf5dfe",
   "metadata": {},
   "source": [
    "- Null hypothesis(HO): The new drug does not decrease blood preassure by 10 mmHg.\n",
    "- Alternative Hypothesis(Ha): The new drug decreases blood preasure by 10 mmHg.\n",
    "\n",
    "Given significance level is 0.05\n",
    "\n",
    "The formula for t-statistic is \n",
    "- t = sample mean - hypothesized population mean / (sample standard deviation/sample size)\n",
    "- By putting it in the formula, we can get -6.67"
   ]
  },
  {
   "cell_type": "markdown",
   "id": "e4bccbf9-05e3-421e-9f0b-cd53d22e293b",
   "metadata": {},
   "source": [
    "Since it's a one-tailed test, we need to find critical t-value for the lower tail with (100-1) = 99 degrees of freedom. At a significance level of 0.05 and 99 degrees of freedom, the critical t-value is approx -1.6602"
   ]
  },
  {
   "cell_type": "markdown",
   "id": "bd070ef5-77c8-4c0c-92ff-caba3e2c9f0b",
   "metadata": {},
   "source": [
    "Since the t-statistics is much smaller than the critical value, it fails the rejection region, therefore the null hypothesis is rejected."
   ]
  },
  {
   "cell_type": "markdown",
   "id": "c43f6940-45cc-4e65-b3ad-9ea78694502d",
   "metadata": {},
   "source": [
    "#### Q15. An electronics company produces a certain type of product with a mean weight of 5 pounds and a standard deviation of 0.5 pounds. A random sample of 25 products is taken, and the sample mean weight is found to be 4.8 pounds. Test the hypothesis that the true mean weight of the products is less than 5 pounds with a significance level of 0.01."
   ]
  },
  {
   "cell_type": "markdown",
   "id": "629701ac-0724-4686-b4a9-d206c13eaefa",
   "metadata": {},
   "source": [
    "- Null Hypothesis(HO): The true mean weight of the products is equal to 5 pounds.\n",
    "- Alternative Hypothesis(Ha): The true mean weight of the products is less than 5 pounds.\n",
    "\n"
   ]
  },
  {
   "cell_type": "markdown",
   "id": "d5821d65-4f08-4d93-aba3-696bb87c703c",
   "metadata": {},
   "source": [
    "The significance level is 0.01(according to the question)"
   ]
  },
  {
   "cell_type": "markdown",
   "id": "b5d4940d-05cb-4015-983a-ef93b6c3db8b",
   "metadata": {},
   "source": [
    "- Calculating the z-test:\n",
    "> z = sample mean(4.8) - hypothesized population mean(5) / (sample standard deviation(0.5)/root(sample size)(25))\n",
    ">\n",
    ">  by putting the values in formula, we get the z-test value as -2"
   ]
  },
  {
   "cell_type": "markdown",
   "id": "a91658c9-7f03-431d-ad76-ff3687ba0d98",
   "metadata": {},
   "source": [
    "Since we are testin whether the mean weight is less than 5 pounds, we have to find the critical value for a one tailed test at a significance level of 0.1, so after checking the z-score table , we get the value approximately -2.33."
   ]
  },
  {
   "cell_type": "markdown",
   "id": "937d1709-cd8b-4a74-8a2d-de2c16dbb88d",
   "metadata": {},
   "source": [
    "Since the test statistic(-2) is less than the critical value(-2.33), we reject the hypothesis, since enough evidence is present to do so."
   ]
  },
  {
   "cell_type": "markdown",
   "id": "a5f08b0b-33d0-4ae3-ba07-0d8955e94b70",
   "metadata": {},
   "source": [
    "#### Q17. A marketing company wants to estimate the average number of ads watched by viewers during a TV program. They take a random sample of 50 viewers and find that the sample mean is 4 with a standard deviation of 1.5. Estimate the population mean with a 99% confidence interval.l.#### l."
   ]
  },
  {
   "cell_type": "markdown",
   "id": "fbd75b39-0801-4195-8402-3cfe7b8db361",
   "metadata": {},
   "source": [
    "sample mean = 4\n",
    "sample size = 50\n",
    "sample standard deviation = 15\n",
    "confidence level = 0.99"
   ]
  },
  {
   "cell_type": "markdown",
   "id": "e89375f9-a732-4a04-8c6f-b20586385b75",
   "metadata": {},
   "source": [
    "Since the confidence level is 99%, degree of freedom(df) = n - 1 = 49"
   ]
  },
  {
   "cell_type": "markdown",
   "id": "c23b9859-ed18-45c0-a45b-4a7c57abdadb",
   "metadata": {},
   "source": [
    "For a 99% confidence level with 49 degrees of freedom, the critical t-value is approx 2.6846"
   ]
  },
  {
   "cell_type": "markdown",
   "id": "d1738d5e-b6a7-41ac-a383-491b1141a891",
   "metadata": {},
   "source": [
    "Calculting the margin of error:\n",
    "> ME = (2.6846*1.5)/root(50) = .532"
   ]
  },
  {
   "cell_type": "markdown",
   "id": "4ad2efc4-6c03-4466-ab17-2d7d5033f8b6",
   "metadata": {},
   "source": [
    "By calculating the margin of error we can get the confidence interval:\n",
    "> (4 - 0.532, 4 + 0.532) = (3.468, 4.532)"
   ]
  },
  {
   "cell_type": "markdown",
   "id": "013a15ca-27ca-4c04-a9bb-a54bd9df95d3",
   "metadata": {},
   "source": [
    "So, with 99% confidence, the population mean number of ads wathced by viewers is estimated between 3.468 and 4.532"
   ]
  }
 ],
 "metadata": {
  "kernelspec": {
   "display_name": "Python 3 (ipykernel)",
   "language": "python",
   "name": "python3"
  },
  "language_info": {
   "codemirror_mode": {
    "name": "ipython",
    "version": 3
   },
   "file_extension": ".py",
   "mimetype": "text/x-python",
   "name": "python",
   "nbconvert_exporter": "python",
   "pygments_lexer": "ipython3",
   "version": "3.10.8"
  }
 },
 "nbformat": 4,
 "nbformat_minor": 5
}
