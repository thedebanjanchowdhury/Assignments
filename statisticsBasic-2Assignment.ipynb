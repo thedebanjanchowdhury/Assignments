{
 "cells": [
  {
   "cell_type": "markdown",
   "id": "d919daab-7a58-4329-b118-de9d130ffd7f",
   "metadata": {},
   "source": [
    "# Statistics Basic-2 Assignment"
   ]
  },
  {
   "cell_type": "markdown",
   "id": "561ec130-35bf-49f0-b299-9afca7f7f3b7",
   "metadata": {},
   "source": [
    "#### Q1. What are the three measures of central tendency?"
   ]
  },
  {
   "cell_type": "markdown",
   "id": "5c6acce3-c118-4202-83ed-8ab0360a4170",
   "metadata": {},
   "source": [
    "The three measures of central tendency are mean,median and mode"
   ]
  },
  {
   "cell_type": "markdown",
   "id": "8b736c13-fa95-4e30-86d6-41a7d77dd2ef",
   "metadata": {},
   "source": [
    "#### Q2. What are Difference betwwen mean median and mode? how are they used to measure central tendency of a dataset?"
   ]
  },
  {
   "cell_type": "markdown",
   "id": "1c230f63-b8cc-48f7-ad6d-6544667ade1e",
   "metadata": {},
   "source": [
    "**Mean**\n",
    "    The mean, also known as average, is calculated by summing up all the values in data set and then dividing by the number of values.\n",
    "\n",
    "**Median**\n",
    "    The median is the middle value in a dataset when the values are ordered in ascending/descending order. If even number of values in dataset, then the median values will be two\n",
    "\n",
    "**Mode**\n",
    "    Mode is the value that appears most frequently in a dataset. A dataset have no mode, one mode, or more than one mode."
   ]
  },
  {
   "cell_type": "markdown",
   "id": "76c83fc6-d932-410e-8e37-12782379eaa1",
   "metadata": {},
   "source": [
    "#### Q3. Measuring Three Measure of Central Tendency from the given data"
   ]
  },
  {
   "cell_type": "code",
   "execution_count": 5,
   "id": "6c5c05f8-068e-4eb2-b9bd-0dc4b4acafb0",
   "metadata": {},
   "outputs": [],
   "source": [
    "import numpy as np\n",
    "from scipy import stats\n",
    "import seaborn as sns\n",
    "sample_data =np.array([178,177,176,177,178.2,178,175,179,180,175,178.9,176.2,177,172.5,178,176.5])"
   ]
  },
  {
   "cell_type": "code",
   "execution_count": 6,
   "id": "e50b04e1-7086-4fc0-9e17-b72b2e9bb8c1",
   "metadata": {},
   "outputs": [
    {
     "data": {
      "text/plain": [
       "array([178. , 177. , 176. , 177. , 178.2, 178. , 175. , 179. , 180. ,\n",
       "       175. , 178.9, 176.2, 177. , 172.5, 178. , 176.5])"
      ]
     },
     "execution_count": 6,
     "metadata": {},
     "output_type": "execute_result"
    }
   ],
   "source": [
    "sample_data"
   ]
  },
  {
   "cell_type": "code",
   "execution_count": 7,
   "id": "8e35f15c-d2ed-44f2-8d5b-b1c6d444c820",
   "metadata": {},
   "outputs": [
    {
     "name": "stdout",
     "output_type": "stream",
     "text": [
      "The mean of the data: 177.01875\n",
      "The Median of the data:  177.0\n",
      "The Mode of the data:  177.0\n"
     ]
    },
    {
     "name": "stderr",
     "output_type": "stream",
     "text": [
      "C:\\Users\\User\\AppData\\Local\\Temp\\ipykernel_11304\\2865457919.py:8: FutureWarning: Unlike other reduction functions (e.g. `skew`, `kurtosis`), the default behavior of `mode` typically preserves the axis it acts along. In SciPy 1.11.0, this behavior will change: the default value of `keepdims` will become False, the `axis` over which the statistic is taken will be eliminated, and the value None will no longer be accepted. Set `keepdims` to True or False to avoid this warning.\n",
      "  mode_data = stats.mode(sample_data).mode[0]\n"
     ]
    }
   ],
   "source": [
    "#Calculating the mean\n",
    "print(\"The mean of the data:\", np.mean(sample_data))\n",
    "\n",
    "# Calculating the median\n",
    "print(\"The Median of the data: \", np.median(sample_data))\n",
    "\n",
    "#Calculating the mode\n",
    "mode_data = stats.mode(sample_data).mode[0]\n",
    "print(\"The Mode of the data: \", mode_data)"
   ]
  },
  {
   "cell_type": "markdown",
   "id": "94966d1f-ee06-4843-bbe3-656d415a09f6",
   "metadata": {},
   "source": [
    "#### Q4. Calculating the standard deviation from the given data"
   ]
  },
  {
   "cell_type": "code",
   "execution_count": 8,
   "id": "40dbbd9b-0bb6-43f8-99bf-93377a480df9",
   "metadata": {},
   "outputs": [],
   "source": [
    "q4_df = np.array([178,177,176,177,178.2,178,175,179,180,175,178.9,176.2,177,172.5,178,176.5])"
   ]
  },
  {
   "cell_type": "code",
   "execution_count": 9,
   "id": "ad6361c3-0833-4a3b-8905-b107591a5f11",
   "metadata": {},
   "outputs": [
    {
     "data": {
      "text/plain": [
       "1.7885814036548633"
      ]
     },
     "execution_count": 9,
     "metadata": {},
     "output_type": "execute_result"
    }
   ],
   "source": [
    "# Calculating The Standard Deviation\n",
    "np.std(q4_df)"
   ]
  },
  {
   "cell_type": "markdown",
   "id": "b527a275-1ec5-4455-9e6a-c2ee39372738",
   "metadata": {},
   "source": [
    "#### Q5. How are measures of dispersion such as range, variance, and standard deviation used to describe the spread of a dataset? Provide an example."
   ]
  },
  {
   "cell_type": "markdown",
   "id": "2a9c0170-c8ae-4466-bdfe-74e36819ad36",
   "metadata": {},
   "source": [
    "Measure of dispersions are used to describe how a dataset is spread. They provide insights into how much individual points deviate from the central tendency\n",
    "\n",
    "Here's the example dataset of student marks:"
   ]
  },
  {
   "cell_type": "code",
   "execution_count": 10,
   "id": "38f9dbde-4eca-4abb-a2ba-dd12aa0aac94",
   "metadata": {},
   "outputs": [],
   "source": [
    "student_marks = np.array([60,65,70,75,80])"
   ]
  },
  {
   "cell_type": "markdown",
   "id": "a982f936-9905-4507-b129-248ffa657f04",
   "metadata": {},
   "source": [
    "***Range***\n",
    "- Simplest measure of dispersion, it is the difference between the maximum and minimum value\n",
    "- Gives the idea of the overall spread of the data. Larger range indicates greater variability\n",
    "- The range of the following dataset will be maximum(80) - minimum(60) = 20\n",
    "\n",
    "***Variance***\n",
    "- Measure how far each data point is from mean. It is the average of the squared difference between data point and mean\n",
    "- It calculates the overall variability of the data"
   ]
  },
  {
   "cell_type": "code",
   "execution_count": 11,
   "id": "c8bbace6-2c40-4d28-a678-83cf301792a5",
   "metadata": {},
   "outputs": [
    {
     "name": "stdout",
     "output_type": "stream",
     "text": [
      "Sample Variance:  50.0\n"
     ]
    }
   ],
   "source": [
    "# Calculating the variance of the following data\n",
    "def calculate_sample_variance(data):\n",
    "    student_mean = np.mean(student_marks)\n",
    "    variance = np.var(data)\n",
    "    return variance\n",
    "\n",
    "sample_variance = calculate_sample_variance(student_marks)\n",
    "print('Sample Variance: ', sample_variance)"
   ]
  },
  {
   "cell_type": "markdown",
   "id": "a7fc1ec4-9c26-4e3c-a1cc-c97216aece40",
   "metadata": {},
   "source": [
    "***Standard Deviation:***\n",
    "- It is the square root of the variance and provides a measure of despersions in the same units as original data.\n",
    "- It is used to measure the spread of values in the dataset as well as the data distribution of the data points."
   ]
  },
  {
   "cell_type": "code",
   "execution_count": 12,
   "id": "1a3f1cbb-d144-43c0-8ae6-1b2c3948f5b4",
   "metadata": {},
   "outputs": [
    {
     "name": "stdout",
     "output_type": "stream",
     "text": [
      "Standard Deviation:  7.0710678118654755\n"
     ]
    }
   ],
   "source": [
    "# Calculating the standard deviation of the given data\n",
    "student_marks_std=np.std(student_marks)\n",
    "print('Standard Deviation: ', student_marks_std)"
   ]
  },
  {
   "cell_type": "markdown",
   "id": "5ada77f3-f385-4695-b813-28c9acd5e573",
   "metadata": {},
   "source": [
    "#### Q6. What is a Venn Diagram?"
   ]
  },
  {
   "cell_type": "markdown",
   "id": "d596dfd7-a019-46fa-89b7-54fde03f39f6",
   "metadata": {},
   "source": [
    "Venn diagram is a graphical representation of sets, consists of overlapping circles, each representing sets, and the overlaping regions show the elements that belong to multiple sets."
   ]
  },
  {
   "cell_type": "markdown",
   "id": "d1ca61ed-f289-4eec-8140-918f1608619d",
   "metadata": {},
   "source": [
    "#### Q7. Calculation on the given sets:"
   ]
  },
  {
   "cell_type": "markdown",
   "id": "436fc718-d164-4f4f-8f67-46784a1f99f8",
   "metadata": {},
   "source": [
    "A = (2,3,4,5,6,7)\n",
    "B = (0,2,6,8,10)\n",
    "\n",
    "i) For finding A∩B, we have to find the common terms of the two given sets, and those for the following cases are(2,6)\n",
    "\n",
    "ii) For finding A∪B, we have to joint the two given sets and return a whole sets from it, and those for the following cases are(0,2,3,4,5,6,7,8,10)"
   ]
  },
  {
   "cell_type": "markdown",
   "id": "ad2d3d83-fd8c-44e5-ad61-bff5cfbab862",
   "metadata": {},
   "source": [
    "#### Q8. What do you mean by skewness of data?"
   ]
  },
  {
   "cell_type": "markdown",
   "id": "fff887b1-a78c-4157-ab32-58f8151e5d3e",
   "metadata": {},
   "source": [
    "Skewness of a dataset describes the asymmetry or lack of symmetry in the distribution of dataset. It provides insights of the data and direction on which it deviates from a perfectly symmetrical distribution."
   ]
  },
  {
   "cell_type": "markdown",
   "id": "61aece43-7297-4bc5-94f8-ca9c7ff8b212",
   "metadata": {},
   "source": [
    "#### Q9. If a data is right skewed then what will be the position of median with respect to mean?"
   ]
  },
  {
   "cell_type": "markdown",
   "id": "c91dff74-8eb6-4a38-aa7a-12e6f7a1f87a",
   "metadata": {},
   "source": [
    "In a right skewed data, the mean is pulled to the right(towards the larger values), and the median is relatively closer to the center of the distribution because it is less effected by extreme values."
   ]
  },
  {
   "cell_type": "markdown",
   "id": "d7a48134-bfee-4310-9f19-c6754b40885b",
   "metadata": {
    "editable": true,
    "slideshow": {
     "slide_type": ""
    },
    "tags": []
   },
   "source": [
    "#### Q10. Explain the difference between covariance and correlation. How are these measures used in statistical analysis?"
   ]
  },
  {
   "cell_type": "markdown",
   "id": "b5215911-3d74-4768-8b18-596bf5d56089",
   "metadata": {},
   "source": [
    "Covariance measures the degree to which two variables change together. It can take both positive and negative values. It is also very sensitive to changes in scale.\n",
    "\n",
    "Correlation measure the strength and direction of a linear relationship between two variables. It always ranges between -1 and 1. It has none units, and it is not sensitive to changes in scale."
   ]
  },
  {
   "cell_type": "markdown",
   "id": "115f227f-62eb-43a8-b3ba-32282873f086",
   "metadata": {},
   "source": [
    "#### Q11. What is the formula for calculating the sample mean? Provide an example calculation for a dataset."
   ]
  },
  {
   "cell_type": "code",
   "execution_count": 26,
   "id": "685716e2-716b-4fdd-975a-d97afd49f115",
   "metadata": {},
   "outputs": [
    {
     "data": {
      "text/html": [
       "<div>\n",
       "<style scoped>\n",
       "    .dataframe tbody tr th:only-of-type {\n",
       "        vertical-align: middle;\n",
       "    }\n",
       "\n",
       "    .dataframe tbody tr th {\n",
       "        vertical-align: top;\n",
       "    }\n",
       "\n",
       "    .dataframe thead th {\n",
       "        text-align: right;\n",
       "    }\n",
       "</style>\n",
       "<table border=\"1\" class=\"dataframe\">\n",
       "  <thead>\n",
       "    <tr style=\"text-align: right;\">\n",
       "      <th></th>\n",
       "      <th>carat</th>\n",
       "      <th>cut</th>\n",
       "      <th>color</th>\n",
       "      <th>clarity</th>\n",
       "      <th>depth</th>\n",
       "      <th>table</th>\n",
       "      <th>price</th>\n",
       "      <th>x</th>\n",
       "      <th>y</th>\n",
       "      <th>z</th>\n",
       "    </tr>\n",
       "  </thead>\n",
       "  <tbody>\n",
       "    <tr>\n",
       "      <th>0</th>\n",
       "      <td>0.23</td>\n",
       "      <td>Ideal</td>\n",
       "      <td>E</td>\n",
       "      <td>SI2</td>\n",
       "      <td>61.5</td>\n",
       "      <td>55.0</td>\n",
       "      <td>326</td>\n",
       "      <td>3.95</td>\n",
       "      <td>3.98</td>\n",
       "      <td>2.43</td>\n",
       "    </tr>\n",
       "    <tr>\n",
       "      <th>1</th>\n",
       "      <td>0.21</td>\n",
       "      <td>Premium</td>\n",
       "      <td>E</td>\n",
       "      <td>SI1</td>\n",
       "      <td>59.8</td>\n",
       "      <td>61.0</td>\n",
       "      <td>326</td>\n",
       "      <td>3.89</td>\n",
       "      <td>3.84</td>\n",
       "      <td>2.31</td>\n",
       "    </tr>\n",
       "    <tr>\n",
       "      <th>2</th>\n",
       "      <td>0.23</td>\n",
       "      <td>Good</td>\n",
       "      <td>E</td>\n",
       "      <td>VS1</td>\n",
       "      <td>56.9</td>\n",
       "      <td>65.0</td>\n",
       "      <td>327</td>\n",
       "      <td>4.05</td>\n",
       "      <td>4.07</td>\n",
       "      <td>2.31</td>\n",
       "    </tr>\n",
       "    <tr>\n",
       "      <th>3</th>\n",
       "      <td>0.29</td>\n",
       "      <td>Premium</td>\n",
       "      <td>I</td>\n",
       "      <td>VS2</td>\n",
       "      <td>62.4</td>\n",
       "      <td>58.0</td>\n",
       "      <td>334</td>\n",
       "      <td>4.20</td>\n",
       "      <td>4.23</td>\n",
       "      <td>2.63</td>\n",
       "    </tr>\n",
       "    <tr>\n",
       "      <th>4</th>\n",
       "      <td>0.31</td>\n",
       "      <td>Good</td>\n",
       "      <td>J</td>\n",
       "      <td>SI2</td>\n",
       "      <td>63.3</td>\n",
       "      <td>58.0</td>\n",
       "      <td>335</td>\n",
       "      <td>4.34</td>\n",
       "      <td>4.35</td>\n",
       "      <td>2.75</td>\n",
       "    </tr>\n",
       "    <tr>\n",
       "      <th>...</th>\n",
       "      <td>...</td>\n",
       "      <td>...</td>\n",
       "      <td>...</td>\n",
       "      <td>...</td>\n",
       "      <td>...</td>\n",
       "      <td>...</td>\n",
       "      <td>...</td>\n",
       "      <td>...</td>\n",
       "      <td>...</td>\n",
       "      <td>...</td>\n",
       "    </tr>\n",
       "    <tr>\n",
       "      <th>53935</th>\n",
       "      <td>0.72</td>\n",
       "      <td>Ideal</td>\n",
       "      <td>D</td>\n",
       "      <td>SI1</td>\n",
       "      <td>60.8</td>\n",
       "      <td>57.0</td>\n",
       "      <td>2757</td>\n",
       "      <td>5.75</td>\n",
       "      <td>5.76</td>\n",
       "      <td>3.50</td>\n",
       "    </tr>\n",
       "    <tr>\n",
       "      <th>53936</th>\n",
       "      <td>0.72</td>\n",
       "      <td>Good</td>\n",
       "      <td>D</td>\n",
       "      <td>SI1</td>\n",
       "      <td>63.1</td>\n",
       "      <td>55.0</td>\n",
       "      <td>2757</td>\n",
       "      <td>5.69</td>\n",
       "      <td>5.75</td>\n",
       "      <td>3.61</td>\n",
       "    </tr>\n",
       "    <tr>\n",
       "      <th>53937</th>\n",
       "      <td>0.70</td>\n",
       "      <td>Very Good</td>\n",
       "      <td>D</td>\n",
       "      <td>SI1</td>\n",
       "      <td>62.8</td>\n",
       "      <td>60.0</td>\n",
       "      <td>2757</td>\n",
       "      <td>5.66</td>\n",
       "      <td>5.68</td>\n",
       "      <td>3.56</td>\n",
       "    </tr>\n",
       "    <tr>\n",
       "      <th>53938</th>\n",
       "      <td>0.86</td>\n",
       "      <td>Premium</td>\n",
       "      <td>H</td>\n",
       "      <td>SI2</td>\n",
       "      <td>61.0</td>\n",
       "      <td>58.0</td>\n",
       "      <td>2757</td>\n",
       "      <td>6.15</td>\n",
       "      <td>6.12</td>\n",
       "      <td>3.74</td>\n",
       "    </tr>\n",
       "    <tr>\n",
       "      <th>53939</th>\n",
       "      <td>0.75</td>\n",
       "      <td>Ideal</td>\n",
       "      <td>D</td>\n",
       "      <td>SI2</td>\n",
       "      <td>62.2</td>\n",
       "      <td>55.0</td>\n",
       "      <td>2757</td>\n",
       "      <td>5.83</td>\n",
       "      <td>5.87</td>\n",
       "      <td>3.64</td>\n",
       "    </tr>\n",
       "  </tbody>\n",
       "</table>\n",
       "<p>53940 rows × 10 columns</p>\n",
       "</div>"
      ],
      "text/plain": [
       "       carat        cut color clarity  depth  table  price     x     y     z\n",
       "0       0.23      Ideal     E     SI2   61.5   55.0    326  3.95  3.98  2.43\n",
       "1       0.21    Premium     E     SI1   59.8   61.0    326  3.89  3.84  2.31\n",
       "2       0.23       Good     E     VS1   56.9   65.0    327  4.05  4.07  2.31\n",
       "3       0.29    Premium     I     VS2   62.4   58.0    334  4.20  4.23  2.63\n",
       "4       0.31       Good     J     SI2   63.3   58.0    335  4.34  4.35  2.75\n",
       "...      ...        ...   ...     ...    ...    ...    ...   ...   ...   ...\n",
       "53935   0.72      Ideal     D     SI1   60.8   57.0   2757  5.75  5.76  3.50\n",
       "53936   0.72       Good     D     SI1   63.1   55.0   2757  5.69  5.75  3.61\n",
       "53937   0.70  Very Good     D     SI1   62.8   60.0   2757  5.66  5.68  3.56\n",
       "53938   0.86    Premium     H     SI2   61.0   58.0   2757  6.15  6.12  3.74\n",
       "53939   0.75      Ideal     D     SI2   62.2   55.0   2757  5.83  5.87  3.64\n",
       "\n",
       "[53940 rows x 10 columns]"
      ]
     },
     "execution_count": 26,
     "metadata": {},
     "output_type": "execute_result"
    }
   ],
   "source": [
    "# Loading the data\n",
    "q11_df = sns.load_dataset('diamonds')\n",
    "q11_df"
   ]
  },
  {
   "cell_type": "code",
   "execution_count": 27,
   "id": "2a85da97-a4f5-4c26-9882-93a35f570f89",
   "metadata": {},
   "outputs": [
    {
     "name": "stdout",
     "output_type": "stream",
     "text": [
      "Average price of diamonds:  3932.799721913237\n"
     ]
    }
   ],
   "source": [
    "# Calculating sample mean\n",
    "diamonds_mean = np.mean(q11_df['price'])\n",
    "print('Average price of diamonds: ', diamonds_mean)"
   ]
  },
  {
   "cell_type": "markdown",
   "id": "471d4820-01be-4918-91ae-6f2072acbf66",
   "metadata": {},
   "source": [
    "#### Q12. For a normal distribution data, what is the relationship between its measure and central tendency?"
   ]
  },
  {
   "cell_type": "markdown",
   "id": "6f2d5060-6616-4a6e-a32a-7f986d917d3d",
   "metadata": {},
   "source": [
    "- In a normal distribution, the mean median and mode all are equal, means that these three measure of central tendency have same values, and they are all located in the central distribution.\n",
    "- A normal distribution is perfetly symmetrical, it is symmetric around the mean.\n",
    "- The highest point(peak) of the normal distribution peaks at the mean value."
   ]
  },
  {
   "cell_type": "markdown",
   "id": "eaf13b30-fefb-4647-8fa7-7a16586c3609",
   "metadata": {},
   "source": [
    "#### Q13. How covariance differ from correlation?"
   ]
  },
  {
   "cell_type": "markdown",
   "id": "0e2fb842-88f8-4fd4-82a2-967fff9d1305",
   "metadata": {},
   "source": [
    "Covariance measure the direction of the linear relationship between two variable and can be positive or negative, correlation on the other hand measure both the strength and the direction of the linear relationship between two variables and ranges between -1 and 1"
   ]
  },
  {
   "cell_type": "markdown",
   "id": "54ef20e2-9b69-475a-9e46-85263532ee89",
   "metadata": {},
   "source": [
    "#### Q14. How do outliers affect measures of central tendency and dispersion? Provide an example."
   ]
  },
  {
   "cell_type": "markdown",
   "id": "629b6c3e-9f1d-4554-a29d-288a1da154d6",
   "metadata": {},
   "source": [
    "##### Measures of central tendency\n",
    "\n",
    "***Mean:***\n",
    "    Outliers can heavily influence the mean because it takes into account of all data points. for example, if salaries of employees in a company generally ranges between Rs.1,00,000 to Rs.2,50,000, and the CEO's salary is Rs.10cr every year, then the mean salary is dramatically infiated.\n",
    "\n",
    "***Median:***\n",
    "    The median is less affected by outliers since it represents the middle value of the whole sorted dataset. In the salary dataset mentioned, if the salaries ranges between the range, the CEO's salary barely affects the mean value\n",
    "\n",
    "***Mode:***\n",
    "    Mode represents the most frequent values in the dataset. The CEO's salary doesnot affect the mode value since it is only single instance.\n",
    "\n",
    "##### Measures of Dispersion:\n",
    "\n",
    "***Range:***\n",
    "    Range significantly affected by outliers, the range is the difference between maximum and minimum values.\n",
    "    "
   ]
  },
  {
   "cell_type": "code",
   "execution_count": null,
   "id": "54f5b192-2bb9-4b0d-b3c9-2c8297665f80",
   "metadata": {},
   "outputs": [],
   "source": []
  }
 ],
 "metadata": {
  "kernelspec": {
   "display_name": "Python 3 (ipykernel)",
   "language": "python",
   "name": "python3"
  },
  "language_info": {
   "codemirror_mode": {
    "name": "ipython",
    "version": 3
   },
   "file_extension": ".py",
   "mimetype": "text/x-python",
   "name": "python",
   "nbconvert_exporter": "python",
   "pygments_lexer": "ipython3",
   "version": "3.10.8"
  }
 },
 "nbformat": 4,
 "nbformat_minor": 5
}
