{
 "cells": [
  {
   "cell_type": "markdown",
   "id": "d98ed0a9-8f37-4a90-8fcc-7e0db9d16e97",
   "metadata": {},
   "source": [
    "# Statistics Basic-1 Assignment"
   ]
  },
  {
   "cell_type": "markdown",
   "id": "42cfa775-af20-4481-ba15-c2d92271e28b",
   "metadata": {},
   "source": [
    "#### Q1. What is Statistics?"
   ]
  },
  {
   "cell_type": "markdown",
   "id": "46a89686-2e99-45e9-80a8-094b07eed4ec",
   "metadata": {},
   "source": [
    "Statistics is the science of collecting, exploring enterpriting and presenting of data"
   ]
  },
  {
   "cell_type": "markdown",
   "id": "ccee1933-973d-479e-b1e2-5230a30c300e",
   "metadata": {},
   "source": [
    "#### Q2. Define the different types of statictis and give suitable example of each one"
   ]
  },
  {
   "cell_type": "markdown",
   "id": "14cdc619-16a7-4b90-8c47-7fd8aa2d7a25",
   "metadata": {},
   "source": [
    "1. **Descriptive Statistics**: Used to summarize and describe data sets, also provides basic information about data's central tendency, distribution etc parameters by calculating mean, median and mode.\n",
    "\n",
    "> Example: The mean(average) order of a store is $10"
   ]
  },
  {
   "cell_type": "markdown",
   "id": "e4f87928-57ae-417c-a13e-9ac0a5648be1",
   "metadata": {},
   "source": [
    "2. **Inferential Statistics:** Involves making predictions about a population based on a sample data. Common techniques in it are hypothesis testing and confidence intervals.\n",
    "\n",
    "> Example: A company takes random sample of 100 customers to estimate average amount they spent per visit, and then uses the sample what a future customer might spent in their services"
   ]
  },
  {
   "cell_type": "markdown",
   "id": "18265604-4501-4d62-aa08-ddbb166ed3dc",
   "metadata": {},
   "source": [
    "3. **Probability Distribution:** describes how data is distributed. Common probability distributions are normal distribution, binomial distribution and poisson distribution.\n",
    "\n",
    "> Example: Normal distribution is often used to model the distribuiton of heights in a population"
   ]
  },
  {
   "cell_type": "markdown",
   "id": "673ea229-1b10-45e5-81e9-30216bf0b1e1",
   "metadata": {},
   "source": [
    "#### Q3. What are the different types of data and how do they differ from each other?Provide an example of each one."
   ]
  },
  {
   "cell_type": "markdown",
   "id": "a2ea5faf-6498-416f-b586-d57100d361f4",
   "metadata": {},
   "source": [
    "Data can be categorised into different types based on their characteristics and the way they represented."
   ]
  },
  {
   "cell_type": "markdown",
   "id": "cd991cde-8495-4f1e-a167-529a5809c47c",
   "metadata": {},
   "source": [
    "1. **Nominal Data:** Categorical data that represents separate categories, no ranking is present among the categories.\n",
    "> Example: Colors(Red, Gree, Blue)"
   ]
  },
  {
   "cell_type": "markdown",
   "id": "cfd6e45d-0cbc-4e85-b6f2-3ca397eda3c8",
   "metadata": {},
   "source": [
    "2. **Ordinal Data:** Categorical data that have a specific order or ranking among the categories, but the intervals between the data are not uniform as such.\n",
    "> Example: Customer Satisfaction Raitng(Very satisfied, dissatisfied, neutral, satisfied etc.)"
   ]
  },
  {
   "cell_type": "markdown",
   "id": "30371acc-0fc8-447e-88df-d540f98ad458",
   "metadata": {},
   "source": [
    "3. **Interval Data:** These are numerical data with consistant intervals between values, but no true zero points is present in the dataset. Operations like addition and substraction make sense, but there is no need of multiplication and division.\n",
    "> Example: Temperature in Celcius/Farenheit"
   ]
  },
  {
   "cell_type": "markdown",
   "id": "6a0b2914-8242-41aa-9800-1bf640988b5d",
   "metadata": {},
   "source": [
    "4. **Ratio Data:** Numerical data with constant intervals between values with true zero point. All mathematical operations are meaningful as well.\n",
    "> Example: Age, Height, Income etc. with 0 being present in the dataset."
   ]
  },
  {
   "cell_type": "markdown",
   "id": "4452573a-7d51-43e8-9a8d-02332c34d65c",
   "metadata": {},
   "source": [
    "#### Q4 Categorising the given dataset with respect to auantitative and qualitative data types."
   ]
  },
  {
   "cell_type": "markdown",
   "id": "548aae35-64cb-4c2b-9e49-e7b0e27132a3",
   "metadata": {},
   "source": [
    "(i) Grading in exam refers a qualitative data type, as it is a non integer type data. It also represents ranking among the whole dataset, a higher grade(A+) is determined as good as compared to other ones.\n",
    "\n",
    "(ii) Color of mangoes is a qualitative data type, as it represents categorical data that are not integers\n",
    "\n",
    "(iii) Height data of class is a quantitive data type\n",
    "\n",
    "(iv) Number of mangoes is a quantitive data type"
   ]
  },
  {
   "cell_type": "markdown",
   "id": "edede893-42b0-43df-9ba7-dfcdad066986",
   "metadata": {},
   "source": [
    "#### Q5. Explain the concept of levels of measurement and give an example of a variable for each level."
   ]
  },
  {
   "cell_type": "markdown",
   "id": "2efd41bf-528d-4d1d-98f6-baf05d52111e",
   "metadata": {},
   "source": [
    "Levels of measurement refer to the way which data is categorized, organised and measured. Here are different types of measurements.\n",
    "\n",
    "1. **Nominal Level(Categorical):**\n",
    "- Data is categorized into distinct categories/ groups with no ranking between values.\n",
    "- Mathematical operations(addition, substraction) are not meaningful.\n",
    "> Example: Gender(Male,Female)\n",
    "\n",
    "2. **Ordinal Level(Ordered Categorical):**\n",
    "-  Involves data that can be categorized into ordered categories.\n",
    "-  Ranking among the category is meaningful, but the intervals of the values are not consistent\n",
    "> Example: Educational Level(High School, Bahcelor's, Master's etc.)\n",
    "\n",
    "3. **Interval Level:**\n",
    "- Ordered categories with consistant intervals between values, but no existance of non zero data\n",
    "- A Addition and substraction so meaningful, but not multiplication and division.\n",
    "> Example: Temperature\n",
    "\n",
    "4. **Ratio Data:**\n",
    "- Have ordered categories with consistent intervals between them with true xero points.\n",
    "- Allarithmetic operations are meaningful\n",
    "> Example: Age, Income"
   ]
  },
  {
   "cell_type": "markdown",
   "id": "17417e45-eb91-4bf9-bb8b-41bc11ed7587",
   "metadata": {},
   "source": [
    "#### Q6. Why is it important to understand the level of measurement when analyzing data? Provide an example to illustrate your answer."
   ]
  },
  {
   "cell_type": "markdown",
   "id": "530142a8-d992-43a4-95df-bbacb220a082",
   "metadata": {},
   "source": [
    "Different levels of measurement require different types of stastical analysis. Choosing the wrong analysis may lead to incorrect conclusions. Understanding the level of measurement helps the researchers the most appropriate statistical tests and techniques.\n",
    "\n",
    "For example, consider a study that examines the effect of three different teaching methods(A, B, C) on performence of the students. The variable has three categories, 'low', 'medium', and 'high'. Since the outcomes are ordinal, doing stastical tasks by considering the value as a quantitative data may lead to incorrectness."
   ]
  },
  {
   "cell_type": "markdown",
   "id": "261930cf-d4f2-496d-ad0c-ca8eb9a8644e",
   "metadata": {},
   "source": [
    "#### Q7. How nominal data is different from ordinal data type?"
   ]
  },
  {
   "cell_type": "markdown",
   "id": "fbef2de1-d396-4e65-9cb5-3e89d3edb141",
   "metadata": {},
   "source": [
    "- Nominal data consists of categories with no inherent ranking, where as in case of ordinal, ranking of data is present.\n",
    "- Nominal data provide informations about the identity of the items, whereas ordinal data give information of the relative positions/ranks of items."
   ]
  },
  {
   "cell_type": "markdown",
   "id": "eb5c3cfa-77f2-4670-987a-5b402f797491",
   "metadata": {},
   "source": [
    "##### Q8. Which type of plot can be used to display data in terms of range?"
   ]
  },
  {
   "cell_type": "markdown",
   "id": "79f27823-a46f-4d67-ab19-6e815eed633e",
   "metadata": {},
   "source": [
    "In terms of displaying data with range, using the box plot will be ideal."
   ]
  },
  {
   "cell_type": "markdown",
   "id": "51dc8968-5a69-4250-a035-17333036321f",
   "metadata": {},
   "source": [
    "#### Q9. Describe the difference between descriptive and inferential statistics. Give an example of each type of statistics and explain how they are used."
   ]
  },
  {
   "cell_type": "markdown",
   "id": "462e802c-2757-4760-b5af-f279869ad22a",
   "metadata": {},
   "source": [
    "##### **Descriptive Statistics**\n",
    "- Used to summarize and describe the main feature of a given dataset\n",
    "- Does not involve making interferences/predictions about populations, instead the specify on organizing and presenting the data\n",
    "- For example, From a student dataset, calculating the mean median and standard deviation of the marks, and using histogram to visualize the frequency distribution\n",
    "\n",
    "##### **Inferential Statistics**\n",
    "- Involving interfering and making predictions about a population based on a sample data.\n",
    "- Uses probability theory and statistical techniques to assess the likelihood of population based on sample data\n",
    "- For example, defining whether a new teching method should be implemented or not thoroughout the whole university curriculam by picking randim 100 students and testing and analyzing the new method results."
   ]
  },
  {
   "cell_type": "markdown",
   "id": "d5906b76-f098-4e60-9850-0caa2e4788bb",
   "metadata": {},
   "source": [
    "#### Q10. What are some common measures of central tendency and variability used in statistics? Explain how each measure can be used to describe a dataset."
   ]
  },
  {
   "cell_type": "markdown",
   "id": "3f667905-d27c-41b3-a106-4d7bfdc68b6e",
   "metadata": {},
   "source": [
    "1. **Mean:**\n",
    "- Sum of all data values divided by the total number of data points.\n",
    "- represents the centre of the data distribution\n",
    "- sensitive to extreme outliers\n",
    "- Used to find average value of a dataset, making useful for understanding the overall trend of the data.\n",
    "\n",
    "2. **Median:**\n",
    "- Middle value when the data is sorted.\n",
    "- Robust to outliers because it's not influenced by extreme outliers.\n",
    "- Represents the middle value which is helpful when data is not normally distributed.\n",
    "\n",
    "3. **Mode:**\n",
    "- Most frequently occuring value in the dataset.\n",
    "- a dataset can have one mode or more than one mode, or no modes\n",
    "- mode is used to identify the most common values, which can be useful for categorical data."
   ]
  },
  {
   "cell_type": "code",
   "execution_count": null,
   "id": "2d9c088b-0e4a-427a-8f93-9f562eac319f",
   "metadata": {},
   "outputs": [],
   "source": []
  }
 ],
 "metadata": {
  "kernelspec": {
   "display_name": "Python 3 (ipykernel)",
   "language": "python",
   "name": "python3"
  },
  "language_info": {
   "codemirror_mode": {
    "name": "ipython",
    "version": 3
   },
   "file_extension": ".py",
   "mimetype": "text/x-python",
   "name": "python",
   "nbconvert_exporter": "python",
   "pygments_lexer": "ipython3",
   "version": "3.10.8"
  }
 },
 "nbformat": 4,
 "nbformat_minor": 5
}
