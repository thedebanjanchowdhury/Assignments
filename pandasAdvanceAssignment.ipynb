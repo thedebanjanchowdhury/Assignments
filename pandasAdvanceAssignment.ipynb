{
 "cells": [
  {
   "cell_type": "markdown",
   "id": "a605e1e5-0590-4c8b-874f-153e2034a39c",
   "metadata": {},
   "source": [
    "# Pandas Assignment 1"
   ]
  },
  {
   "cell_type": "markdown",
   "id": "11608bbf-51a6-4c91-8dfd-463af592c7f6",
   "metadata": {},
   "source": [
    "### Q1. List any five functions of the pandas library with execution."
   ]
  },
  {
   "cell_type": "markdown",
   "id": "d01a3184-11f3-4454-9f59-d89e36f2ec2d",
   "metadata": {},
   "source": [
    "- **.head():** it is used in order to display top elements of a big table provided"
   ]
  },
  {
   "cell_type": "code",
   "execution_count": 1,
   "id": "e96267dd-884f-4a59-9877-c6a561cd5aac",
   "metadata": {},
   "outputs": [
    {
     "name": "stdout",
     "output_type": "stream",
     "text": [
      "Collecting lxml\n",
      "  Downloading lxml-4.9.3-cp310-cp310-manylinux_2_28_x86_64.whl (7.9 MB)\n",
      "\u001b[2K     \u001b[90m━━━━━━━━━━━━━━━━━━━━━━━━━━━━━━━━━━━━━━━━\u001b[0m \u001b[32m7.9/7.9 MB\u001b[0m \u001b[31m48.7 MB/s\u001b[0m eta \u001b[36m0:00:00\u001b[0m00:01\u001b[0m00:01\u001b[0m\n",
      "\u001b[?25hInstalling collected packages: lxml\n",
      "Successfully installed lxml-4.9.3\n",
      "Note: you may need to restart the kernel to use updated packages.\n"
     ]
    }
   ],
   "source": [
    "pip install lxml"
   ]
  },
  {
   "cell_type": "code",
   "execution_count": 2,
   "id": "6e5101e3-364e-419b-8f6c-1d4b7c4b764d",
   "metadata": {},
   "outputs": [],
   "source": [
    "import pandas as pd\n",
    "test = pd.read_html(\"https://www.basketball-reference.com/leagues/NBA_2022_totals.html\")"
   ]
  },
  {
   "cell_type": "code",
   "execution_count": 3,
   "id": "3660f07c-68b0-42da-a017-f57b38ba64af",
   "metadata": {},
   "outputs": [],
   "source": [
    "df = test[0]"
   ]
  },
  {
   "cell_type": "code",
   "execution_count": 4,
   "id": "c99da602-4d47-4c24-ba8a-b7a05208ab87",
   "metadata": {},
   "outputs": [
    {
     "data": {
      "text/html": [
       "<div>\n",
       "<style scoped>\n",
       "    .dataframe tbody tr th:only-of-type {\n",
       "        vertical-align: middle;\n",
       "    }\n",
       "\n",
       "    .dataframe tbody tr th {\n",
       "        vertical-align: top;\n",
       "    }\n",
       "\n",
       "    .dataframe thead th {\n",
       "        text-align: right;\n",
       "    }\n",
       "</style>\n",
       "<table border=\"1\" class=\"dataframe\">\n",
       "  <thead>\n",
       "    <tr style=\"text-align: right;\">\n",
       "      <th></th>\n",
       "      <th>Rk</th>\n",
       "      <th>Player</th>\n",
       "      <th>Pos</th>\n",
       "      <th>Age</th>\n",
       "      <th>Tm</th>\n",
       "      <th>G</th>\n",
       "      <th>GS</th>\n",
       "      <th>MP</th>\n",
       "      <th>FG</th>\n",
       "      <th>FGA</th>\n",
       "      <th>...</th>\n",
       "      <th>FT%</th>\n",
       "      <th>ORB</th>\n",
       "      <th>DRB</th>\n",
       "      <th>TRB</th>\n",
       "      <th>AST</th>\n",
       "      <th>STL</th>\n",
       "      <th>BLK</th>\n",
       "      <th>TOV</th>\n",
       "      <th>PF</th>\n",
       "      <th>PTS</th>\n",
       "    </tr>\n",
       "  </thead>\n",
       "  <tbody>\n",
       "    <tr>\n",
       "      <th>0</th>\n",
       "      <td>1</td>\n",
       "      <td>Precious Achiuwa</td>\n",
       "      <td>C</td>\n",
       "      <td>22</td>\n",
       "      <td>TOR</td>\n",
       "      <td>73</td>\n",
       "      <td>28</td>\n",
       "      <td>1725</td>\n",
       "      <td>265</td>\n",
       "      <td>603</td>\n",
       "      <td>...</td>\n",
       "      <td>.595</td>\n",
       "      <td>146</td>\n",
       "      <td>327</td>\n",
       "      <td>473</td>\n",
       "      <td>82</td>\n",
       "      <td>37</td>\n",
       "      <td>41</td>\n",
       "      <td>84</td>\n",
       "      <td>151</td>\n",
       "      <td>664</td>\n",
       "    </tr>\n",
       "    <tr>\n",
       "      <th>1</th>\n",
       "      <td>2</td>\n",
       "      <td>Steven Adams</td>\n",
       "      <td>C</td>\n",
       "      <td>28</td>\n",
       "      <td>MEM</td>\n",
       "      <td>76</td>\n",
       "      <td>75</td>\n",
       "      <td>1999</td>\n",
       "      <td>210</td>\n",
       "      <td>384</td>\n",
       "      <td>...</td>\n",
       "      <td>.543</td>\n",
       "      <td>349</td>\n",
       "      <td>411</td>\n",
       "      <td>760</td>\n",
       "      <td>256</td>\n",
       "      <td>65</td>\n",
       "      <td>60</td>\n",
       "      <td>115</td>\n",
       "      <td>153</td>\n",
       "      <td>528</td>\n",
       "    </tr>\n",
       "    <tr>\n",
       "      <th>2</th>\n",
       "      <td>3</td>\n",
       "      <td>Bam Adebayo</td>\n",
       "      <td>C</td>\n",
       "      <td>24</td>\n",
       "      <td>MIA</td>\n",
       "      <td>56</td>\n",
       "      <td>56</td>\n",
       "      <td>1825</td>\n",
       "      <td>406</td>\n",
       "      <td>729</td>\n",
       "      <td>...</td>\n",
       "      <td>.753</td>\n",
       "      <td>137</td>\n",
       "      <td>427</td>\n",
       "      <td>564</td>\n",
       "      <td>190</td>\n",
       "      <td>80</td>\n",
       "      <td>44</td>\n",
       "      <td>148</td>\n",
       "      <td>171</td>\n",
       "      <td>1068</td>\n",
       "    </tr>\n",
       "    <tr>\n",
       "      <th>3</th>\n",
       "      <td>4</td>\n",
       "      <td>Santi Aldama</td>\n",
       "      <td>PF</td>\n",
       "      <td>21</td>\n",
       "      <td>MEM</td>\n",
       "      <td>32</td>\n",
       "      <td>0</td>\n",
       "      <td>360</td>\n",
       "      <td>53</td>\n",
       "      <td>132</td>\n",
       "      <td>...</td>\n",
       "      <td>.625</td>\n",
       "      <td>33</td>\n",
       "      <td>54</td>\n",
       "      <td>87</td>\n",
       "      <td>21</td>\n",
       "      <td>6</td>\n",
       "      <td>10</td>\n",
       "      <td>16</td>\n",
       "      <td>36</td>\n",
       "      <td>132</td>\n",
       "    </tr>\n",
       "    <tr>\n",
       "      <th>4</th>\n",
       "      <td>5</td>\n",
       "      <td>LaMarcus Aldridge</td>\n",
       "      <td>C</td>\n",
       "      <td>36</td>\n",
       "      <td>BRK</td>\n",
       "      <td>47</td>\n",
       "      <td>12</td>\n",
       "      <td>1050</td>\n",
       "      <td>252</td>\n",
       "      <td>458</td>\n",
       "      <td>...</td>\n",
       "      <td>.873</td>\n",
       "      <td>73</td>\n",
       "      <td>185</td>\n",
       "      <td>258</td>\n",
       "      <td>42</td>\n",
       "      <td>14</td>\n",
       "      <td>47</td>\n",
       "      <td>44</td>\n",
       "      <td>78</td>\n",
       "      <td>607</td>\n",
       "    </tr>\n",
       "  </tbody>\n",
       "</table>\n",
       "<p>5 rows × 30 columns</p>\n",
       "</div>"
      ],
      "text/plain": [
       "  Rk             Player Pos Age   Tm   G  GS    MP   FG  FGA  ...   FT%  ORB  \\\n",
       "0  1   Precious Achiuwa   C  22  TOR  73  28  1725  265  603  ...  .595  146   \n",
       "1  2       Steven Adams   C  28  MEM  76  75  1999  210  384  ...  .543  349   \n",
       "2  3        Bam Adebayo   C  24  MIA  56  56  1825  406  729  ...  .753  137   \n",
       "3  4       Santi Aldama  PF  21  MEM  32   0   360   53  132  ...  .625   33   \n",
       "4  5  LaMarcus Aldridge   C  36  BRK  47  12  1050  252  458  ...  .873   73   \n",
       "\n",
       "   DRB  TRB  AST STL BLK  TOV   PF   PTS  \n",
       "0  327  473   82  37  41   84  151   664  \n",
       "1  411  760  256  65  60  115  153   528  \n",
       "2  427  564  190  80  44  148  171  1068  \n",
       "3   54   87   21   6  10   16   36   132  \n",
       "4  185  258   42  14  47   44   78   607  \n",
       "\n",
       "[5 rows x 30 columns]"
      ]
     },
     "execution_count": 4,
     "metadata": {},
     "output_type": "execute_result"
    }
   ],
   "source": [
    "df.head()"
   ]
  },
  {
   "cell_type": "markdown",
   "id": "ea08e430-8c3e-471d-9eca-c88604f1c816",
   "metadata": {},
   "source": [
    "- **type():** This is used to check the datatype of any given variable passed in the function"
   ]
  },
  {
   "cell_type": "code",
   "execution_count": 5,
   "id": "0025d5c5-f830-49f6-b6fb-08afe9c89b92",
   "metadata": {},
   "outputs": [
    {
     "data": {
      "text/plain": [
       "pandas.core.frame.DataFrame"
      ]
     },
     "execution_count": 5,
     "metadata": {},
     "output_type": "execute_result"
    }
   ],
   "source": [
    "type(df)"
   ]
  },
  {
   "cell_type": "markdown",
   "id": "30839bce-ce74-47a8-bfdd-2df00812b072",
   "metadata": {},
   "source": [
    "- **.dtypes():** This is used to check the datatypes of individual coloumns in a given dataframe"
   ]
  },
  {
   "cell_type": "code",
   "execution_count": 6,
   "id": "851a27f5-4b0e-4ce5-a8c3-a1ad6509f606",
   "metadata": {},
   "outputs": [
    {
     "data": {
      "text/plain": [
       "Rk        object\n",
       "Player    object\n",
       "Pos       object\n",
       "Age       object\n",
       "Tm        object\n",
       "G         object\n",
       "GS        object\n",
       "MP        object\n",
       "FG        object\n",
       "FGA       object\n",
       "FG%       object\n",
       "3P        object\n",
       "3PA       object\n",
       "3P%       object\n",
       "2P        object\n",
       "2PA       object\n",
       "2P%       object\n",
       "eFG%      object\n",
       "FT        object\n",
       "FTA       object\n",
       "FT%       object\n",
       "ORB       object\n",
       "DRB       object\n",
       "TRB       object\n",
       "AST       object\n",
       "STL       object\n",
       "BLK       object\n",
       "TOV       object\n",
       "PF        object\n",
       "PTS       object\n",
       "dtype: object"
      ]
     },
     "execution_count": 6,
     "metadata": {},
     "output_type": "execute_result"
    }
   ],
   "source": [
    "df.dtypes"
   ]
  },
  {
   "cell_type": "markdown",
   "id": "25cc57f8-243d-4b73-bd99-b383a3df0f86",
   "metadata": {},
   "source": [
    "- **.tail():** This is used to display the last elements of a given table"
   ]
  },
  {
   "cell_type": "code",
   "execution_count": 7,
   "id": "a6b9f291-bb6b-4030-b987-2107d21748ff",
   "metadata": {},
   "outputs": [
    {
     "data": {
      "text/html": [
       "<div>\n",
       "<style scoped>\n",
       "    .dataframe tbody tr th:only-of-type {\n",
       "        vertical-align: middle;\n",
       "    }\n",
       "\n",
       "    .dataframe tbody tr th {\n",
       "        vertical-align: top;\n",
       "    }\n",
       "\n",
       "    .dataframe thead th {\n",
       "        text-align: right;\n",
       "    }\n",
       "</style>\n",
       "<table border=\"1\" class=\"dataframe\">\n",
       "  <thead>\n",
       "    <tr style=\"text-align: right;\">\n",
       "      <th></th>\n",
       "      <th>Rk</th>\n",
       "      <th>Player</th>\n",
       "      <th>Pos</th>\n",
       "      <th>Age</th>\n",
       "      <th>Tm</th>\n",
       "      <th>G</th>\n",
       "      <th>GS</th>\n",
       "      <th>MP</th>\n",
       "      <th>FG</th>\n",
       "      <th>FGA</th>\n",
       "      <th>...</th>\n",
       "      <th>FT%</th>\n",
       "      <th>ORB</th>\n",
       "      <th>DRB</th>\n",
       "      <th>TRB</th>\n",
       "      <th>AST</th>\n",
       "      <th>STL</th>\n",
       "      <th>BLK</th>\n",
       "      <th>TOV</th>\n",
       "      <th>PF</th>\n",
       "      <th>PTS</th>\n",
       "    </tr>\n",
       "  </thead>\n",
       "  <tbody>\n",
       "    <tr>\n",
       "      <th>837</th>\n",
       "      <td>601</td>\n",
       "      <td>Thaddeus Young</td>\n",
       "      <td>PF</td>\n",
       "      <td>33</td>\n",
       "      <td>TOR</td>\n",
       "      <td>26</td>\n",
       "      <td>0</td>\n",
       "      <td>475</td>\n",
       "      <td>67</td>\n",
       "      <td>144</td>\n",
       "      <td>...</td>\n",
       "      <td>.481</td>\n",
       "      <td>40</td>\n",
       "      <td>75</td>\n",
       "      <td>115</td>\n",
       "      <td>45</td>\n",
       "      <td>31</td>\n",
       "      <td>11</td>\n",
       "      <td>22</td>\n",
       "      <td>43</td>\n",
       "      <td>164</td>\n",
       "    </tr>\n",
       "    <tr>\n",
       "      <th>838</th>\n",
       "      <td>602</td>\n",
       "      <td>Trae Young</td>\n",
       "      <td>PG</td>\n",
       "      <td>23</td>\n",
       "      <td>ATL</td>\n",
       "      <td>76</td>\n",
       "      <td>76</td>\n",
       "      <td>2652</td>\n",
       "      <td>711</td>\n",
       "      <td>1544</td>\n",
       "      <td>...</td>\n",
       "      <td>.904</td>\n",
       "      <td>50</td>\n",
       "      <td>234</td>\n",
       "      <td>284</td>\n",
       "      <td>737</td>\n",
       "      <td>72</td>\n",
       "      <td>7</td>\n",
       "      <td>303</td>\n",
       "      <td>128</td>\n",
       "      <td>2155</td>\n",
       "    </tr>\n",
       "    <tr>\n",
       "      <th>839</th>\n",
       "      <td>603</td>\n",
       "      <td>Omer Yurtseven</td>\n",
       "      <td>C</td>\n",
       "      <td>23</td>\n",
       "      <td>MIA</td>\n",
       "      <td>56</td>\n",
       "      <td>12</td>\n",
       "      <td>706</td>\n",
       "      <td>130</td>\n",
       "      <td>247</td>\n",
       "      <td>...</td>\n",
       "      <td>.623</td>\n",
       "      <td>85</td>\n",
       "      <td>209</td>\n",
       "      <td>294</td>\n",
       "      <td>49</td>\n",
       "      <td>17</td>\n",
       "      <td>20</td>\n",
       "      <td>41</td>\n",
       "      <td>84</td>\n",
       "      <td>299</td>\n",
       "    </tr>\n",
       "    <tr>\n",
       "      <th>840</th>\n",
       "      <td>604</td>\n",
       "      <td>Cody Zeller</td>\n",
       "      <td>C</td>\n",
       "      <td>29</td>\n",
       "      <td>POR</td>\n",
       "      <td>27</td>\n",
       "      <td>0</td>\n",
       "      <td>355</td>\n",
       "      <td>51</td>\n",
       "      <td>90</td>\n",
       "      <td>...</td>\n",
       "      <td>.776</td>\n",
       "      <td>50</td>\n",
       "      <td>75</td>\n",
       "      <td>125</td>\n",
       "      <td>22</td>\n",
       "      <td>8</td>\n",
       "      <td>6</td>\n",
       "      <td>19</td>\n",
       "      <td>56</td>\n",
       "      <td>140</td>\n",
       "    </tr>\n",
       "    <tr>\n",
       "      <th>841</th>\n",
       "      <td>605</td>\n",
       "      <td>Ivica Zubac</td>\n",
       "      <td>C</td>\n",
       "      <td>24</td>\n",
       "      <td>LAC</td>\n",
       "      <td>76</td>\n",
       "      <td>76</td>\n",
       "      <td>1852</td>\n",
       "      <td>310</td>\n",
       "      <td>495</td>\n",
       "      <td>...</td>\n",
       "      <td>.727</td>\n",
       "      <td>217</td>\n",
       "      <td>427</td>\n",
       "      <td>644</td>\n",
       "      <td>120</td>\n",
       "      <td>36</td>\n",
       "      <td>77</td>\n",
       "      <td>114</td>\n",
       "      <td>203</td>\n",
       "      <td>785</td>\n",
       "    </tr>\n",
       "  </tbody>\n",
       "</table>\n",
       "<p>5 rows × 30 columns</p>\n",
       "</div>"
      ],
      "text/plain": [
       "      Rk          Player Pos Age   Tm   G  GS    MP   FG   FGA  ...   FT%  \\\n",
       "837  601  Thaddeus Young  PF  33  TOR  26   0   475   67   144  ...  .481   \n",
       "838  602      Trae Young  PG  23  ATL  76  76  2652  711  1544  ...  .904   \n",
       "839  603  Omer Yurtseven   C  23  MIA  56  12   706  130   247  ...  .623   \n",
       "840  604     Cody Zeller   C  29  POR  27   0   355   51    90  ...  .776   \n",
       "841  605     Ivica Zubac   C  24  LAC  76  76  1852  310   495  ...  .727   \n",
       "\n",
       "     ORB  DRB  TRB  AST STL BLK  TOV   PF   PTS  \n",
       "837   40   75  115   45  31  11   22   43   164  \n",
       "838   50  234  284  737  72   7  303  128  2155  \n",
       "839   85  209  294   49  17  20   41   84   299  \n",
       "840   50   75  125   22   8   6   19   56   140  \n",
       "841  217  427  644  120  36  77  114  203   785  \n",
       "\n",
       "[5 rows x 30 columns]"
      ]
     },
     "execution_count": 7,
     "metadata": {},
     "output_type": "execute_result"
    }
   ],
   "source": [
    "df.tail()"
   ]
  },
  {
   "cell_type": "markdown",
   "id": "0057bb51-ab5b-49a4-89f4-c8e76c1889fb",
   "metadata": {},
   "source": [
    "- **.describe:** It does basic statistical operations of a given data."
   ]
  },
  {
   "cell_type": "code",
   "execution_count": 8,
   "id": "2bfbbfd4-aae0-430c-9bf6-773f4d6424a9",
   "metadata": {},
   "outputs": [
    {
     "data": {
      "text/html": [
       "<div>\n",
       "<style scoped>\n",
       "    .dataframe tbody tr th:only-of-type {\n",
       "        vertical-align: middle;\n",
       "    }\n",
       "\n",
       "    .dataframe tbody tr th {\n",
       "        vertical-align: top;\n",
       "    }\n",
       "\n",
       "    .dataframe thead th {\n",
       "        text-align: right;\n",
       "    }\n",
       "</style>\n",
       "<table border=\"1\" class=\"dataframe\">\n",
       "  <thead>\n",
       "    <tr style=\"text-align: right;\">\n",
       "      <th></th>\n",
       "      <th>Rk</th>\n",
       "      <th>Player</th>\n",
       "      <th>Pos</th>\n",
       "      <th>Age</th>\n",
       "      <th>Tm</th>\n",
       "      <th>G</th>\n",
       "      <th>GS</th>\n",
       "      <th>MP</th>\n",
       "      <th>FG</th>\n",
       "      <th>FGA</th>\n",
       "      <th>...</th>\n",
       "      <th>FT%</th>\n",
       "      <th>ORB</th>\n",
       "      <th>DRB</th>\n",
       "      <th>TRB</th>\n",
       "      <th>AST</th>\n",
       "      <th>STL</th>\n",
       "      <th>BLK</th>\n",
       "      <th>TOV</th>\n",
       "      <th>PF</th>\n",
       "      <th>PTS</th>\n",
       "    </tr>\n",
       "  </thead>\n",
       "  <tbody>\n",
       "    <tr>\n",
       "      <th>count</th>\n",
       "      <td>842</td>\n",
       "      <td>842</td>\n",
       "      <td>842</td>\n",
       "      <td>842</td>\n",
       "      <td>842</td>\n",
       "      <td>842</td>\n",
       "      <td>842</td>\n",
       "      <td>842</td>\n",
       "      <td>842</td>\n",
       "      <td>842</td>\n",
       "      <td>...</td>\n",
       "      <td>745</td>\n",
       "      <td>842</td>\n",
       "      <td>842</td>\n",
       "      <td>842</td>\n",
       "      <td>842</td>\n",
       "      <td>842</td>\n",
       "      <td>842</td>\n",
       "      <td>842</td>\n",
       "      <td>842</td>\n",
       "      <td>842</td>\n",
       "    </tr>\n",
       "    <tr>\n",
       "      <th>unique</th>\n",
       "      <td>606</td>\n",
       "      <td>606</td>\n",
       "      <td>13</td>\n",
       "      <td>23</td>\n",
       "      <td>32</td>\n",
       "      <td>83</td>\n",
       "      <td>81</td>\n",
       "      <td>626</td>\n",
       "      <td>339</td>\n",
       "      <td>475</td>\n",
       "      <td>...</td>\n",
       "      <td>282</td>\n",
       "      <td>148</td>\n",
       "      <td>303</td>\n",
       "      <td>347</td>\n",
       "      <td>260</td>\n",
       "      <td>107</td>\n",
       "      <td>85</td>\n",
       "      <td>168</td>\n",
       "      <td>203</td>\n",
       "      <td>488</td>\n",
       "    </tr>\n",
       "    <tr>\n",
       "      <th>top</th>\n",
       "      <td>Rk</td>\n",
       "      <td>Player</td>\n",
       "      <td>SG</td>\n",
       "      <td>24</td>\n",
       "      <td>TOT</td>\n",
       "      <td>2</td>\n",
       "      <td>0</td>\n",
       "      <td>MP</td>\n",
       "      <td>0</td>\n",
       "      <td>FGA</td>\n",
       "      <td>...</td>\n",
       "      <td>1.000</td>\n",
       "      <td>0</td>\n",
       "      <td>0</td>\n",
       "      <td>0</td>\n",
       "      <td>0</td>\n",
       "      <td>0</td>\n",
       "      <td>0</td>\n",
       "      <td>0</td>\n",
       "      <td>0</td>\n",
       "      <td>0</td>\n",
       "    </tr>\n",
       "    <tr>\n",
       "      <th>freq</th>\n",
       "      <td>30</td>\n",
       "      <td>30</td>\n",
       "      <td>200</td>\n",
       "      <td>103</td>\n",
       "      <td>97</td>\n",
       "      <td>39</td>\n",
       "      <td>265</td>\n",
       "      <td>30</td>\n",
       "      <td>42</td>\n",
       "      <td>30</td>\n",
       "      <td>...</td>\n",
       "      <td>50</td>\n",
       "      <td>76</td>\n",
       "      <td>36</td>\n",
       "      <td>31</td>\n",
       "      <td>61</td>\n",
       "      <td>92</td>\n",
       "      <td>138</td>\n",
       "      <td>73</td>\n",
       "      <td>43</td>\n",
       "      <td>35</td>\n",
       "    </tr>\n",
       "  </tbody>\n",
       "</table>\n",
       "<p>4 rows × 30 columns</p>\n",
       "</div>"
      ],
      "text/plain": [
       "         Rk  Player  Pos  Age   Tm    G   GS   MP   FG  FGA  ...    FT%  ORB  \\\n",
       "count   842     842  842  842  842  842  842  842  842  842  ...    745  842   \n",
       "unique  606     606   13   23   32   83   81  626  339  475  ...    282  148   \n",
       "top      Rk  Player   SG   24  TOT    2    0   MP    0  FGA  ...  1.000    0   \n",
       "freq     30      30  200  103   97   39  265   30   42   30  ...     50   76   \n",
       "\n",
       "        DRB  TRB  AST  STL  BLK  TOV   PF  PTS  \n",
       "count   842  842  842  842  842  842  842  842  \n",
       "unique  303  347  260  107   85  168  203  488  \n",
       "top       0    0    0    0    0    0    0    0  \n",
       "freq     36   31   61   92  138   73   43   35  \n",
       "\n",
       "[4 rows x 30 columns]"
      ]
     },
     "execution_count": 8,
     "metadata": {},
     "output_type": "execute_result"
    }
   ],
   "source": [
    "df.describe()"
   ]
  },
  {
   "cell_type": "markdown",
   "id": "a8325fad-560e-45ab-9b78-df7dce3bf3d1",
   "metadata": {},
   "source": [
    "### Q2. Given a Pandas DataFrame df with columns 'A', 'B', 'C', write a python function to re-index the DataFrame with a new index that starts from 1 and increments by 2"
   ]
  },
  {
   "cell_type": "code",
   "execution_count": 9,
   "id": "39e6ab41-e848-4d67-ae9b-e84629db4c75",
   "metadata": {},
   "outputs": [
    {
     "name": "stdout",
     "output_type": "stream",
     "text": [
      "       Rk             Player Pos Age   Tm   G  GS    MP   FG   FGA  ...   FT%  \\\n",
      "1       1   Precious Achiuwa   C  22  TOR  73  28  1725  265   603  ...  .595   \n",
      "3       2       Steven Adams   C  28  MEM  76  75  1999  210   384  ...  .543   \n",
      "5       3        Bam Adebayo   C  24  MIA  56  56  1825  406   729  ...  .753   \n",
      "7       4       Santi Aldama  PF  21  MEM  32   0   360   53   132  ...  .625   \n",
      "9       5  LaMarcus Aldridge   C  36  BRK  47  12  1050  252   458  ...  .873   \n",
      "...   ...                ...  ..  ..  ...  ..  ..   ...  ...   ...  ...   ...   \n",
      "1675  601     Thaddeus Young  PF  33  TOR  26   0   475   67   144  ...  .481   \n",
      "1677  602         Trae Young  PG  23  ATL  76  76  2652  711  1544  ...  .904   \n",
      "1679  603     Omer Yurtseven   C  23  MIA  56  12   706  130   247  ...  .623   \n",
      "1681  604        Cody Zeller   C  29  POR  27   0   355   51    90  ...  .776   \n",
      "1683  605        Ivica Zubac   C  24  LAC  76  76  1852  310   495  ...  .727   \n",
      "\n",
      "      ORB  DRB  TRB  AST STL BLK  TOV   PF   PTS  \n",
      "1     146  327  473   82  37  41   84  151   664  \n",
      "3     349  411  760  256  65  60  115  153   528  \n",
      "5     137  427  564  190  80  44  148  171  1068  \n",
      "7      33   54   87   21   6  10   16   36   132  \n",
      "9      73  185  258   42  14  47   44   78   607  \n",
      "...   ...  ...  ...  ...  ..  ..  ...  ...   ...  \n",
      "1675   40   75  115   45  31  11   22   43   164  \n",
      "1677   50  234  284  737  72   7  303  128  2155  \n",
      "1679   85  209  294   49  17  20   41   84   299  \n",
      "1681   50   75  125   22   8   6   19   56   140  \n",
      "1683  217  427  644  120  36  77  114  203   785  \n",
      "\n",
      "[842 rows x 30 columns]\n"
     ]
    }
   ],
   "source": [
    "def reindex_dataframe(df1):\n",
    "    new_index = pd.RangeIndex(start=1, step=2, stop=len(df) * 2 + 1)\n",
    "    df_reindexed = df.copy()\n",
    "    df_reindexed.index = new_index\n",
    "    return df_reindexed\n",
    "df1 = pd.DataFrame({'A': [10, 20, 30], 'B': [100, 200, 300], 'C': [1000, 2000, 3000]})\n",
    "df_reindexed = reindex_dataframe(df1)\n",
    "print(df_reindexed)"
   ]
  },
  {
   "cell_type": "markdown",
   "id": "e0247655-aa4a-4cd1-92e3-d173e3a4a27c",
   "metadata": {},
   "source": [
    "### Q3. Given a Pandas DataFrame df with column named 'Values'. Write a python function to re-index the DataFrame with a new index that iterates over the DataFrame and calculates the sum of the first the three values in the 'Values' column"
   ]
  },
  {
   "cell_type": "code",
   "execution_count": 10,
   "id": "405b6b47-f7b9-4113-8ebc-a7b4b7eff30c",
   "metadata": {},
   "outputs": [
    {
     "name": "stdout",
     "output_type": "stream",
     "text": [
      "30\n"
     ]
    }
   ],
   "source": [
    "df2 = pd.DataFrame({'Name':['Rohan', 'Rahul', 'Deva'], 'Values' : [8, 10 ,12]})\n",
    "total = 0\n",
    "for i in df2['Values'[0:]]:\n",
    "    total = total + i\n",
    "print(total)"
   ]
  },
  {
   "cell_type": "markdown",
   "id": "b4e2599b-0239-4e56-9f1a-9a6a2eb26b67",
   "metadata": {},
   "source": [
    "### Q4. Given a Pandas DataFrame df with a column 'Text', write a Python function to create a new column 'Word_Count' that contains the number of words in each row of 'Text' column"
   ]
  },
  {
   "cell_type": "code",
   "execution_count": null,
   "id": "493949bc-7a9c-4288-9932-3330c2af53fe",
   "metadata": {},
   "outputs": [],
   "source": []
  },
  {
   "cell_type": "markdown",
   "id": "4ae0de6d-3ed0-4ca9-b7b4-6206b952d4cc",
   "metadata": {},
   "source": [
    "### Q5. How are DataFrame.size() and DataFrame.shape() different?"
   ]
  },
  {
   "cell_type": "markdown",
   "id": "50d5f203-33f8-40d8-84c8-a648a760f35f",
   "metadata": {},
   "source": [
    "- Dataframe.size() outputs the total data in all of the columns in the dataframe\n",
    "- whereas, DataFrame.shape() returns a tuple with the dimentions of the given dataframe"
   ]
  },
  {
   "cell_type": "markdown",
   "id": "63a7b500-8e9b-471c-9298-db093df275fb",
   "metadata": {},
   "source": [
    "### Q6. Which function of pandas is used to read excel file?"
   ]
  },
  {
   "cell_type": "markdown",
   "id": "b24535ee-fa67-4f6e-b82e-863b0ee965b3",
   "metadata": {},
   "source": [
    ".read_excel() function in pandas library is used to read excel file."
   ]
  },
  {
   "cell_type": "markdown",
   "id": "74ae23f3-affc-448d-8d03-1cec8f219561",
   "metadata": {},
   "source": [
    "### Q7.  You have a oandas dataframe df that contains a column named 'Email' that contains mail id in the format \"username@gmail.com\". Write a python code to that creates a new column 'Username' in df that contains only username part of the email address"
   ]
  },
  {
   "cell_type": "code",
   "execution_count": 11,
   "id": "2e382e25-55b4-440c-996a-70736f7e251f",
   "metadata": {},
   "outputs": [],
   "source": [
    "emails_df = {'Emails' : ['username1@gmail.com', 'username2@gmail.com', 'username3@gmail.com']}\n",
    "df3 = pd.DataFrame(emails_df)"
   ]
  },
  {
   "cell_type": "code",
   "execution_count": 12,
   "id": "8fbb86bf-e649-4c1c-aeb4-7a6142675cb7",
   "metadata": {},
   "outputs": [
    {
     "data": {
      "text/html": [
       "<div>\n",
       "<style scoped>\n",
       "    .dataframe tbody tr th:only-of-type {\n",
       "        vertical-align: middle;\n",
       "    }\n",
       "\n",
       "    .dataframe tbody tr th {\n",
       "        vertical-align: top;\n",
       "    }\n",
       "\n",
       "    .dataframe thead th {\n",
       "        text-align: right;\n",
       "    }\n",
       "</style>\n",
       "<table border=\"1\" class=\"dataframe\">\n",
       "  <thead>\n",
       "    <tr style=\"text-align: right;\">\n",
       "      <th></th>\n",
       "      <th>Emails</th>\n",
       "    </tr>\n",
       "  </thead>\n",
       "  <tbody>\n",
       "    <tr>\n",
       "      <th>0</th>\n",
       "      <td>username1@gmail.com</td>\n",
       "    </tr>\n",
       "    <tr>\n",
       "      <th>1</th>\n",
       "      <td>username2@gmail.com</td>\n",
       "    </tr>\n",
       "    <tr>\n",
       "      <th>2</th>\n",
       "      <td>username3@gmail.com</td>\n",
       "    </tr>\n",
       "  </tbody>\n",
       "</table>\n",
       "</div>"
      ],
      "text/plain": [
       "                Emails\n",
       "0  username1@gmail.com\n",
       "1  username2@gmail.com\n",
       "2  username3@gmail.com"
      ]
     },
     "execution_count": 12,
     "metadata": {},
     "output_type": "execute_result"
    }
   ],
   "source": [
    "df3"
   ]
  },
  {
   "cell_type": "code",
   "execution_count": 13,
   "id": "8d5ce72c-efb1-489d-b220-834f9416a01e",
   "metadata": {},
   "outputs": [
    {
     "data": {
      "text/html": [
       "<div>\n",
       "<style scoped>\n",
       "    .dataframe tbody tr th:only-of-type {\n",
       "        vertical-align: middle;\n",
       "    }\n",
       "\n",
       "    .dataframe tbody tr th {\n",
       "        vertical-align: top;\n",
       "    }\n",
       "\n",
       "    .dataframe thead th {\n",
       "        text-align: right;\n",
       "    }\n",
       "</style>\n",
       "<table border=\"1\" class=\"dataframe\">\n",
       "  <thead>\n",
       "    <tr style=\"text-align: right;\">\n",
       "      <th></th>\n",
       "      <th>Emails</th>\n",
       "      <th>userName</th>\n",
       "    </tr>\n",
       "  </thead>\n",
       "  <tbody>\n",
       "    <tr>\n",
       "      <th>0</th>\n",
       "      <td>username1@gmail.com</td>\n",
       "      <td>username1</td>\n",
       "    </tr>\n",
       "    <tr>\n",
       "      <th>1</th>\n",
       "      <td>username2@gmail.com</td>\n",
       "      <td>username2</td>\n",
       "    </tr>\n",
       "    <tr>\n",
       "      <th>2</th>\n",
       "      <td>username3@gmail.com</td>\n",
       "      <td>username3</td>\n",
       "    </tr>\n",
       "  </tbody>\n",
       "</table>\n",
       "</div>"
      ],
      "text/plain": [
       "                Emails   userName\n",
       "0  username1@gmail.com  username1\n",
       "1  username2@gmail.com  username2\n",
       "2  username3@gmail.com  username3"
      ]
     },
     "execution_count": 13,
     "metadata": {},
     "output_type": "execute_result"
    }
   ],
   "source": [
    "df3['userName'] = df3['Emails'].str.split('@').str[0]\n",
    "df3"
   ]
  },
  {
   "cell_type": "markdown",
   "id": "ca80f677-6661-4f22-b72a-947fcabbca66",
   "metadata": {},
   "source": [
    "### Q8. You have a Pandas DataFrame df with columns 'A', 'B', and 'C'. Write a Python function that selects all rows where the value in column 'A' is greater than 5 and the value in column 'B' is less than 10. The function should return a new DataFrame that contains only the selected rows."
   ]
  },
  {
   "cell_type": "code",
   "execution_count": 14,
   "id": "64e4cbc6-5999-48ae-9352-1bf92f7ec0ce",
   "metadata": {},
   "outputs": [],
   "source": [
    "def extraction_of_rows(q8_df):\n",
    "    selected_rows = q8_df[(q8_df['A']>5) & (q8_df['B']<10)]\n",
    "    return selected_rows\n",
    "q8_df = pd.DataFrame({'A' : [3, 8, 6, 2, 9],\n",
    "                      'B' : [5, 2, 9, 3, 1],\n",
    "                      'C' : [1, 7, 4, 5, 2]\n",
    "                     })\n",
    "new_data = extraction_of_rows(q8_df)"
   ]
  },
  {
   "cell_type": "code",
   "execution_count": 15,
   "id": "98a233ba-5c22-44eb-bb63-3031c0338e3b",
   "metadata": {},
   "outputs": [
    {
     "data": {
      "text/html": [
       "<div>\n",
       "<style scoped>\n",
       "    .dataframe tbody tr th:only-of-type {\n",
       "        vertical-align: middle;\n",
       "    }\n",
       "\n",
       "    .dataframe tbody tr th {\n",
       "        vertical-align: top;\n",
       "    }\n",
       "\n",
       "    .dataframe thead th {\n",
       "        text-align: right;\n",
       "    }\n",
       "</style>\n",
       "<table border=\"1\" class=\"dataframe\">\n",
       "  <thead>\n",
       "    <tr style=\"text-align: right;\">\n",
       "      <th></th>\n",
       "      <th>A</th>\n",
       "      <th>B</th>\n",
       "      <th>C</th>\n",
       "    </tr>\n",
       "  </thead>\n",
       "  <tbody>\n",
       "    <tr>\n",
       "      <th>1</th>\n",
       "      <td>8</td>\n",
       "      <td>2</td>\n",
       "      <td>7</td>\n",
       "    </tr>\n",
       "    <tr>\n",
       "      <th>2</th>\n",
       "      <td>6</td>\n",
       "      <td>9</td>\n",
       "      <td>4</td>\n",
       "    </tr>\n",
       "    <tr>\n",
       "      <th>4</th>\n",
       "      <td>9</td>\n",
       "      <td>1</td>\n",
       "      <td>2</td>\n",
       "    </tr>\n",
       "  </tbody>\n",
       "</table>\n",
       "</div>"
      ],
      "text/plain": [
       "   A  B  C\n",
       "1  8  2  7\n",
       "2  6  9  4\n",
       "4  9  1  2"
      ]
     },
     "execution_count": 15,
     "metadata": {},
     "output_type": "execute_result"
    }
   ],
   "source": [
    "new_data"
   ]
  },
  {
   "cell_type": "markdown",
   "id": "0dfb0acf-285b-423e-88f8-276230d938ed",
   "metadata": {},
   "source": [
    "### Q9. Given the Pandas DataFrame df with a column 'Values', write a python function to calculate the mean, median and standard deviation of the valuer in the 'Values' column"
   ]
  },
  {
   "cell_type": "code",
   "execution_count": 46,
   "id": "6c615861-5b39-4205-a60f-1e0542b85fb5",
   "metadata": {},
   "outputs": [
    {
     "name": "stdout",
     "output_type": "stream",
     "text": [
      "The calculated mean of the given dataset is:  67.8\n",
      "\n",
      "The calculated median of the given dataset is:  75.0\n",
      "\n",
      "The calculated Standard deviation of the given dataset is:  18.539147768977948\n"
     ]
    }
   ],
   "source": [
    "def calculate_mean(df):\n",
    "    calculated_mean = df.mean()\n",
    "    return calculated_mean\n",
    "\n",
    "def calculate_median(df):\n",
    "    calculated_median = df.median()\n",
    "    return calculated_median\n",
    "\n",
    "def calculate_std(df):\n",
    "    calculated_std = df.std()\n",
    "    return calculated_std\n",
    "\n",
    "Q9_df = pd.DataFrame({'Values' : [78, 89, 52, 45, 75]})\n",
    "print(\"The calculated mean of the given dataset is: \", calculate_mean(Q9_df['Values']))\n",
    "print(\"\\nThe calculated median of the given dataset is: \", calculate_median(Q9_df['Values']))\n",
    "print(\"\\nThe calculated Standard deviation of the given dataset is: \", calculate_std(Q9_df['Values']))"
   ]
  },
  {
   "cell_type": "markdown",
   "id": "6b1fd5a6-91c2-434d-be6c-80f8b6bef19f",
   "metadata": {},
   "source": [
    "### Q10. Given pandas dataframe df with column sales and a column date, write function to calculate a new column 'MovingAverage' that contains the moving average of the sale fo pase 7days for each row inthe dataframe."
   ]
  },
  {
   "cell_type": "code",
   "execution_count": 59,
   "id": "67910465-ffb1-4f26-9d3c-05633a06698b",
   "metadata": {},
   "outputs": [
    {
     "name": "stdout",
     "output_type": "stream",
     "text": [
      "          Date  Sales  MovingAverage\n",
      "0   2023-08-01    100     100.000000\n",
      "1   2023-08-02    150     125.000000\n",
      "2   2023-08-03    200     150.000000\n",
      "3   2023-08-04    175     156.250000\n",
      "4   2023-08-05    220     169.000000\n",
      "5   2023-08-06    230     179.166667\n",
      "6   2023-08-07    190     180.714286\n",
      "7   2023-08-08    210     196.428571\n",
      "8   2023-08-09    180     200.714286\n",
      "9   2023-08-10    160     195.000000\n",
      "10  2023-08-11    210     200.000000\n",
      "11  2023-08-12    195     196.428571\n",
      "12  2023-08-13    200     192.142857\n"
     ]
    }
   ],
   "source": [
    "import pandas as pd\n",
    "\n",
    "def calculate_moving_average(df):\n",
    "    df = df.sort_values(by='Date')\n",
    "    df['MovingAverage'] = df['Sales'].rolling(window=7, min_periods=1).mean()\n",
    "    return df\n",
    "\n",
    "Q10_df = pd.DataFrame({'Date': ['2023-08-01', '2023-08-02', '2023-08-03', '2023-08-04',\n",
    "                       '2023-08-05', '2023-08-06', '2023-08-07', '2023-08-08',\n",
    "                       '2023-08-09', '2023-08-10', '2023-08-11', '2023-08-12', '2023-08-13'],\n",
    "    'Sales': [100, 150, 200, 175, 220, 230, 190, 210, 180, 160, 210, 195, 200]\n",
    "})\n",
    "\n",
    "moving_average = ((calculate_moving_average(Q10_df)))\n",
    "print(moving_average)"
   ]
  },
  {
   "cell_type": "markdown",
   "id": "ab83c875-a7d1-48c0-8843-da7f6985389d",
   "metadata": {},
   "source": [
    "### Q11. Pandas DataFrame df with a column 'Date'. Write a python function that creates a new column 'WeekDay' in the DataFrame. The weekday column should contain the weekday name corresponding to each data in the date column"
   ]
  },
  {
   "cell_type": "code",
   "execution_count": 74,
   "id": "4fc7fda8-0a89-4670-924c-b01f1f25d5c7",
   "metadata": {},
   "outputs": [
    {
     "name": "stdout",
     "output_type": "stream",
     "text": [
      "         Date    WeekDay\n",
      "0  2023-01-01     Sunday\n",
      "1  2023-01-02     Monday\n",
      "2  2023-01-03    Tuesday\n",
      "3  2023-01-04  Wednesday\n",
      "4  2023-01-05   Thursday\n"
     ]
    },
    {
     "data": {
      "text/plain": [
       "[None]"
      ]
     },
     "execution_count": 74,
     "metadata": {},
     "output_type": "execute_result"
    }
   ],
   "source": [
    "def weekday(df):\n",
    "    df['WeekDay'] = ['Sunday', 'Monday', 'Tuesday', 'Wednesday', 'Thursday']\n",
    "    return df\n",
    "\n",
    "Q11_df = pd.DataFrame({\n",
    "    'Date': ['2023-01-01', '2023-01-02', '2023-01-03', '2023-01-04', '2023-01-05']\n",
    "})\n",
    "\n",
    "new_df = weekday(Q11_df)\n",
    "print(new_df)"
   ]
  },
  {
   "cell_type": "markdown",
   "id": "bd5b8977-0050-4a20-b115-b1a145f758bd",
   "metadata": {},
   "source": [
    "### To use the basic functions of pandas, what is the first and foremost necessary library that needs to be imported?"
   ]
  },
  {
   "cell_type": "markdown",
   "id": "e60b9a0e-7fe4-43bf-b906-91b35433ab40",
   "metadata": {},
   "source": [
    "To get pandas running, we need to import pandas library to do these operations"
   ]
  },
  {
   "cell_type": "code",
   "execution_count": null,
   "id": "6e419390-5cb8-4e58-bb2a-cbd7ad5462b8",
   "metadata": {},
   "outputs": [],
   "source": []
  }
 ],
 "metadata": {
  "kernelspec": {
   "display_name": "Python 3 (ipykernel)",
   "language": "python",
   "name": "python3"
  },
  "language_info": {
   "codemirror_mode": {
    "name": "ipython",
    "version": 3
   },
   "file_extension": ".py",
   "mimetype": "text/x-python",
   "name": "python",
   "nbconvert_exporter": "python",
   "pygments_lexer": "ipython3",
   "version": "3.10.8"
  }
 },
 "nbformat": 4,
 "nbformat_minor": 5
}
