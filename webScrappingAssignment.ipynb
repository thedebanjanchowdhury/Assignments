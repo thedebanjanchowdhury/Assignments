{
 "cells": [
  {
   "cell_type": "markdown",
   "id": "5195913d-ba2d-4df9-98a7-d00454a581e2",
   "metadata": {},
   "source": [
    "# Web Scrapping Assignment"
   ]
  },
  {
   "cell_type": "markdown",
   "id": "325a1db8-f3d3-4ae3-99bd-d9b1cff1b3df",
   "metadata": {},
   "source": [
    "### 1. What is web scrapping? Why it is used? Give three areas where web scrapper is used to get data."
   ]
  },
  {
   "cell_type": "markdown",
   "id": "b967db03-5029-4e34-b35d-b0bece65c16d",
   "metadata": {},
   "source": [
    " Web Scrapping refers to scrapping or extracting the data from a given website. The data could be anything(text, image, video etc.)\n",
    " \n",
    " The main usage of web scrapping is to analyze the user behaviour in various fields. What are the requirements of the customer, what types of products are being sold this month...all of these can be solved by web scrapping\n",
    "\n",
    "- Researching the market, what type of products are customers purchasing more at that point\n",
    "- Mining required data through given websites for further analysis\n",
    "- predicting prices of a particular product"
   ]
  },
  {
   "cell_type": "markdown",
   "id": "a2a04d01-85e4-46f2-be5a-7d16bc28bcbf",
   "metadata": {},
   "source": [
    "### What are different methods of web scrapping?"
   ]
  },
  {
   "cell_type": "markdown",
   "id": "a317b3e8-a3d8-4746-93d9-3efdfdb99ba6",
   "metadata": {},
   "source": [
    "- Manual web scrapping, involvs manualy copy pasting data from the websote to a spreadsheet\n",
    "- Scrapping automation, where python code is used to build APIs to do the work"
   ]
  },
  {
   "cell_type": "markdown",
   "id": "7fecd907-94d2-4218-b94a-a395603899c4",
   "metadata": {},
   "source": [
    "### What is beautiful soup? Why is it used?"
   ]
  },
  {
   "cell_type": "markdown",
   "id": "39d43043-da41-4a4c-9a03-5f65780e1a8b",
   "metadata": {},
   "source": [
    "Beautiful soup is apython library that is used to extract wide amount of data from HTML and XML documents.\n",
    "\n",
    "It is used to extract data from websites, cleaning html and xml documents etc."
   ]
  },
  {
   "cell_type": "markdown",
   "id": "008fb0d7-217c-4cf0-8276-ca7e634b7192",
   "metadata": {},
   "source": [
    "### Why flask is used in web scrapping?"
   ]
  },
  {
   "cell_type": "markdown",
   "id": "92290de9-703f-4060-a94e-bca8aaf49007",
   "metadata": {},
   "source": [
    "Flask provides various features that is ideal for web scrapping, like request handling from the user, response handling, templating etc."
   ]
  },
  {
   "cell_type": "markdown",
   "id": "ccaa9ca8-648b-4f8f-b567-53c5428f6ffc",
   "metadata": {},
   "source": [
    "### Write names of AWS services used in the project, also explain the use of each one"
   ]
  }
 ],
 "metadata": {
  "kernelspec": {
   "display_name": "Python 3 (ipykernel)",
   "language": "python",
   "name": "python3"
  },
  "language_info": {
   "codemirror_mode": {
    "name": "ipython",
    "version": 3
   },
   "file_extension": ".py",
   "mimetype": "text/x-python",
   "name": "python",
   "nbconvert_exporter": "python",
   "pygments_lexer": "ipython3",
   "version": "3.10.8"
  }
 },
 "nbformat": 4,
 "nbformat_minor": 5
}
