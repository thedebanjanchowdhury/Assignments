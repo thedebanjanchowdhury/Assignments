{
 "cells": [
  {
   "cell_type": "markdown",
   "id": "f896ba9b-0403-45cf-ae31-28026ba1c06c",
   "metadata": {},
   "source": [
    "# API Assignment"
   ]
  },
  {
   "cell_type": "markdown",
   "id": "b6af8d9d-70a6-4b00-a0f9-711017ac1f75",
   "metadata": {},
   "source": [
    "### Q1. What is API? Give an example, where an API is used in real life."
   ]
  },
  {
   "cell_type": "markdown",
   "id": "f55feb49-f847-427b-83c2-2244168a103c",
   "metadata": {},
   "source": [
    "- API or Apllication Programming Interface, refers to a set of protocols, that are used to connect between two server environment"
   ]
  },
  {
   "cell_type": "markdown",
   "id": "47da948d-ba34-4195-87d9-721cea13d690",
   "metadata": {},
   "source": [
    "- An example of api is YouTube API"
   ]
  },
  {
   "cell_type": "markdown",
   "id": "25aea09b-ac2d-424f-bf43-efbcda30327c",
   "metadata": {},
   "source": [
    "- API is basically used to implement a new feature into an existing software"
   ]
  },
  {
   "cell_type": "markdown",
   "id": "b918b2fd-bf75-4565-aa1a-d009d2d64914",
   "metadata": {},
   "source": [
    "### Q2. Give advantages and disadvantages of using of using API."
   ]
  },
  {
   "cell_type": "markdown",
   "id": "f6bae8c4-eb4c-4b27-a6b4-09bc47f77e38",
   "metadata": {},
   "source": [
    "#### Advantages:\n",
    "- Api provides pre built functionalities, saving time and effort for developers\n",
    "- Api gives andvantages to scale that can a handle a large amount of requests"
   ]
  },
  {
   "cell_type": "markdown",
   "id": "af7880b8-fb79-402f-9d67-b620f65a49d8",
   "metadata": {},
   "source": [
    "#### Disadvantages:\n",
    "- Some apis can be vulnerable for security systems if not designed properly\n",
    "- Some apis have a threshold to a certain requests, and developers have to pay money in order to use it at it's full potential"
   ]
  },
  {
   "cell_type": "markdown",
   "id": "b8b9f87a-747c-40bc-8ba7-35f8bd362579",
   "metadata": {},
   "source": [
    "### Q3. What is a Web API? Difference between API & Web API."
   ]
  },
  {
   "cell_type": "markdown",
   "id": "3af0ccc5-bc0e-49df-b372-708c9663ca0c",
   "metadata": {},
   "source": [
    "- Web API is a subset of API system, that has the capabaility to send requests to a remote server made by clien\n",
    "- Difference between API and Web API is that API is a set of protocols for connecting two environments, where Web API is a subset of APIs that send HTTP requests to the server to get specified data"
   ]
  },
  {
   "cell_type": "markdown",
   "id": "1cb48374-7db5-43b2-83f0-8b191cde9247",
   "metadata": {},
   "source": [
    "### Q4. Explain REST & SOAP Architecture. Mention shortcomings of SOAP."
   ]
  },
  {
   "cell_type": "markdown",
   "id": "c0e2e656-b8e2-4737-ac36-61748ad3dc9d",
   "metadata": {},
   "source": [
    "- REST is an architectural style for designing network applications. It is capble of deploying in client-server architecture model. Here resources are manupulated through some commands like GET, PUT etc."
   ]
  },
  {
   "cell_type": "markdown",
   "id": "7514cf35-052a-46eb-86a5-aef18aa9482c",
   "metadata": {},
   "source": [
    "> SOAP is a protocol for exchanging structure information thruough the environments. It relies on XML, uses protocols like HTTP, SMTP, TCP etc."
   ]
  },
  {
   "cell_type": "markdown",
   "id": "d9e54aa3-eb65-4d58-b8d2-c195577eb234",
   "metadata": {},
   "source": [
    "- SOAP is complex as it is based on XML, also it tends to be slower than REST due to handling large XML datas"
   ]
  },
  {
   "cell_type": "markdown",
   "id": "7e129992-2fe1-4e0b-b717-4e58e0f66d13",
   "metadata": {},
   "source": [
    "### Differntiate between REST and SOAP"
   ]
  },
  {
   "cell_type": "markdown",
   "id": "a6871a5e-2f83-4afd-bd07-733d3a29bba2",
   "metadata": {},
   "source": [
    "- REST is simpler and easier to understand, uses naturally"
   ]
  }
 ],
 "metadata": {
  "kernelspec": {
   "display_name": "Python 3 (ipykernel)",
   "language": "python",
   "name": "python3"
  },
  "language_info": {
   "codemirror_mode": {
    "name": "ipython",
    "version": 3
   },
   "file_extension": ".py",
   "mimetype": "text/x-python",
   "name": "python",
   "nbconvert_exporter": "python",
   "pygments_lexer": "ipython3",
   "version": "3.10.8"
  }
 },
 "nbformat": 4,
 "nbformat_minor": 5
}
