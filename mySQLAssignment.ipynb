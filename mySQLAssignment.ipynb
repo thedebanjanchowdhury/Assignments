{
 "cells": [
  {
   "cell_type": "markdown",
   "id": "127b74a2-3c37-44d9-b4e8-32b9837bae13",
   "metadata": {},
   "source": [
    "# Database Assignment"
   ]
  },
  {
   "cell_type": "markdown",
   "id": "0d37f9b7-b816-48ef-a0c9-362ce00fc4a9",
   "metadata": {},
   "source": [
    "### Q1. what is database? difference between SQL and NoSQL databases."
   ]
  },
  {
   "cell_type": "markdown",
   "id": "317f693c-f661-4c69-b2be-0d24c28fe4ca",
   "metadata": {},
   "source": [
    "Database refers to collection of a dataset that it managed in such a way that it can be easily fetched, edited adn optimized."
   ]
  },
  {
   "cell_type": "markdown",
   "id": "d8360109-cdc5-4fdd-8699-5b7ec0a4f78c",
   "metadata": {},
   "source": [
    "SQL is based in relational data model, which means that only rows and columns are used, NoSQL on the other hand, has the ability to use multiple data models like documents, graphs, pictures etc."
   ]
  },
  {
   "cell_type": "markdown",
   "id": "56c994b7-491d-41e7-bbf3-130e5ec23109",
   "metadata": {},
   "source": [
    "### Q2. What is DDL? Explain why CREATE, DROP, ALTER and TRUNCATE are used with an example"
   ]
  },
  {
   "cell_type": "markdown",
   "id": "460eda8a-edfe-4fe4-b397-9a13002444f5",
   "metadata": {},
   "source": [
    "DDL stands for Data Defination Language. DDL quaries helps to create, drop and alter database contents like tables, indexes etc. "
   ]
  },
  {
   "cell_type": "markdown",
   "id": "b05b74ed-1ff1-4c7b-b49a-7f255a30b938",
   "metadata": {},
   "source": [
    "- **CREATE** : It is used basically to create a bunch of database objects like tables, indexes etc."
   ]
  },
  {
   "cell_type": "code",
   "execution_count": null,
   "id": "7aa23513-3b1a-4e5c-bc8e-0ea24b82a283",
   "metadata": {},
   "outputs": [],
   "source": [
    "CREATE TABLE table_name{\n",
    "    // key values of the table\n",
    "}"
   ]
  },
  {
   "cell_type": "markdown",
   "id": "f3a0243e-e9c7-4251-9244-c185bfd9aeaf",
   "metadata": {},
   "source": [
    "- **DROP** : The drop query is used in order to delete/remove database objects like tables, indexes..."
   ]
  },
  {
   "cell_type": "code",
   "execution_count": null,
   "id": "894f71ec-05dd-4faf-b12e-4b3e708ac39b",
   "metadata": {},
   "outputs": [],
   "source": [
    "DROP TABLE table_name"
   ]
  },
  {
   "cell_type": "markdown",
   "id": "6d2e357f-3465-4faa-bf19-a1f96c82f0bd",
   "metadata": {},
   "source": [
    "- **ALTER** : The alter command is used to modify the components of an existing table, with it, you can add, move and delete certain parts of a database model"
   ]
  },
  {
   "cell_type": "code",
   "execution_count": null,
   "id": "9bfa7400-ed4a-4958-aba0-dec8d717290c",
   "metadata": {},
   "outputs": [],
   "source": [
    "ALTER TABLE table_name{\n",
    "    ADD column_name data_type(column_constraints);\n",
    "}"
   ]
  },
  {
   "cell_type": "markdown",
   "id": "848c02d1-e02e-4d13-8640-763b7e6d29e1",
   "metadata": {},
   "source": [
    "- **TRUNCATE** : Unlike DELETE statement which delete individual rows from a table, this statement can delete entire rows of the given table"
   ]
  },
  {
   "cell_type": "markdown",
   "id": "3c3694e6-4736-4518-b1be-64dc35f9e6ae",
   "metadata": {},
   "source": [
    "### Q3. What is DML? Explain INSERT, UPDATE and DELETE with an example."
   ]
  },
  {
   "cell_type": "markdown",
   "id": "d87532eb-5577-467d-a974-0a2c06148343",
   "metadata": {},
   "source": [
    "-  Stands for Data Manupulating Language, DML can do a handsful of things like insert, update and deleting content from a database"
   ]
  },
  {
   "cell_type": "markdown",
   "id": "d608fd1b-de9f-4976-8176-a8d828fd77b9",
   "metadata": {},
   "source": [
    "- **INSERT**: This statement is used in order to insert contents to a specific table."
   ]
  },
  {
   "cell_type": "code",
   "execution_count": null,
   "id": "ab0f9b99-d22e-416f-8bf8-b6ef2c2c5ac0",
   "metadata": {},
   "outputs": [],
   "source": [
    "INSERT into database.table_name(content_parameters)"
   ]
  },
  {
   "cell_type": "markdown",
   "id": "665e2725-d871-4a6c-9b0a-1077b19b53b2",
   "metadata": {},
   "source": [
    "- **DELETE**: Unlike TRUNCATE statement, this gives user more flexibility in order to delete specific portions of a database tables."
   ]
  },
  {
   "cell_type": "code",
   "execution_count": null,
   "id": "21fb0288-ffb3-4d71-b8ad-1de4ca3d6c71",
   "metadata": {},
   "outputs": [],
   "source": [
    "DELETE FROM table_name\n",
    "    WHERE condition;"
   ]
  },
  {
   "cell_type": "markdown",
   "id": "9438a307-9cff-4d0b-8f37-f9fe1fb35d26",
   "metadata": {},
   "source": [
    "- **UPDATE** : It gives user the power to change existing values, adn update them according to their required conditons."
   ]
  },
  {
   "cell_type": "markdown",
   "id": "1254e7dd-29f7-47ea-8cbb-0b898f59be11",
   "metadata": {},
   "source": [
    "### Q5. Explain Primary Key & Foreign Key."
   ]
  },
  {
   "cell_type": "markdown",
   "id": "d3598c29-2371-40ff-aab7-b916f60b3b97",
   "metadata": {},
   "source": [
    "- Primary key is an unique identifier for each row inside of a database table. It ensures that each row has to be uniquely identified"
   ]
  },
  {
   "cell_type": "markdown",
   "id": "d86db68e-1d86-443d-82dc-8c1dce0944e4",
   "metadata": {},
   "source": [
    "- Foreign Key: Foreign Key refers to a column or a set of columns that refers to a primary key of another table. It helps establishing relations between two tables"
   ]
  },
  {
   "cell_type": "markdown",
   "id": "9d5074a9-0885-4648-ba01-44c7de601648",
   "metadata": {},
   "source": [
    "### Q6. Write a python code to connect mySQL to python. Explain the cursor() and execute() method."
   ]
  },
  {
   "cell_type": "code",
   "execution_count": null,
   "id": "081b7840-1444-4280-82c6-40b89c081724",
   "metadata": {},
   "outputs": [],
   "source": [
    "import mysql.connector\n",
    "mydb = mysql.connector.connect(\n",
    "    host = 'localhost',\n",
    "    username = 'abc',\n",
    "    password = 'password'\n",
    ")\n",
    "\n",
    "mycursor = mydb.cursor()\n"
   ]
  },
  {
   "cell_type": "markdown",
   "id": "2167f2b4-e704-493a-a220-2d287426efe1",
   "metadata": {},
   "source": [
    "- **cursor()** : The cursor() method is like a pointer, which hovers throughout the database, and helps to interact with each individual elements inside the table"
   ]
  },
  {
   "cell_type": "markdown",
   "id": "7edfeb3c-8f91-4001-9007-f1e683fddfa7",
   "metadata": {},
   "source": [
    "- **execute()** : The execute() command is used in order to run SQL command through python language"
   ]
  },
  {
   "cell_type": "code",
   "execution_count": null,
   "id": "7ff38f1d-edf3-4d7a-82ba-87e8ef76ab20",
   "metadata": {},
   "outputs": [],
   "source": []
  }
 ],
 "metadata": {
  "kernelspec": {
   "display_name": "Python 3 (ipykernel)",
   "language": "python",
   "name": "python3"
  },
  "language_info": {
   "codemirror_mode": {
    "name": "ipython",
    "version": 3
   },
   "file_extension": ".py",
   "mimetype": "text/x-python",
   "name": "python",
   "nbconvert_exporter": "python",
   "pygments_lexer": "ipython3",
   "version": "3.10.8"
  }
 },
 "nbformat": 4,
 "nbformat_minor": 5
}
