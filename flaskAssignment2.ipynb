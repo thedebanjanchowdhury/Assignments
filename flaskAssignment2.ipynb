{
 "cells": [
  {
   "cell_type": "markdown",
   "id": "676ad8dc-c80d-4820-b6c0-0064ff24bf73",
   "metadata": {},
   "source": [
    "# Flask Assignment 2"
   ]
  },
  {
   "cell_type": "markdown",
   "id": "c48e01b5-6e39-45aa-ba4d-28a36425f8cd",
   "metadata": {},
   "source": [
    "### Q1. Explain GET and POST methods"
   ]
  },
  {
   "cell_type": "markdown",
   "id": "26f632d3-dbb1-449d-a4c9-19a3e303fb9d",
   "metadata": {},
   "source": [
    "- GET method is used to request data from a specified resources like webpages and APIs\n",
    "- POST method is used to submit data to be processed to a specified user."
   ]
  },
  {
   "cell_type": "markdown",
   "id": "d32cef62-5cbf-45ac-b0bb-194ed424059f",
   "metadata": {},
   "source": [
    "### Q2. Why is request used in Flask?"
   ]
  },
  {
   "cell_type": "markdown",
   "id": "3c2d7d98-b2e5-4929-b4ff-834e58947d71",
   "metadata": {},
   "source": [
    "The request method is used in order to handle incoming HTTP requests from the client to my flask web applications. It also helps differ between HTTP methods used in request like GET, POST etc."
   ]
  },
  {
   "cell_type": "markdown",
   "id": "debefa10-8c2d-4cbd-be20-5367667b1cc9",
   "metadata": {},
   "source": [
    "### Q3. Why redirect() is used in Flask?"
   ]
  },
  {
   "cell_type": "markdown",
   "id": "0baa104e-3220-4f1f-8845-19e65aef86eb",
   "metadata": {},
   "source": [
    "Redirect funtion is used in order to route the user to a specified URL on requirement. It is very helpful as it can route the user to a specified location after completion of task."
   ]
  },
  {
   "cell_type": "markdown",
   "id": "8cf72b57-105d-4cdc-90c0-560a978f5d99",
   "metadata": {},
   "source": [
    "### Q4. What are templates in Flask? Why is render_template() function used?"
   ]
  },
  {
   "cell_type": "markdown",
   "id": "4df0248b-0ab8-4b14-aed0-37a9447cd826",
   "metadata": {},
   "source": [
    "- In Flask, templates are ready made HTML webpage designs of web pages. It can be used to dynamically provide details like name, address etc. directly from python code\n",
    "- render_template() is used in order to render and display web pages based on templates. It helps to create web pages using templates according to the given info in the code"
   ]
  },
  {
   "cell_type": "markdown",
   "id": "beb045d7-f953-4ebd-afc3-cedaecfe6ba7",
   "metadata": {},
   "source": [
    "### Q5. Create a sample api using Flask, Use Postman to Test it."
   ]
  },
  {
   "cell_type": "markdown",
   "id": "7b6ea452-858f-41ff-941f-16a8ad9ba789",
   "metadata": {},
   "source": [
    "##### - Source Code:"
   ]
  },
  {
   "cell_type": "code",
   "execution_count": null,
   "id": "c0eae51b-cc51-42e4-b084-ef01cc8755eb",
   "metadata": {},
   "outputs": [],
   "source": []
  }
 ],
 "metadata": {
  "kernelspec": {
   "display_name": "Python 3 (ipykernel)",
   "language": "python",
   "name": "python3"
  },
  "language_info": {
   "codemirror_mode": {
    "name": "ipython",
    "version": 3
   },
   "file_extension": ".py",
   "mimetype": "text/x-python",
   "name": "python",
   "nbconvert_exporter": "python",
   "pygments_lexer": "ipython3",
   "version": "3.10.8"
  }
 },
 "nbformat": 4,
 "nbformat_minor": 5
}
