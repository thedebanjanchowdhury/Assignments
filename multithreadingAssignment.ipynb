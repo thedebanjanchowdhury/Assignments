{
 "cells": [
  {
   "cell_type": "markdown",
   "id": "86094f71-3c32-412b-8062-79c0d4dfefeb",
   "metadata": {},
   "source": [
    "# Multithreading Assignments"
   ]
  },
  {
   "cell_type": "markdown",
   "id": "1238d89d-9cf6-4804-b132-fb599aca4053",
   "metadata": {},
   "source": [
    "### Q1. What is Multithreading in python? Why it is used? Name the modules used to handle threades in python,"
   ]
  },
  {
   "cell_type": "markdown",
   "id": "85f0ca5b-cafe-42cb-b204-3213ec4d2914",
   "metadata": {},
   "source": [
    "- Multithreading refers to the process of dividing a core of a cpu in order to run modules simultaneously.\n",
    "- Purpose of using multithreading is to run different modules or programs parallely by dividing the cpu core.\n",
    "- Different modules used for handle threading are **threading**, **queue** etc."
   ]
  },
  {
   "cell_type": "markdown",
   "id": "7b88c0e7-216e-4ce1-a32f-01ef17d0036f",
   "metadata": {},
   "source": [
    "###  Q2. Why threading module used? Write the use of the following functions:\n",
    "#### 1. activeCount() <br> 2. currentThread() <br> 3. enumerate()"
   ]
  },
  {
   "cell_type": "markdown",
   "id": "033fc140-831f-4ed6-a9f7-716bc3ce28c3",
   "metadata": {},
   "source": [
    "Threading is mainly used because of it's concurrency. Concurrency means by dividing a core of cpu into multiple threads, we can execute multiple codes parallely"
   ]
  },
  {
   "cell_type": "markdown",
   "id": "69cd6de7-3576-4145-8f09-d4a0b366a8b9",
   "metadata": {},
   "source": [
    "- activeCount(): This function is used in order to get the number of active threads open in the current interpreter.\n",
    "- currentThread(): This function is used when we have to create a reference of a currently using thread.\n",
    "- enumerate(): This built in function is used to iterate over a sequence like lists/tuples etc., while maintaining the index of current item being processed"
   ]
  },
  {
   "cell_type": "markdown",
   "id": "e7a4f65f-9298-491c-bce3-5b0812258e0b",
   "metadata": {},
   "source": [
    "### Q3. Explain the following function:\n",
    "#### - run() <br> - start() <br> - join() <br> -isAlive()"
   ]
  },
  {
   "cell_type": "markdown",
   "id": "c2960b30-2b69-450d-a6cf-ef72408da94f",
   "metadata": {},
   "source": [
    "- **run()**: The run() method is called when a thread is being created inside the codespace. The run() function is used in order to execute the thread.\n",
    "- **start()**: The start() functions starts the execution of the thread\n",
    "- **join()**: The join() function makes sure that the a thread will must execute after the execution of previously running thread\n",
    "- **isAlive()**: This method checks whether a previously running thread is still running or not."
   ]
  },
  {
   "cell_type": "markdown",
   "id": "b6be2aa7-c77e-46b8-8a48-76acb254aab3",
   "metadata": {},
   "source": [
    "### Q4. Write a python program to create two threads. One must print list of squares, and other one must print list of cubes."
   ]
  },
  {
   "cell_type": "code",
   "execution_count": 5,
   "id": "a0bfedf0-4df7-4dbc-9de8-6f46d6007a0a",
   "metadata": {},
   "outputs": [
    {
     "name": "stdout",
     "output_type": "stream",
     "text": [
      "Squrae of 1 is 1\n",
      "cube of 1 is 1\n",
      "Squrae of 2 is 4\n",
      "cube of 2 is 8\n",
      "Squrae of 3 is 9\n",
      "cube of 3 is 27\n",
      "Squrae of 4 is 16\n",
      "cube of 4 is 64\n",
      "Squrae of 5 is 25\n",
      "cube of 5 is 125\n"
     ]
    }
   ],
   "source": [
    "import threading\n",
    "import time\n",
    "\n",
    "try:\n",
    "    def calculate_square(numbers):\n",
    "        for num in numbers:\n",
    "            square = num * num\n",
    "            print(f\"Squrae of {num} is {square}\")\n",
    "            time.sleep(1)\n",
    "\n",
    "    def calculate_cube(numbers):\n",
    "        for num in numbers:\n",
    "            cube = num * num * num\n",
    "            print(f\"cube of {num} is {cube}\")\n",
    "            time.sleep(1)\n",
    "\n",
    "except Exception as e:\n",
    "    print(\"Error: \", e)\n",
    "\n",
    "number_list = [1, 2, 3, 4, 5]\n",
    "\n",
    "square_thread = threading.Thread(target=calculate_square, args=(number_list,))\n",
    "cube_thread = threading.Thread(target=calculate_cube, args=(number_list,))\n",
    "\n",
    "square_thread.start()\n",
    "cube_thread.start()\n",
    "\n",
    "square_thread.join()\n",
    "cube_thread.join()"
   ]
  },
  {
   "cell_type": "markdown",
   "id": "55613009-dcee-4b39-8641-5d5544ddf40e",
   "metadata": {},
   "source": [
    "### Q5. State advantages and disadvantage of multithreading:"
   ]
  },
  {
   "cell_type": "markdown",
   "id": "0e7ecb12-6c28-4b41-bc44-ef6a6a6f33ca",
   "metadata": {},
   "source": [
    "#### Advantages:\n",
    "- Multithreading provides user the ability to run codes simultaneously by dividing the cpu into threads and assigning each one of them for a specific task\n",
    "- By using the full potential of computation power, the required time for running a code can be shortened much\n",
    "\n",
    "#### Disadvantages:\n",
    "- Multithreaded programs are significantly more complex to deploy, test and debug than one single threaded program<br>- The system have a high chance of getting into deadlock if the created threads are not synchronised well"
   ]
  },
  {
   "cell_type": "markdown",
   "id": "788051d0-1855-4491-803a-9660ae09e2bd",
   "metadata": {},
   "source": [
    "### Q6. Explain deadlock and race condition"
   ]
  },
  {
   "cell_type": "markdown",
   "id": "d44f28f0-3cb1-458e-9a78-4eea5a14085b",
   "metadata": {},
   "source": [
    "**Deadlock**: Deadlock is a rather serious condition where two or more threads try to execute each other, but won't help at all due to the required resources are allocated previously.\n",
    "<br>**Race Condition**: Refers to a case when two or more htreads try to access a single instance of resources, resulting variations in outcome accoring to their runtime."
   ]
  }
 ],
 "metadata": {
  "kernelspec": {
   "display_name": "Python 3 (ipykernel)",
   "language": "python",
   "name": "python3"
  },
  "language_info": {
   "codemirror_mode": {
    "name": "ipython",
    "version": 3
   },
   "file_extension": ".py",
   "mimetype": "text/x-python",
   "name": "python",
   "nbconvert_exporter": "python",
   "pygments_lexer": "ipython3",
   "version": "3.10.8"
  }
 },
 "nbformat": 4,
 "nbformat_minor": 5
}
