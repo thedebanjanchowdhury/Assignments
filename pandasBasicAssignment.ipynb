{
 "cells": [
  {
   "cell_type": "markdown",
   "id": "4521ea9a-29fa-4bc5-8799-feec43949503",
   "metadata": {},
   "source": [
    "# Pandas Basic Assignment"
   ]
  },
  {
   "cell_type": "markdown",
   "id": "09f319fb-ff88-4096-8d73-8cd7a88bea88",
   "metadata": {},
   "source": [
    "### Q1. Create a Pandas Series that contains the following data: 4, 8, 15, 16, 23, and 42. Then, print the series."
   ]
  },
  {
   "cell_type": "code",
   "execution_count": 1,
   "id": "6507bf6c-f8b3-4557-abb9-fc52bcd2e940",
   "metadata": {},
   "outputs": [],
   "source": [
    "import pandas as pd"
   ]
  },
  {
   "cell_type": "code",
   "execution_count": 2,
   "id": "7867b78c-0088-4805-bc8c-7432982bb21d",
   "metadata": {},
   "outputs": [],
   "source": [
    "list_of_numbers = ['4', '8', '15', '16', '23']\n",
    "x = pd.Series(list_of_numbers)"
   ]
  },
  {
   "cell_type": "code",
   "execution_count": 3,
   "id": "86d26f2e-cab2-43d4-b7d7-01ef88e0c251",
   "metadata": {},
   "outputs": [
    {
     "data": {
      "text/plain": [
       "0     4\n",
       "1     8\n",
       "2    15\n",
       "3    16\n",
       "4    23\n",
       "dtype: object"
      ]
     },
     "execution_count": 3,
     "metadata": {},
     "output_type": "execute_result"
    }
   ],
   "source": [
    "x"
   ]
  },
  {
   "cell_type": "code",
   "execution_count": 4,
   "id": "d3f27a1e-6aa0-41dc-88be-e7ffcd3c0e8a",
   "metadata": {},
   "outputs": [
    {
     "data": {
      "text/plain": [
       "pandas.core.series.Series"
      ]
     },
     "execution_count": 4,
     "metadata": {},
     "output_type": "execute_result"
    }
   ],
   "source": [
    "type(x)"
   ]
  },
  {
   "cell_type": "markdown",
   "id": "21d3d0ee-ff87-4161-bac5-29048aafe549",
   "metadata": {},
   "source": [
    "### Q2. Create a variable of list type containing 10 elements in it, and apply pandas.Series function on the variable print it."
   ]
  },
  {
   "cell_type": "code",
   "execution_count": 5,
   "id": "c24a8deb-fe03-4c62-b586-ee5c39f82539",
   "metadata": {},
   "outputs": [
    {
     "name": "stdout",
     "output_type": "stream",
     "text": [
      "0     1\n",
      "1     2\n",
      "2     3\n",
      "3     4\n",
      "4     5\n",
      "5     6\n",
      "6     7\n",
      "7     8\n",
      "8     9\n",
      "9    10\n",
      "dtype: object\n"
     ]
    }
   ],
   "source": [
    "variable = ['1', '2', '3', '4', '5', '6', '7', '8', '9', '10']\n",
    "print(pd.Series(variable))"
   ]
  },
  {
   "cell_type": "markdown",
   "id": "3412e15f-635f-46be-837a-51c0c2fda61e",
   "metadata": {},
   "source": [
    "### Create a Pandas DataFrame and print the DataFrame"
   ]
  },
  {
   "cell_type": "code",
   "execution_count": 6,
   "id": "476069e6-cfce-459c-a65a-c842a8732fbc",
   "metadata": {},
   "outputs": [],
   "source": [
    "def createSeries(series_list):\n",
    "    series_list = pd.Series(series_list)\n",
    "    return series_list\n",
    "\n",
    "name = createSeries(['Alice', 'Bob', 'Claire'])\n",
    "age = createSeries([25, 30, 27])\n",
    "gender = createSeries(['Female', 'Male', 'Female'])\n",
    "\n",
    "data = {\n",
    "    'Name' : name,\n",
    "    'Age' : age,\n",
    "    'Gender' : gender\n",
    "}\n",
    "\n",
    "df = pd.concat(data, axis = 1)"
   ]
  },
  {
   "cell_type": "code",
   "execution_count": 7,
   "id": "342710d9-8154-4bcf-ad5b-cf0463b7f2ad",
   "metadata": {},
   "outputs": [
    {
     "data": {
      "text/html": [
       "<div>\n",
       "<style scoped>\n",
       "    .dataframe tbody tr th:only-of-type {\n",
       "        vertical-align: middle;\n",
       "    }\n",
       "\n",
       "    .dataframe tbody tr th {\n",
       "        vertical-align: top;\n",
       "    }\n",
       "\n",
       "    .dataframe thead th {\n",
       "        text-align: right;\n",
       "    }\n",
       "</style>\n",
       "<table border=\"1\" class=\"dataframe\">\n",
       "  <thead>\n",
       "    <tr style=\"text-align: right;\">\n",
       "      <th></th>\n",
       "      <th>Name</th>\n",
       "      <th>Age</th>\n",
       "      <th>Gender</th>\n",
       "    </tr>\n",
       "  </thead>\n",
       "  <tbody>\n",
       "    <tr>\n",
       "      <th>0</th>\n",
       "      <td>Alice</td>\n",
       "      <td>25</td>\n",
       "      <td>Female</td>\n",
       "    </tr>\n",
       "    <tr>\n",
       "      <th>1</th>\n",
       "      <td>Bob</td>\n",
       "      <td>30</td>\n",
       "      <td>Male</td>\n",
       "    </tr>\n",
       "    <tr>\n",
       "      <th>2</th>\n",
       "      <td>Claire</td>\n",
       "      <td>27</td>\n",
       "      <td>Female</td>\n",
       "    </tr>\n",
       "  </tbody>\n",
       "</table>\n",
       "</div>"
      ],
      "text/plain": [
       "     Name  Age  Gender\n",
       "0   Alice   25  Female\n",
       "1     Bob   30    Male\n",
       "2  Claire   27  Female"
      ]
     },
     "execution_count": 7,
     "metadata": {},
     "output_type": "execute_result"
    }
   ],
   "source": [
    "df"
   ]
  },
  {
   "cell_type": "markdown",
   "id": "dd2802de-a813-4422-8bcc-bacd35fa2d8f",
   "metadata": {},
   "source": [
    "### Q4. What is ‘DataFrame’ in pandas and how is it different from pandas.series? Explain with an example."
   ]
  },
  {
   "cell_type": "markdown",
   "id": "9091aa74-072b-4878-abf5-ad63ccfe8781",
   "metadata": {},
   "source": [
    "- DataFrame refers to a data structure that represents data in a 2-dimensional coloumn-row reoresentation like spreadsheets"
   ]
  },
  {
   "cell_type": "markdown",
   "id": "23f0b48e-9a2a-403e-8380-ad2f5c3583b6",
   "metadata": {},
   "source": [
    "- The main difference between DataFrame and Series is that Series a single dimention data type, means it can only represent coloumns as it outputs, while DataFrame being a 2-Dimentionanl data structure, can represent two dimention data"
   ]
  },
  {
   "cell_type": "code",
   "execution_count": 9,
   "id": "0f263f31-31af-43ad-a0ed-67ca8c2f1226",
   "metadata": {},
   "outputs": [],
   "source": [
    "# Creating a series\n",
    "data1 = [10, 20, 30, 40, 50 ,60]\n",
    "index = ['a', 'b', 'c', 'd', 'e', 'f']\n",
    "series = pd.Series(data1, index=index)\n",
    "\n",
    "# Creating a dataframe\n",
    "data2 = {'a' : ['1', '2', '3'],\n",
    "        'b' : ['4', '5', '6']\n",
    "        }\n",
    "df = pd.DataFrame(data2)"
   ]
  },
  {
   "cell_type": "code",
   "execution_count": 10,
   "id": "57ac89a3-a660-400e-8128-35b5c4e734d8",
   "metadata": {},
   "outputs": [
    {
     "data": {
      "text/plain": [
       "a    10\n",
       "b    20\n",
       "c    30\n",
       "d    40\n",
       "e    50\n",
       "f    60\n",
       "dtype: int64"
      ]
     },
     "execution_count": 10,
     "metadata": {},
     "output_type": "execute_result"
    }
   ],
   "source": [
    "series"
   ]
  },
  {
   "cell_type": "code",
   "execution_count": 11,
   "id": "6412ce1c-2640-463c-b85f-ffb03ab34c23",
   "metadata": {},
   "outputs": [
    {
     "data": {
      "text/html": [
       "<div>\n",
       "<style scoped>\n",
       "    .dataframe tbody tr th:only-of-type {\n",
       "        vertical-align: middle;\n",
       "    }\n",
       "\n",
       "    .dataframe tbody tr th {\n",
       "        vertical-align: top;\n",
       "    }\n",
       "\n",
       "    .dataframe thead th {\n",
       "        text-align: right;\n",
       "    }\n",
       "</style>\n",
       "<table border=\"1\" class=\"dataframe\">\n",
       "  <thead>\n",
       "    <tr style=\"text-align: right;\">\n",
       "      <th></th>\n",
       "      <th>a</th>\n",
       "      <th>b</th>\n",
       "    </tr>\n",
       "  </thead>\n",
       "  <tbody>\n",
       "    <tr>\n",
       "      <th>0</th>\n",
       "      <td>1</td>\n",
       "      <td>4</td>\n",
       "    </tr>\n",
       "    <tr>\n",
       "      <th>1</th>\n",
       "      <td>2</td>\n",
       "      <td>5</td>\n",
       "    </tr>\n",
       "    <tr>\n",
       "      <th>2</th>\n",
       "      <td>3</td>\n",
       "      <td>6</td>\n",
       "    </tr>\n",
       "  </tbody>\n",
       "</table>\n",
       "</div>"
      ],
      "text/plain": [
       "   a  b\n",
       "0  1  4\n",
       "1  2  5\n",
       "2  3  6"
      ]
     },
     "execution_count": 11,
     "metadata": {},
     "output_type": "execute_result"
    }
   ],
   "source": [
    "df"
   ]
  },
  {
   "cell_type": "markdown",
   "id": "3626278e-d59e-4c3e-911d-a4fcda1047e6",
   "metadata": {},
   "source": [
    "### What are some common functions you can use to manipulate data in a Pandas DataFrame? Can you give an example of when you might use one of these functions?"
   ]
  },
  {
   "cell_type": "markdown",
   "id": "06107f9d-8831-4ce4-909f-67698f595a94",
   "metadata": {},
   "source": [
    "- **Reading csv files:** this can be used to read data from a csv file that is locally stored to the user's system. Here's a suitable usecase of it"
   ]
  },
  {
   "cell_type": "code",
   "execution_count": null,
   "id": "346220a6-fcc3-46b3-8da0-18e369bad81f",
   "metadata": {},
   "outputs": [],
   "source": [
    "import pandas as pd\n",
    "df = pd.read_csv(file_name)"
   ]
  },
  {
   "cell_type": "markdown",
   "id": "3a6ced92-42d7-4cbe-85dd-4136c73cc0f9",
   "metadata": {},
   "source": [
    "- **Viewing Specific Number of data from a dataset:** This can be used in order to view what type of data is being given to the developer."
   ]
  },
  {
   "cell_type": "code",
   "execution_count": 12,
   "id": "a0fa9728-24d4-44a8-a112-1833dcece8a9",
   "metadata": {},
   "outputs": [
    {
     "data": {
      "text/html": [
       "<div>\n",
       "<style scoped>\n",
       "    .dataframe tbody tr th:only-of-type {\n",
       "        vertical-align: middle;\n",
       "    }\n",
       "\n",
       "    .dataframe tbody tr th {\n",
       "        vertical-align: top;\n",
       "    }\n",
       "\n",
       "    .dataframe thead th {\n",
       "        text-align: right;\n",
       "    }\n",
       "</style>\n",
       "<table border=\"1\" class=\"dataframe\">\n",
       "  <thead>\n",
       "    <tr style=\"text-align: right;\">\n",
       "      <th></th>\n",
       "      <th>a</th>\n",
       "      <th>b</th>\n",
       "    </tr>\n",
       "  </thead>\n",
       "  <tbody>\n",
       "    <tr>\n",
       "      <th>0</th>\n",
       "      <td>1</td>\n",
       "      <td>4</td>\n",
       "    </tr>\n",
       "  </tbody>\n",
       "</table>\n",
       "</div>"
      ],
      "text/plain": [
       "   a  b\n",
       "0  1  4"
      ]
     },
     "execution_count": 12,
     "metadata": {},
     "output_type": "execute_result"
    }
   ],
   "source": [
    "df.head(1)"
   ]
  },
  {
   "cell_type": "markdown",
   "id": "f5b857cb-9096-4c44-9783-ea2a0a8dda9d",
   "metadata": {},
   "source": [
    "### Q6. Which of the following is mutable in nature Series, DataFrame, Panel?"
   ]
  },
  {
   "cell_type": "markdown",
   "id": "ef904920-d0bd-4c00-bb04-0d1cd98d13ac",
   "metadata": {},
   "source": [
    "DataFrame is mutable, series and nature can't be mutable"
   ]
  },
  {
   "cell_type": "markdown",
   "id": "10979bfe-8d30-4fe7-9cd9-efef9596e792",
   "metadata": {},
   "source": [
    "### Q7. Create a DataFrame using multiple Series. Explain with an example."
   ]
  },
  {
   "cell_type": "code",
   "execution_count": 17,
   "id": "28b7ff6d-f731-4af5-a15b-512d532f59cc",
   "metadata": {},
   "outputs": [],
   "source": [
    "def dataframe_creation(series):\n",
    "    series = pd.Series(series)\n",
    "    return series\n",
    "\n",
    "name = dataframe_creation(['Nick', 'Rohan', 'Rahul'])\n",
    "course = dataframe_creation(['DS Masters', 'Java', 'DS Masters'])\n",
    "\n",
    "student_data = {\n",
    "    'Name' : name,\n",
    "    'course' : course\n",
    "}\n",
    "\n",
    "final_data = pd.concat(student_data, axis = 1)"
   ]
  },
  {
   "cell_type": "code",
   "execution_count": 18,
   "id": "20cbc009-7f1f-4016-a8de-ca87e91ca4a9",
   "metadata": {},
   "outputs": [
    {
     "data": {
      "text/html": [
       "<div>\n",
       "<style scoped>\n",
       "    .dataframe tbody tr th:only-of-type {\n",
       "        vertical-align: middle;\n",
       "    }\n",
       "\n",
       "    .dataframe tbody tr th {\n",
       "        vertical-align: top;\n",
       "    }\n",
       "\n",
       "    .dataframe thead th {\n",
       "        text-align: right;\n",
       "    }\n",
       "</style>\n",
       "<table border=\"1\" class=\"dataframe\">\n",
       "  <thead>\n",
       "    <tr style=\"text-align: right;\">\n",
       "      <th></th>\n",
       "      <th>Name</th>\n",
       "      <th>course</th>\n",
       "    </tr>\n",
       "  </thead>\n",
       "  <tbody>\n",
       "    <tr>\n",
       "      <th>0</th>\n",
       "      <td>Nick</td>\n",
       "      <td>DS Masters</td>\n",
       "    </tr>\n",
       "    <tr>\n",
       "      <th>1</th>\n",
       "      <td>Rohan</td>\n",
       "      <td>Java</td>\n",
       "    </tr>\n",
       "    <tr>\n",
       "      <th>2</th>\n",
       "      <td>Rahul</td>\n",
       "      <td>DS Masters</td>\n",
       "    </tr>\n",
       "  </tbody>\n",
       "</table>\n",
       "</div>"
      ],
      "text/plain": [
       "    Name      course\n",
       "0   Nick  DS Masters\n",
       "1  Rohan        Java\n",
       "2  Rahul  DS Masters"
      ]
     },
     "execution_count": 18,
     "metadata": {},
     "output_type": "execute_result"
    }
   ],
   "source": [
    "final_data"
   ]
  },
  {
   "cell_type": "code",
   "execution_count": null,
   "id": "075a4a0b-cf80-4e6d-adf5-7c55593eb046",
   "metadata": {},
   "outputs": [],
   "source": []
  }
 ],
 "metadata": {
  "kernelspec": {
   "display_name": "Python 3 (ipykernel)",
   "language": "python",
   "name": "python3"
  },
  "language_info": {
   "codemirror_mode": {
    "name": "ipython",
    "version": 3
   },
   "file_extension": ".py",
   "mimetype": "text/x-python",
   "name": "python",
   "nbconvert_exporter": "python",
   "pygments_lexer": "ipython3",
   "version": "3.10.8"
  }
 },
 "nbformat": 4,
 "nbformat_minor": 5
}
